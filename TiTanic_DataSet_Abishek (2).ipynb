{
  "nbformat": 4,
  "nbformat_minor": 0,
  "metadata": {
    "colab": {
      "provenance": [],
      "toc_visible": true
    },
    "kernelspec": {
      "name": "python3",
      "display_name": "Python 3"
    },
    "language_info": {
      "name": "python"
    }
  },
  "cells": [
    {
      "cell_type": "markdown",
      "source": [
        "# **About Titanic Dataset**\n",
        "The Titanic dataset is a famous dataset that contains information about passengers aboard the Titanic ship, which sank in 1912 after colliding with an iceberg. The dataset is often used in data science and machine learning education and competitions as a starting point for exploring data analysis and predictive modeling techniques.\n",
        "\n",
        "The Titanic dataset contains information about **1309** passengers, including their age, gender, ticket class, cabin, port of embarkation, and whether they survived or not. The goal of many analyses and models built on the Titanic dataset is to predict whether a given passenger would have survived the disaster.\n",
        "\n",
        "The variables in the Titanic dataset are as follows:\n",
        "**PassengerId: Unique identifier for each passenger\n",
        "Survived: Whether the passenger survived (0 = No, 1 = Yes)\n",
        "Pclass: Ticket class (1 = 1st, 2 = 2nd, 3 = 3rd)\n",
        "Name: Passenger name\n",
        "Sex: Passenger gender\n",
        "Age: Passenger age\n",
        "SibSp: Number of siblings/spouses aboard the Titanic\n",
        "Parch: Number of parents/children aboard the Titanic\n",
        "Ticket: Ticket number\n",
        "Fare: Passenger fare\n",
        "Cabin: Cabin number\n",
        "Embarked: Port of embarkation (C = Cherbourg, Q = Queenstown, S = Southampton)**\n",
        "As mentioned earlier, the main objective of many analyses and models built on the Titanic dataset is to predict whether a given passenger would have survived the disaster, based on their demographic and travel information. This is a **binary classification problem**, where the target variable is **Survived** and the predictors are the other variables in the dataset."
      ],
      "metadata": {
        "id": "jBNWkdbo19-K"
      }
    },
    {
      "cell_type": "code",
      "source": [],
      "metadata": {
        "id": "cz7al-ZKEiHY"
      },
      "execution_count": null,
      "outputs": []
    },
    {
      "cell_type": "code",
      "source": [
        "from google.colab import files\n",
        "\n",
        "uploaded = files.upload()\n",
        "\n",
        "for fn in uploaded.keys():\n",
        "  print('User uploaded file \"{name}\" with length {length} bytes'.format(\n",
        "      name=fn, length=len(uploaded[fn])))"
      ],
      "metadata": {
        "colab": {
          "base_uri": "https://localhost:8080/",
          "height": 90
        },
        "id": "J_siv6VtEpr5",
        "outputId": "d3a41b6c-db58-4c97-d029-b83fe4f0d415"
      },
      "execution_count": null,
      "outputs": [
        {
          "output_type": "display_data",
          "data": {
            "text/plain": [
              "<IPython.core.display.HTML object>"
            ],
            "text/html": [
              "\n",
              "     <input type=\"file\" id=\"files-22ff59c5-4876-45a7-9730-ebe1633d3355\" name=\"files[]\" multiple disabled\n",
              "        style=\"border:none\" />\n",
              "     <output id=\"result-22ff59c5-4876-45a7-9730-ebe1633d3355\">\n",
              "      Upload widget is only available when the cell has been executed in the\n",
              "      current browser session. Please rerun this cell to enable.\n",
              "      </output>\n",
              "      <script>// Copyright 2017 Google LLC\n",
              "//\n",
              "// Licensed under the Apache License, Version 2.0 (the \"License\");\n",
              "// you may not use this file except in compliance with the License.\n",
              "// You may obtain a copy of the License at\n",
              "//\n",
              "//      http://www.apache.org/licenses/LICENSE-2.0\n",
              "//\n",
              "// Unless required by applicable law or agreed to in writing, software\n",
              "// distributed under the License is distributed on an \"AS IS\" BASIS,\n",
              "// WITHOUT WARRANTIES OR CONDITIONS OF ANY KIND, either express or implied.\n",
              "// See the License for the specific language governing permissions and\n",
              "// limitations under the License.\n",
              "\n",
              "/**\n",
              " * @fileoverview Helpers for google.colab Python module.\n",
              " */\n",
              "(function(scope) {\n",
              "function span(text, styleAttributes = {}) {\n",
              "  const element = document.createElement('span');\n",
              "  element.textContent = text;\n",
              "  for (const key of Object.keys(styleAttributes)) {\n",
              "    element.style[key] = styleAttributes[key];\n",
              "  }\n",
              "  return element;\n",
              "}\n",
              "\n",
              "// Max number of bytes which will be uploaded at a time.\n",
              "const MAX_PAYLOAD_SIZE = 100 * 1024;\n",
              "\n",
              "function _uploadFiles(inputId, outputId) {\n",
              "  const steps = uploadFilesStep(inputId, outputId);\n",
              "  const outputElement = document.getElementById(outputId);\n",
              "  // Cache steps on the outputElement to make it available for the next call\n",
              "  // to uploadFilesContinue from Python.\n",
              "  outputElement.steps = steps;\n",
              "\n",
              "  return _uploadFilesContinue(outputId);\n",
              "}\n",
              "\n",
              "// This is roughly an async generator (not supported in the browser yet),\n",
              "// where there are multiple asynchronous steps and the Python side is going\n",
              "// to poll for completion of each step.\n",
              "// This uses a Promise to block the python side on completion of each step,\n",
              "// then passes the result of the previous step as the input to the next step.\n",
              "function _uploadFilesContinue(outputId) {\n",
              "  const outputElement = document.getElementById(outputId);\n",
              "  const steps = outputElement.steps;\n",
              "\n",
              "  const next = steps.next(outputElement.lastPromiseValue);\n",
              "  return Promise.resolve(next.value.promise).then((value) => {\n",
              "    // Cache the last promise value to make it available to the next\n",
              "    // step of the generator.\n",
              "    outputElement.lastPromiseValue = value;\n",
              "    return next.value.response;\n",
              "  });\n",
              "}\n",
              "\n",
              "/**\n",
              " * Generator function which is called between each async step of the upload\n",
              " * process.\n",
              " * @param {string} inputId Element ID of the input file picker element.\n",
              " * @param {string} outputId Element ID of the output display.\n",
              " * @return {!Iterable<!Object>} Iterable of next steps.\n",
              " */\n",
              "function* uploadFilesStep(inputId, outputId) {\n",
              "  const inputElement = document.getElementById(inputId);\n",
              "  inputElement.disabled = false;\n",
              "\n",
              "  const outputElement = document.getElementById(outputId);\n",
              "  outputElement.innerHTML = '';\n",
              "\n",
              "  const pickedPromise = new Promise((resolve) => {\n",
              "    inputElement.addEventListener('change', (e) => {\n",
              "      resolve(e.target.files);\n",
              "    });\n",
              "  });\n",
              "\n",
              "  const cancel = document.createElement('button');\n",
              "  inputElement.parentElement.appendChild(cancel);\n",
              "  cancel.textContent = 'Cancel upload';\n",
              "  const cancelPromise = new Promise((resolve) => {\n",
              "    cancel.onclick = () => {\n",
              "      resolve(null);\n",
              "    };\n",
              "  });\n",
              "\n",
              "  // Wait for the user to pick the files.\n",
              "  const files = yield {\n",
              "    promise: Promise.race([pickedPromise, cancelPromise]),\n",
              "    response: {\n",
              "      action: 'starting',\n",
              "    }\n",
              "  };\n",
              "\n",
              "  cancel.remove();\n",
              "\n",
              "  // Disable the input element since further picks are not allowed.\n",
              "  inputElement.disabled = true;\n",
              "\n",
              "  if (!files) {\n",
              "    return {\n",
              "      response: {\n",
              "        action: 'complete',\n",
              "      }\n",
              "    };\n",
              "  }\n",
              "\n",
              "  for (const file of files) {\n",
              "    const li = document.createElement('li');\n",
              "    li.append(span(file.name, {fontWeight: 'bold'}));\n",
              "    li.append(span(\n",
              "        `(${file.type || 'n/a'}) - ${file.size} bytes, ` +\n",
              "        `last modified: ${\n",
              "            file.lastModifiedDate ? file.lastModifiedDate.toLocaleDateString() :\n",
              "                                    'n/a'} - `));\n",
              "    const percent = span('0% done');\n",
              "    li.appendChild(percent);\n",
              "\n",
              "    outputElement.appendChild(li);\n",
              "\n",
              "    const fileDataPromise = new Promise((resolve) => {\n",
              "      const reader = new FileReader();\n",
              "      reader.onload = (e) => {\n",
              "        resolve(e.target.result);\n",
              "      };\n",
              "      reader.readAsArrayBuffer(file);\n",
              "    });\n",
              "    // Wait for the data to be ready.\n",
              "    let fileData = yield {\n",
              "      promise: fileDataPromise,\n",
              "      response: {\n",
              "        action: 'continue',\n",
              "      }\n",
              "    };\n",
              "\n",
              "    // Use a chunked sending to avoid message size limits. See b/62115660.\n",
              "    let position = 0;\n",
              "    do {\n",
              "      const length = Math.min(fileData.byteLength - position, MAX_PAYLOAD_SIZE);\n",
              "      const chunk = new Uint8Array(fileData, position, length);\n",
              "      position += length;\n",
              "\n",
              "      const base64 = btoa(String.fromCharCode.apply(null, chunk));\n",
              "      yield {\n",
              "        response: {\n",
              "          action: 'append',\n",
              "          file: file.name,\n",
              "          data: base64,\n",
              "        },\n",
              "      };\n",
              "\n",
              "      let percentDone = fileData.byteLength === 0 ?\n",
              "          100 :\n",
              "          Math.round((position / fileData.byteLength) * 100);\n",
              "      percent.textContent = `${percentDone}% done`;\n",
              "\n",
              "    } while (position < fileData.byteLength);\n",
              "  }\n",
              "\n",
              "  // All done.\n",
              "  yield {\n",
              "    response: {\n",
              "      action: 'complete',\n",
              "    }\n",
              "  };\n",
              "}\n",
              "\n",
              "scope.google = scope.google || {};\n",
              "scope.google.colab = scope.google.colab || {};\n",
              "scope.google.colab._files = {\n",
              "  _uploadFiles,\n",
              "  _uploadFilesContinue,\n",
              "};\n",
              "})(self);\n",
              "</script> "
            ]
          },
          "metadata": {}
        },
        {
          "output_type": "stream",
          "name": "stdout",
          "text": [
            "Saving titanic.csv to titanic.csv\n",
            "User uploaded file \"titanic.csv\" with length 90587 bytes\n"
          ]
        }
      ]
    },
    {
      "cell_type": "markdown",
      "source": [
        "# Importing Libraries"
      ],
      "metadata": {
        "id": "EMsud7XP04w_"
      }
    },
    {
      "cell_type": "code",
      "execution_count": null,
      "metadata": {
        "id": "BYeAY-lTiI_i"
      },
      "outputs": [],
      "source": [
        "import pandas as pd\n",
        "import pandas as pd\n",
        "import numpy as np\n",
        "import tensorflow as tf\n",
        "from sklearn.model_selection import train_test_split\n",
        "from sklearn.preprocessing import StandardScaler\n",
        "from tensorflow.keras.models import Sequential\n",
        "from tensorflow.keras.layers import Dense\n"
      ]
    },
    {
      "cell_type": "markdown",
      "source": [
        "# Data Loading"
      ],
      "metadata": {
        "id": "yXf8h-6HQ9zG"
      }
    },
    {
      "cell_type": "code",
      "source": [
        "data=pd.read_csv('/content/titanic.csv')\n",
        "data.head(5)"
      ],
      "metadata": {
        "id": "cjyncM7Mmnnt",
        "colab": {
          "base_uri": "https://localhost:8080/",
          "height": 389
        },
        "outputId": "dae49066-050d-4961-f96b-9dd7bbf94ab1"
      },
      "execution_count": null,
      "outputs": [
        {
          "output_type": "execute_result",
          "data": {
            "text/plain": [
              "   PassengerId  Survived  Pclass  \\\n",
              "0            1         0       3   \n",
              "1            2         1       1   \n",
              "2            3         1       3   \n",
              "3            4         1       1   \n",
              "4            5         0       3   \n",
              "\n",
              "                                                Name     Sex   Age  SibSp  \\\n",
              "0                            Braund, Mr. Owen Harris    male  22.0      1   \n",
              "1  Cumings, Mrs. John Bradley (Florence Briggs Th...  female  38.0      1   \n",
              "2                             Heikkinen, Miss. Laina  female  26.0      0   \n",
              "3       Futrelle, Mrs. Jacques Heath (Lily May Peel)  female  35.0      1   \n",
              "4                           Allen, Mr. William Henry    male  35.0      0   \n",
              "\n",
              "   Parch            Ticket     Fare Cabin Embarked  \n",
              "0      0         A/5 21171   7.2500   NaN        S  \n",
              "1      0          PC 17599  71.2833   C85        C  \n",
              "2      0  STON/O2. 3101282   7.9250   NaN        S  \n",
              "3      0            113803  53.1000  C123        S  \n",
              "4      0            373450   8.0500   NaN        S  "
            ],
            "text/html": [
              "\n",
              "  <div id=\"df-912544a1-fc30-4031-bd78-9cd55eec6515\">\n",
              "    <div class=\"colab-df-container\">\n",
              "      <div>\n",
              "<style scoped>\n",
              "    .dataframe tbody tr th:only-of-type {\n",
              "        vertical-align: middle;\n",
              "    }\n",
              "\n",
              "    .dataframe tbody tr th {\n",
              "        vertical-align: top;\n",
              "    }\n",
              "\n",
              "    .dataframe thead th {\n",
              "        text-align: right;\n",
              "    }\n",
              "</style>\n",
              "<table border=\"1\" class=\"dataframe\">\n",
              "  <thead>\n",
              "    <tr style=\"text-align: right;\">\n",
              "      <th></th>\n",
              "      <th>PassengerId</th>\n",
              "      <th>Survived</th>\n",
              "      <th>Pclass</th>\n",
              "      <th>Name</th>\n",
              "      <th>Sex</th>\n",
              "      <th>Age</th>\n",
              "      <th>SibSp</th>\n",
              "      <th>Parch</th>\n",
              "      <th>Ticket</th>\n",
              "      <th>Fare</th>\n",
              "      <th>Cabin</th>\n",
              "      <th>Embarked</th>\n",
              "    </tr>\n",
              "  </thead>\n",
              "  <tbody>\n",
              "    <tr>\n",
              "      <th>0</th>\n",
              "      <td>1</td>\n",
              "      <td>0</td>\n",
              "      <td>3</td>\n",
              "      <td>Braund, Mr. Owen Harris</td>\n",
              "      <td>male</td>\n",
              "      <td>22.0</td>\n",
              "      <td>1</td>\n",
              "      <td>0</td>\n",
              "      <td>A/5 21171</td>\n",
              "      <td>7.2500</td>\n",
              "      <td>NaN</td>\n",
              "      <td>S</td>\n",
              "    </tr>\n",
              "    <tr>\n",
              "      <th>1</th>\n",
              "      <td>2</td>\n",
              "      <td>1</td>\n",
              "      <td>1</td>\n",
              "      <td>Cumings, Mrs. John Bradley (Florence Briggs Th...</td>\n",
              "      <td>female</td>\n",
              "      <td>38.0</td>\n",
              "      <td>1</td>\n",
              "      <td>0</td>\n",
              "      <td>PC 17599</td>\n",
              "      <td>71.2833</td>\n",
              "      <td>C85</td>\n",
              "      <td>C</td>\n",
              "    </tr>\n",
              "    <tr>\n",
              "      <th>2</th>\n",
              "      <td>3</td>\n",
              "      <td>1</td>\n",
              "      <td>3</td>\n",
              "      <td>Heikkinen, Miss. Laina</td>\n",
              "      <td>female</td>\n",
              "      <td>26.0</td>\n",
              "      <td>0</td>\n",
              "      <td>0</td>\n",
              "      <td>STON/O2. 3101282</td>\n",
              "      <td>7.9250</td>\n",
              "      <td>NaN</td>\n",
              "      <td>S</td>\n",
              "    </tr>\n",
              "    <tr>\n",
              "      <th>3</th>\n",
              "      <td>4</td>\n",
              "      <td>1</td>\n",
              "      <td>1</td>\n",
              "      <td>Futrelle, Mrs. Jacques Heath (Lily May Peel)</td>\n",
              "      <td>female</td>\n",
              "      <td>35.0</td>\n",
              "      <td>1</td>\n",
              "      <td>0</td>\n",
              "      <td>113803</td>\n",
              "      <td>53.1000</td>\n",
              "      <td>C123</td>\n",
              "      <td>S</td>\n",
              "    </tr>\n",
              "    <tr>\n",
              "      <th>4</th>\n",
              "      <td>5</td>\n",
              "      <td>0</td>\n",
              "      <td>3</td>\n",
              "      <td>Allen, Mr. William Henry</td>\n",
              "      <td>male</td>\n",
              "      <td>35.0</td>\n",
              "      <td>0</td>\n",
              "      <td>0</td>\n",
              "      <td>373450</td>\n",
              "      <td>8.0500</td>\n",
              "      <td>NaN</td>\n",
              "      <td>S</td>\n",
              "    </tr>\n",
              "  </tbody>\n",
              "</table>\n",
              "</div>\n",
              "      <button class=\"colab-df-convert\" onclick=\"convertToInteractive('df-912544a1-fc30-4031-bd78-9cd55eec6515')\"\n",
              "              title=\"Convert this dataframe to an interactive table.\"\n",
              "              style=\"display:none;\">\n",
              "        \n",
              "  <svg xmlns=\"http://www.w3.org/2000/svg\" height=\"24px\"viewBox=\"0 0 24 24\"\n",
              "       width=\"24px\">\n",
              "    <path d=\"M0 0h24v24H0V0z\" fill=\"none\"/>\n",
              "    <path d=\"M18.56 5.44l.94 2.06.94-2.06 2.06-.94-2.06-.94-.94-2.06-.94 2.06-2.06.94zm-11 1L8.5 8.5l.94-2.06 2.06-.94-2.06-.94L8.5 2.5l-.94 2.06-2.06.94zm10 10l.94 2.06.94-2.06 2.06-.94-2.06-.94-.94-2.06-.94 2.06-2.06.94z\"/><path d=\"M17.41 7.96l-1.37-1.37c-.4-.4-.92-.59-1.43-.59-.52 0-1.04.2-1.43.59L10.3 9.45l-7.72 7.72c-.78.78-.78 2.05 0 2.83L4 21.41c.39.39.9.59 1.41.59.51 0 1.02-.2 1.41-.59l7.78-7.78 2.81-2.81c.8-.78.8-2.07 0-2.86zM5.41 20L4 18.59l7.72-7.72 1.47 1.35L5.41 20z\"/>\n",
              "  </svg>\n",
              "      </button>\n",
              "      \n",
              "  <style>\n",
              "    .colab-df-container {\n",
              "      display:flex;\n",
              "      flex-wrap:wrap;\n",
              "      gap: 12px;\n",
              "    }\n",
              "\n",
              "    .colab-df-convert {\n",
              "      background-color: #E8F0FE;\n",
              "      border: none;\n",
              "      border-radius: 50%;\n",
              "      cursor: pointer;\n",
              "      display: none;\n",
              "      fill: #1967D2;\n",
              "      height: 32px;\n",
              "      padding: 0 0 0 0;\n",
              "      width: 32px;\n",
              "    }\n",
              "\n",
              "    .colab-df-convert:hover {\n",
              "      background-color: #E2EBFA;\n",
              "      box-shadow: 0px 1px 2px rgba(60, 64, 67, 0.3), 0px 1px 3px 1px rgba(60, 64, 67, 0.15);\n",
              "      fill: #174EA6;\n",
              "    }\n",
              "\n",
              "    [theme=dark] .colab-df-convert {\n",
              "      background-color: #3B4455;\n",
              "      fill: #D2E3FC;\n",
              "    }\n",
              "\n",
              "    [theme=dark] .colab-df-convert:hover {\n",
              "      background-color: #434B5C;\n",
              "      box-shadow: 0px 1px 3px 1px rgba(0, 0, 0, 0.15);\n",
              "      filter: drop-shadow(0px 1px 2px rgba(0, 0, 0, 0.3));\n",
              "      fill: #FFFFFF;\n",
              "    }\n",
              "  </style>\n",
              "\n",
              "      <script>\n",
              "        const buttonEl =\n",
              "          document.querySelector('#df-912544a1-fc30-4031-bd78-9cd55eec6515 button.colab-df-convert');\n",
              "        buttonEl.style.display =\n",
              "          google.colab.kernel.accessAllowed ? 'block' : 'none';\n",
              "\n",
              "        async function convertToInteractive(key) {\n",
              "          const element = document.querySelector('#df-912544a1-fc30-4031-bd78-9cd55eec6515');\n",
              "          const dataTable =\n",
              "            await google.colab.kernel.invokeFunction('convertToInteractive',\n",
              "                                                     [key], {});\n",
              "          if (!dataTable) return;\n",
              "\n",
              "          const docLinkHtml = 'Like what you see? Visit the ' +\n",
              "            '<a target=\"_blank\" href=https://colab.research.google.com/notebooks/data_table.ipynb>data table notebook</a>'\n",
              "            + ' to learn more about interactive tables.';\n",
              "          element.innerHTML = '';\n",
              "          dataTable['output_type'] = 'display_data';\n",
              "          await google.colab.output.renderOutput(dataTable, element);\n",
              "          const docLink = document.createElement('div');\n",
              "          docLink.innerHTML = docLinkHtml;\n",
              "          element.appendChild(docLink);\n",
              "        }\n",
              "      </script>\n",
              "    </div>\n",
              "  </div>\n",
              "  "
            ]
          },
          "metadata": {},
          "execution_count": 157
        }
      ]
    },
    {
      "cell_type": "markdown",
      "source": [
        "# Data shuffling"
      ],
      "metadata": {
        "id": "PB19B4Lg1C1r"
      }
    },
    {
      "cell_type": "code",
      "source": [
        "data = data.sample(frac=1, random_state=42)\n"
      ],
      "metadata": {
        "id": "54HNPmHlmxbH"
      },
      "execution_count": null,
      "outputs": []
    },
    {
      "cell_type": "code",
      "source": [
        "data.tail(5)"
      ],
      "metadata": {
        "colab": {
          "base_uri": "https://localhost:8080/",
          "height": 371
        },
        "id": "wPpk42WenKa7",
        "outputId": "d7256bc6-5feb-4b58-eaa1-7c7ba8f12768"
      },
      "execution_count": null,
      "outputs": [
        {
          "output_type": "execute_result",
          "data": {
            "text/plain": [
              "      PassengerId  Survived  Pclass  \\\n",
              "1095         1096         0       2   \n",
              "1130         1131         1       1   \n",
              "1294         1295         0       1   \n",
              "860           861         0       3   \n",
              "1126         1127         0       3   \n",
              "\n",
              "                                             Name     Sex   Age  SibSp  Parch  \\\n",
              "1095                     Andrew, Mr. Frank Thomas    male  25.0      0      0   \n",
              "1130  Douglas, Mrs. Walter Donald (Mahala Dutton)  female  48.0      1      0   \n",
              "1294                       Carrau, Mr. Jose Pedro    male  17.0      0      0   \n",
              "860                       Hansen, Mr. Claus Peter    male  41.0      2      0   \n",
              "1126                       Vendel, Mr. Olof Edvin    male  20.0      0      0   \n",
              "\n",
              "          Ticket      Fare Cabin Embarked  \n",
              "1095  C.A. 34050   10.5000   NaN        S  \n",
              "1130    PC 17761  106.4250   C86        C  \n",
              "1294      113059   47.1000   NaN        S  \n",
              "860       350026   14.1083   NaN        S  \n",
              "1126      350416    7.8542   NaN        S  "
            ],
            "text/html": [
              "\n",
              "  <div id=\"df-9057dd06-87bd-4956-8916-56e77db6b21d\">\n",
              "    <div class=\"colab-df-container\">\n",
              "      <div>\n",
              "<style scoped>\n",
              "    .dataframe tbody tr th:only-of-type {\n",
              "        vertical-align: middle;\n",
              "    }\n",
              "\n",
              "    .dataframe tbody tr th {\n",
              "        vertical-align: top;\n",
              "    }\n",
              "\n",
              "    .dataframe thead th {\n",
              "        text-align: right;\n",
              "    }\n",
              "</style>\n",
              "<table border=\"1\" class=\"dataframe\">\n",
              "  <thead>\n",
              "    <tr style=\"text-align: right;\">\n",
              "      <th></th>\n",
              "      <th>PassengerId</th>\n",
              "      <th>Survived</th>\n",
              "      <th>Pclass</th>\n",
              "      <th>Name</th>\n",
              "      <th>Sex</th>\n",
              "      <th>Age</th>\n",
              "      <th>SibSp</th>\n",
              "      <th>Parch</th>\n",
              "      <th>Ticket</th>\n",
              "      <th>Fare</th>\n",
              "      <th>Cabin</th>\n",
              "      <th>Embarked</th>\n",
              "    </tr>\n",
              "  </thead>\n",
              "  <tbody>\n",
              "    <tr>\n",
              "      <th>1095</th>\n",
              "      <td>1096</td>\n",
              "      <td>0</td>\n",
              "      <td>2</td>\n",
              "      <td>Andrew, Mr. Frank Thomas</td>\n",
              "      <td>male</td>\n",
              "      <td>25.0</td>\n",
              "      <td>0</td>\n",
              "      <td>0</td>\n",
              "      <td>C.A. 34050</td>\n",
              "      <td>10.5000</td>\n",
              "      <td>NaN</td>\n",
              "      <td>S</td>\n",
              "    </tr>\n",
              "    <tr>\n",
              "      <th>1130</th>\n",
              "      <td>1131</td>\n",
              "      <td>1</td>\n",
              "      <td>1</td>\n",
              "      <td>Douglas, Mrs. Walter Donald (Mahala Dutton)</td>\n",
              "      <td>female</td>\n",
              "      <td>48.0</td>\n",
              "      <td>1</td>\n",
              "      <td>0</td>\n",
              "      <td>PC 17761</td>\n",
              "      <td>106.4250</td>\n",
              "      <td>C86</td>\n",
              "      <td>C</td>\n",
              "    </tr>\n",
              "    <tr>\n",
              "      <th>1294</th>\n",
              "      <td>1295</td>\n",
              "      <td>0</td>\n",
              "      <td>1</td>\n",
              "      <td>Carrau, Mr. Jose Pedro</td>\n",
              "      <td>male</td>\n",
              "      <td>17.0</td>\n",
              "      <td>0</td>\n",
              "      <td>0</td>\n",
              "      <td>113059</td>\n",
              "      <td>47.1000</td>\n",
              "      <td>NaN</td>\n",
              "      <td>S</td>\n",
              "    </tr>\n",
              "    <tr>\n",
              "      <th>860</th>\n",
              "      <td>861</td>\n",
              "      <td>0</td>\n",
              "      <td>3</td>\n",
              "      <td>Hansen, Mr. Claus Peter</td>\n",
              "      <td>male</td>\n",
              "      <td>41.0</td>\n",
              "      <td>2</td>\n",
              "      <td>0</td>\n",
              "      <td>350026</td>\n",
              "      <td>14.1083</td>\n",
              "      <td>NaN</td>\n",
              "      <td>S</td>\n",
              "    </tr>\n",
              "    <tr>\n",
              "      <th>1126</th>\n",
              "      <td>1127</td>\n",
              "      <td>0</td>\n",
              "      <td>3</td>\n",
              "      <td>Vendel, Mr. Olof Edvin</td>\n",
              "      <td>male</td>\n",
              "      <td>20.0</td>\n",
              "      <td>0</td>\n",
              "      <td>0</td>\n",
              "      <td>350416</td>\n",
              "      <td>7.8542</td>\n",
              "      <td>NaN</td>\n",
              "      <td>S</td>\n",
              "    </tr>\n",
              "  </tbody>\n",
              "</table>\n",
              "</div>\n",
              "      <button class=\"colab-df-convert\" onclick=\"convertToInteractive('df-9057dd06-87bd-4956-8916-56e77db6b21d')\"\n",
              "              title=\"Convert this dataframe to an interactive table.\"\n",
              "              style=\"display:none;\">\n",
              "        \n",
              "  <svg xmlns=\"http://www.w3.org/2000/svg\" height=\"24px\"viewBox=\"0 0 24 24\"\n",
              "       width=\"24px\">\n",
              "    <path d=\"M0 0h24v24H0V0z\" fill=\"none\"/>\n",
              "    <path d=\"M18.56 5.44l.94 2.06.94-2.06 2.06-.94-2.06-.94-.94-2.06-.94 2.06-2.06.94zm-11 1L8.5 8.5l.94-2.06 2.06-.94-2.06-.94L8.5 2.5l-.94 2.06-2.06.94zm10 10l.94 2.06.94-2.06 2.06-.94-2.06-.94-.94-2.06-.94 2.06-2.06.94z\"/><path d=\"M17.41 7.96l-1.37-1.37c-.4-.4-.92-.59-1.43-.59-.52 0-1.04.2-1.43.59L10.3 9.45l-7.72 7.72c-.78.78-.78 2.05 0 2.83L4 21.41c.39.39.9.59 1.41.59.51 0 1.02-.2 1.41-.59l7.78-7.78 2.81-2.81c.8-.78.8-2.07 0-2.86zM5.41 20L4 18.59l7.72-7.72 1.47 1.35L5.41 20z\"/>\n",
              "  </svg>\n",
              "      </button>\n",
              "      \n",
              "  <style>\n",
              "    .colab-df-container {\n",
              "      display:flex;\n",
              "      flex-wrap:wrap;\n",
              "      gap: 12px;\n",
              "    }\n",
              "\n",
              "    .colab-df-convert {\n",
              "      background-color: #E8F0FE;\n",
              "      border: none;\n",
              "      border-radius: 50%;\n",
              "      cursor: pointer;\n",
              "      display: none;\n",
              "      fill: #1967D2;\n",
              "      height: 32px;\n",
              "      padding: 0 0 0 0;\n",
              "      width: 32px;\n",
              "    }\n",
              "\n",
              "    .colab-df-convert:hover {\n",
              "      background-color: #E2EBFA;\n",
              "      box-shadow: 0px 1px 2px rgba(60, 64, 67, 0.3), 0px 1px 3px 1px rgba(60, 64, 67, 0.15);\n",
              "      fill: #174EA6;\n",
              "    }\n",
              "\n",
              "    [theme=dark] .colab-df-convert {\n",
              "      background-color: #3B4455;\n",
              "      fill: #D2E3FC;\n",
              "    }\n",
              "\n",
              "    [theme=dark] .colab-df-convert:hover {\n",
              "      background-color: #434B5C;\n",
              "      box-shadow: 0px 1px 3px 1px rgba(0, 0, 0, 0.15);\n",
              "      filter: drop-shadow(0px 1px 2px rgba(0, 0, 0, 0.3));\n",
              "      fill: #FFFFFF;\n",
              "    }\n",
              "  </style>\n",
              "\n",
              "      <script>\n",
              "        const buttonEl =\n",
              "          document.querySelector('#df-9057dd06-87bd-4956-8916-56e77db6b21d button.colab-df-convert');\n",
              "        buttonEl.style.display =\n",
              "          google.colab.kernel.accessAllowed ? 'block' : 'none';\n",
              "\n",
              "        async function convertToInteractive(key) {\n",
              "          const element = document.querySelector('#df-9057dd06-87bd-4956-8916-56e77db6b21d');\n",
              "          const dataTable =\n",
              "            await google.colab.kernel.invokeFunction('convertToInteractive',\n",
              "                                                     [key], {});\n",
              "          if (!dataTable) return;\n",
              "\n",
              "          const docLinkHtml = 'Like what you see? Visit the ' +\n",
              "            '<a target=\"_blank\" href=https://colab.research.google.com/notebooks/data_table.ipynb>data table notebook</a>'\n",
              "            + ' to learn more about interactive tables.';\n",
              "          element.innerHTML = '';\n",
              "          dataTable['output_type'] = 'display_data';\n",
              "          await google.colab.output.renderOutput(dataTable, element);\n",
              "          const docLink = document.createElement('div');\n",
              "          docLink.innerHTML = docLinkHtml;\n",
              "          element.appendChild(docLink);\n",
              "        }\n",
              "      </script>\n",
              "    </div>\n",
              "  </div>\n",
              "  "
            ]
          },
          "metadata": {},
          "execution_count": 159
        }
      ]
    },
    {
      "cell_type": "markdown",
      "source": [
        "# Data Dimention:- No. of Rows and Columns"
      ],
      "metadata": {
        "id": "ZyK0O1he1IrL"
      }
    },
    {
      "cell_type": "code",
      "source": [
        "data.shape"
      ],
      "metadata": {
        "colab": {
          "base_uri": "https://localhost:8080/"
        },
        "id": "rHSVt7w-m_up",
        "outputId": "d1c57d07-4982-45d3-9353-996b90b391e8"
      },
      "execution_count": null,
      "outputs": [
        {
          "output_type": "execute_result",
          "data": {
            "text/plain": [
              "(1309, 12)"
            ]
          },
          "metadata": {},
          "execution_count": 160
        }
      ]
    },
    {
      "cell_type": "markdown",
      "source": [],
      "metadata": {
        "id": "VSaXmOWA1VSh"
      }
    },
    {
      "cell_type": "markdown",
      "source": [],
      "metadata": {
        "id": "IbRGnztw17n4"
      }
    },
    {
      "cell_type": "code",
      "source": [
        "print(\"Number of Rows\",data.shape[0])\n",
        "print(\"Number of Columns\",data.shape[1])"
      ],
      "metadata": {
        "colab": {
          "base_uri": "https://localhost:8080/"
        },
        "id": "_hOu-QxbnEi0",
        "outputId": "5550cced-6596-4c78-b830-33b948a41a60"
      },
      "execution_count": null,
      "outputs": [
        {
          "output_type": "stream",
          "name": "stdout",
          "text": [
            "Number of Rows 1309\n",
            "Number of Columns 12\n"
          ]
        }
      ]
    },
    {
      "cell_type": "code",
      "source": [
        "data.info()\n"
      ],
      "metadata": {
        "colab": {
          "base_uri": "https://localhost:8080/"
        },
        "id": "rvhqwQhWnSDG",
        "outputId": "48b12ac5-ca9f-4e9d-9fb0-7648aef9ce1e"
      },
      "execution_count": null,
      "outputs": [
        {
          "output_type": "stream",
          "name": "stdout",
          "text": [
            "<class 'pandas.core.frame.DataFrame'>\n",
            "Int64Index: 1309 entries, 1148 to 1126\n",
            "Data columns (total 12 columns):\n",
            " #   Column       Non-Null Count  Dtype  \n",
            "---  ------       --------------  -----  \n",
            " 0   PassengerId  1309 non-null   int64  \n",
            " 1   Survived     1309 non-null   int64  \n",
            " 2   Pclass       1309 non-null   int64  \n",
            " 3   Name         1309 non-null   object \n",
            " 4   Sex          1309 non-null   object \n",
            " 5   Age          1046 non-null   float64\n",
            " 6   SibSp        1309 non-null   int64  \n",
            " 7   Parch        1309 non-null   int64  \n",
            " 8   Ticket       1309 non-null   object \n",
            " 9   Fare         1308 non-null   float64\n",
            " 10  Cabin        295 non-null    object \n",
            " 11  Embarked     1307 non-null   object \n",
            "dtypes: float64(2), int64(5), object(5)\n",
            "memory usage: 132.9+ KB\n"
          ]
        }
      ]
    },
    {
      "cell_type": "markdown",
      "source": [
        "# Get Overall Statistics About The Dataframe"
      ],
      "metadata": {
        "id": "9TYxyHmAwL3D"
      }
    },
    {
      "cell_type": "code",
      "source": [
        "data.describe(include='all')\n"
      ],
      "metadata": {
        "colab": {
          "base_uri": "https://localhost:8080/",
          "height": 493
        },
        "id": "t8btQVE8nVko",
        "outputId": "8a0c8d7c-df14-41a7-ce94-0ca5cc7ec634"
      },
      "execution_count": null,
      "outputs": [
        {
          "output_type": "execute_result",
          "data": {
            "text/plain": [
              "        PassengerId     Survived       Pclass              Name   Sex  \\\n",
              "count   1309.000000  1309.000000  1309.000000              1309  1309   \n",
              "unique          NaN          NaN          NaN              1307     2   \n",
              "top             NaN          NaN          NaN  Kelly, Mr. James  male   \n",
              "freq            NaN          NaN          NaN                 2   843   \n",
              "mean     655.000000     0.377387     2.294882               NaN   NaN   \n",
              "std      378.020061     0.484918     0.837836               NaN   NaN   \n",
              "min        1.000000     0.000000     1.000000               NaN   NaN   \n",
              "25%      328.000000     0.000000     2.000000               NaN   NaN   \n",
              "50%      655.000000     0.000000     3.000000               NaN   NaN   \n",
              "75%      982.000000     1.000000     3.000000               NaN   NaN   \n",
              "max     1309.000000     1.000000     3.000000               NaN   NaN   \n",
              "\n",
              "                Age        SibSp        Parch    Ticket         Fare  \\\n",
              "count   1046.000000  1309.000000  1309.000000      1309  1308.000000   \n",
              "unique          NaN          NaN          NaN       929          NaN   \n",
              "top             NaN          NaN          NaN  CA. 2343          NaN   \n",
              "freq            NaN          NaN          NaN        11          NaN   \n",
              "mean      29.881138     0.498854     0.385027       NaN    33.295479   \n",
              "std       14.413493     1.041658     0.865560       NaN    51.758668   \n",
              "min        0.170000     0.000000     0.000000       NaN     0.000000   \n",
              "25%       21.000000     0.000000     0.000000       NaN     7.895800   \n",
              "50%       28.000000     0.000000     0.000000       NaN    14.454200   \n",
              "75%       39.000000     1.000000     0.000000       NaN    31.275000   \n",
              "max       80.000000     8.000000     9.000000       NaN   512.329200   \n",
              "\n",
              "              Cabin Embarked  \n",
              "count           295     1307  \n",
              "unique          186        3  \n",
              "top     C23 C25 C27        S  \n",
              "freq              6      914  \n",
              "mean            NaN      NaN  \n",
              "std             NaN      NaN  \n",
              "min             NaN      NaN  \n",
              "25%             NaN      NaN  \n",
              "50%             NaN      NaN  \n",
              "75%             NaN      NaN  \n",
              "max             NaN      NaN  "
            ],
            "text/html": [
              "\n",
              "  <div id=\"df-261b0bbc-5399-4b23-a032-39de6593a3b4\">\n",
              "    <div class=\"colab-df-container\">\n",
              "      <div>\n",
              "<style scoped>\n",
              "    .dataframe tbody tr th:only-of-type {\n",
              "        vertical-align: middle;\n",
              "    }\n",
              "\n",
              "    .dataframe tbody tr th {\n",
              "        vertical-align: top;\n",
              "    }\n",
              "\n",
              "    .dataframe thead th {\n",
              "        text-align: right;\n",
              "    }\n",
              "</style>\n",
              "<table border=\"1\" class=\"dataframe\">\n",
              "  <thead>\n",
              "    <tr style=\"text-align: right;\">\n",
              "      <th></th>\n",
              "      <th>PassengerId</th>\n",
              "      <th>Survived</th>\n",
              "      <th>Pclass</th>\n",
              "      <th>Name</th>\n",
              "      <th>Sex</th>\n",
              "      <th>Age</th>\n",
              "      <th>SibSp</th>\n",
              "      <th>Parch</th>\n",
              "      <th>Ticket</th>\n",
              "      <th>Fare</th>\n",
              "      <th>Cabin</th>\n",
              "      <th>Embarked</th>\n",
              "    </tr>\n",
              "  </thead>\n",
              "  <tbody>\n",
              "    <tr>\n",
              "      <th>count</th>\n",
              "      <td>1309.000000</td>\n",
              "      <td>1309.000000</td>\n",
              "      <td>1309.000000</td>\n",
              "      <td>1309</td>\n",
              "      <td>1309</td>\n",
              "      <td>1046.000000</td>\n",
              "      <td>1309.000000</td>\n",
              "      <td>1309.000000</td>\n",
              "      <td>1309</td>\n",
              "      <td>1308.000000</td>\n",
              "      <td>295</td>\n",
              "      <td>1307</td>\n",
              "    </tr>\n",
              "    <tr>\n",
              "      <th>unique</th>\n",
              "      <td>NaN</td>\n",
              "      <td>NaN</td>\n",
              "      <td>NaN</td>\n",
              "      <td>1307</td>\n",
              "      <td>2</td>\n",
              "      <td>NaN</td>\n",
              "      <td>NaN</td>\n",
              "      <td>NaN</td>\n",
              "      <td>929</td>\n",
              "      <td>NaN</td>\n",
              "      <td>186</td>\n",
              "      <td>3</td>\n",
              "    </tr>\n",
              "    <tr>\n",
              "      <th>top</th>\n",
              "      <td>NaN</td>\n",
              "      <td>NaN</td>\n",
              "      <td>NaN</td>\n",
              "      <td>Kelly, Mr. James</td>\n",
              "      <td>male</td>\n",
              "      <td>NaN</td>\n",
              "      <td>NaN</td>\n",
              "      <td>NaN</td>\n",
              "      <td>CA. 2343</td>\n",
              "      <td>NaN</td>\n",
              "      <td>C23 C25 C27</td>\n",
              "      <td>S</td>\n",
              "    </tr>\n",
              "    <tr>\n",
              "      <th>freq</th>\n",
              "      <td>NaN</td>\n",
              "      <td>NaN</td>\n",
              "      <td>NaN</td>\n",
              "      <td>2</td>\n",
              "      <td>843</td>\n",
              "      <td>NaN</td>\n",
              "      <td>NaN</td>\n",
              "      <td>NaN</td>\n",
              "      <td>11</td>\n",
              "      <td>NaN</td>\n",
              "      <td>6</td>\n",
              "      <td>914</td>\n",
              "    </tr>\n",
              "    <tr>\n",
              "      <th>mean</th>\n",
              "      <td>655.000000</td>\n",
              "      <td>0.377387</td>\n",
              "      <td>2.294882</td>\n",
              "      <td>NaN</td>\n",
              "      <td>NaN</td>\n",
              "      <td>29.881138</td>\n",
              "      <td>0.498854</td>\n",
              "      <td>0.385027</td>\n",
              "      <td>NaN</td>\n",
              "      <td>33.295479</td>\n",
              "      <td>NaN</td>\n",
              "      <td>NaN</td>\n",
              "    </tr>\n",
              "    <tr>\n",
              "      <th>std</th>\n",
              "      <td>378.020061</td>\n",
              "      <td>0.484918</td>\n",
              "      <td>0.837836</td>\n",
              "      <td>NaN</td>\n",
              "      <td>NaN</td>\n",
              "      <td>14.413493</td>\n",
              "      <td>1.041658</td>\n",
              "      <td>0.865560</td>\n",
              "      <td>NaN</td>\n",
              "      <td>51.758668</td>\n",
              "      <td>NaN</td>\n",
              "      <td>NaN</td>\n",
              "    </tr>\n",
              "    <tr>\n",
              "      <th>min</th>\n",
              "      <td>1.000000</td>\n",
              "      <td>0.000000</td>\n",
              "      <td>1.000000</td>\n",
              "      <td>NaN</td>\n",
              "      <td>NaN</td>\n",
              "      <td>0.170000</td>\n",
              "      <td>0.000000</td>\n",
              "      <td>0.000000</td>\n",
              "      <td>NaN</td>\n",
              "      <td>0.000000</td>\n",
              "      <td>NaN</td>\n",
              "      <td>NaN</td>\n",
              "    </tr>\n",
              "    <tr>\n",
              "      <th>25%</th>\n",
              "      <td>328.000000</td>\n",
              "      <td>0.000000</td>\n",
              "      <td>2.000000</td>\n",
              "      <td>NaN</td>\n",
              "      <td>NaN</td>\n",
              "      <td>21.000000</td>\n",
              "      <td>0.000000</td>\n",
              "      <td>0.000000</td>\n",
              "      <td>NaN</td>\n",
              "      <td>7.895800</td>\n",
              "      <td>NaN</td>\n",
              "      <td>NaN</td>\n",
              "    </tr>\n",
              "    <tr>\n",
              "      <th>50%</th>\n",
              "      <td>655.000000</td>\n",
              "      <td>0.000000</td>\n",
              "      <td>3.000000</td>\n",
              "      <td>NaN</td>\n",
              "      <td>NaN</td>\n",
              "      <td>28.000000</td>\n",
              "      <td>0.000000</td>\n",
              "      <td>0.000000</td>\n",
              "      <td>NaN</td>\n",
              "      <td>14.454200</td>\n",
              "      <td>NaN</td>\n",
              "      <td>NaN</td>\n",
              "    </tr>\n",
              "    <tr>\n",
              "      <th>75%</th>\n",
              "      <td>982.000000</td>\n",
              "      <td>1.000000</td>\n",
              "      <td>3.000000</td>\n",
              "      <td>NaN</td>\n",
              "      <td>NaN</td>\n",
              "      <td>39.000000</td>\n",
              "      <td>1.000000</td>\n",
              "      <td>0.000000</td>\n",
              "      <td>NaN</td>\n",
              "      <td>31.275000</td>\n",
              "      <td>NaN</td>\n",
              "      <td>NaN</td>\n",
              "    </tr>\n",
              "    <tr>\n",
              "      <th>max</th>\n",
              "      <td>1309.000000</td>\n",
              "      <td>1.000000</td>\n",
              "      <td>3.000000</td>\n",
              "      <td>NaN</td>\n",
              "      <td>NaN</td>\n",
              "      <td>80.000000</td>\n",
              "      <td>8.000000</td>\n",
              "      <td>9.000000</td>\n",
              "      <td>NaN</td>\n",
              "      <td>512.329200</td>\n",
              "      <td>NaN</td>\n",
              "      <td>NaN</td>\n",
              "    </tr>\n",
              "  </tbody>\n",
              "</table>\n",
              "</div>\n",
              "      <button class=\"colab-df-convert\" onclick=\"convertToInteractive('df-261b0bbc-5399-4b23-a032-39de6593a3b4')\"\n",
              "              title=\"Convert this dataframe to an interactive table.\"\n",
              "              style=\"display:none;\">\n",
              "        \n",
              "  <svg xmlns=\"http://www.w3.org/2000/svg\" height=\"24px\"viewBox=\"0 0 24 24\"\n",
              "       width=\"24px\">\n",
              "    <path d=\"M0 0h24v24H0V0z\" fill=\"none\"/>\n",
              "    <path d=\"M18.56 5.44l.94 2.06.94-2.06 2.06-.94-2.06-.94-.94-2.06-.94 2.06-2.06.94zm-11 1L8.5 8.5l.94-2.06 2.06-.94-2.06-.94L8.5 2.5l-.94 2.06-2.06.94zm10 10l.94 2.06.94-2.06 2.06-.94-2.06-.94-.94-2.06-.94 2.06-2.06.94z\"/><path d=\"M17.41 7.96l-1.37-1.37c-.4-.4-.92-.59-1.43-.59-.52 0-1.04.2-1.43.59L10.3 9.45l-7.72 7.72c-.78.78-.78 2.05 0 2.83L4 21.41c.39.39.9.59 1.41.59.51 0 1.02-.2 1.41-.59l7.78-7.78 2.81-2.81c.8-.78.8-2.07 0-2.86zM5.41 20L4 18.59l7.72-7.72 1.47 1.35L5.41 20z\"/>\n",
              "  </svg>\n",
              "      </button>\n",
              "      \n",
              "  <style>\n",
              "    .colab-df-container {\n",
              "      display:flex;\n",
              "      flex-wrap:wrap;\n",
              "      gap: 12px;\n",
              "    }\n",
              "\n",
              "    .colab-df-convert {\n",
              "      background-color: #E8F0FE;\n",
              "      border: none;\n",
              "      border-radius: 50%;\n",
              "      cursor: pointer;\n",
              "      display: none;\n",
              "      fill: #1967D2;\n",
              "      height: 32px;\n",
              "      padding: 0 0 0 0;\n",
              "      width: 32px;\n",
              "    }\n",
              "\n",
              "    .colab-df-convert:hover {\n",
              "      background-color: #E2EBFA;\n",
              "      box-shadow: 0px 1px 2px rgba(60, 64, 67, 0.3), 0px 1px 3px 1px rgba(60, 64, 67, 0.15);\n",
              "      fill: #174EA6;\n",
              "    }\n",
              "\n",
              "    [theme=dark] .colab-df-convert {\n",
              "      background-color: #3B4455;\n",
              "      fill: #D2E3FC;\n",
              "    }\n",
              "\n",
              "    [theme=dark] .colab-df-convert:hover {\n",
              "      background-color: #434B5C;\n",
              "      box-shadow: 0px 1px 3px 1px rgba(0, 0, 0, 0.15);\n",
              "      filter: drop-shadow(0px 1px 2px rgba(0, 0, 0, 0.3));\n",
              "      fill: #FFFFFF;\n",
              "    }\n",
              "  </style>\n",
              "\n",
              "      <script>\n",
              "        const buttonEl =\n",
              "          document.querySelector('#df-261b0bbc-5399-4b23-a032-39de6593a3b4 button.colab-df-convert');\n",
              "        buttonEl.style.display =\n",
              "          google.colab.kernel.accessAllowed ? 'block' : 'none';\n",
              "\n",
              "        async function convertToInteractive(key) {\n",
              "          const element = document.querySelector('#df-261b0bbc-5399-4b23-a032-39de6593a3b4');\n",
              "          const dataTable =\n",
              "            await google.colab.kernel.invokeFunction('convertToInteractive',\n",
              "                                                     [key], {});\n",
              "          if (!dataTable) return;\n",
              "\n",
              "          const docLinkHtml = 'Like what you see? Visit the ' +\n",
              "            '<a target=\"_blank\" href=https://colab.research.google.com/notebooks/data_table.ipynb>data table notebook</a>'\n",
              "            + ' to learn more about interactive tables.';\n",
              "          element.innerHTML = '';\n",
              "          dataTable['output_type'] = 'display_data';\n",
              "          await google.colab.output.renderOutput(dataTable, element);\n",
              "          const docLink = document.createElement('div');\n",
              "          docLink.innerHTML = docLinkHtml;\n",
              "          element.appendChild(docLink);\n",
              "        }\n",
              "      </script>\n",
              "    </div>\n",
              "  </div>\n",
              "  "
            ]
          },
          "metadata": {},
          "execution_count": 163
        }
      ]
    },
    {
      "cell_type": "markdown",
      "source": [
        "# Data Preprocessing & Data Cleaning"
      ],
      "metadata": {
        "id": "Oh2aKYk0wOzy"
      }
    },
    {
      "cell_type": "markdown",
      "source": [
        "## Data Filtering"
      ],
      "metadata": {
        "id": "pjVaBsT8wEOe"
      }
    },
    {
      "cell_type": "code",
      "source": [
        "data.columns\n"
      ],
      "metadata": {
        "colab": {
          "base_uri": "https://localhost:8080/"
        },
        "id": "4IXzdWD-nZ8P",
        "outputId": "3730770d-f490-4073-d2cf-ef30c9aa5cd7"
      },
      "execution_count": null,
      "outputs": [
        {
          "output_type": "execute_result",
          "data": {
            "text/plain": [
              "Index(['PassengerId', 'Survived', 'Pclass', 'Name', 'Sex', 'Age', 'SibSp',\n",
              "       'Parch', 'Ticket', 'Fare', 'Cabin', 'Embarked'],\n",
              "      dtype='object')"
            ]
          },
          "metadata": {},
          "execution_count": 164
        }
      ]
    },
    {
      "cell_type": "code",
      "source": [
        "data[['Name','Age']]\n"
      ],
      "metadata": {
        "colab": {
          "base_uri": "https://localhost:8080/",
          "height": 423
        },
        "id": "0YXUST3-neBE",
        "outputId": "6e0445bd-3366-4cbc-e737-ac1159c78a91"
      },
      "execution_count": null,
      "outputs": [
        {
          "output_type": "execute_result",
          "data": {
            "text/plain": [
              "                                             Name   Age\n",
              "1148                        Niklasson, Mr. Samuel  28.0\n",
              "1049                     Borebank, Mr. John James  42.0\n",
              "982                            Pedersen, Mr. Olaf   NaN\n",
              "808                             Meyer, Mr. August  39.0\n",
              "1195            McCarthy, Miss. Catherine Katie\"\"   NaN\n",
              "...                                           ...   ...\n",
              "1095                     Andrew, Mr. Frank Thomas  25.0\n",
              "1130  Douglas, Mrs. Walter Donald (Mahala Dutton)  48.0\n",
              "1294                       Carrau, Mr. Jose Pedro  17.0\n",
              "860                       Hansen, Mr. Claus Peter  41.0\n",
              "1126                       Vendel, Mr. Olof Edvin  20.0\n",
              "\n",
              "[1309 rows x 2 columns]"
            ],
            "text/html": [
              "\n",
              "  <div id=\"df-908843b7-73f3-4974-9765-145bf2d48d00\">\n",
              "    <div class=\"colab-df-container\">\n",
              "      <div>\n",
              "<style scoped>\n",
              "    .dataframe tbody tr th:only-of-type {\n",
              "        vertical-align: middle;\n",
              "    }\n",
              "\n",
              "    .dataframe tbody tr th {\n",
              "        vertical-align: top;\n",
              "    }\n",
              "\n",
              "    .dataframe thead th {\n",
              "        text-align: right;\n",
              "    }\n",
              "</style>\n",
              "<table border=\"1\" class=\"dataframe\">\n",
              "  <thead>\n",
              "    <tr style=\"text-align: right;\">\n",
              "      <th></th>\n",
              "      <th>Name</th>\n",
              "      <th>Age</th>\n",
              "    </tr>\n",
              "  </thead>\n",
              "  <tbody>\n",
              "    <tr>\n",
              "      <th>1148</th>\n",
              "      <td>Niklasson, Mr. Samuel</td>\n",
              "      <td>28.0</td>\n",
              "    </tr>\n",
              "    <tr>\n",
              "      <th>1049</th>\n",
              "      <td>Borebank, Mr. John James</td>\n",
              "      <td>42.0</td>\n",
              "    </tr>\n",
              "    <tr>\n",
              "      <th>982</th>\n",
              "      <td>Pedersen, Mr. Olaf</td>\n",
              "      <td>NaN</td>\n",
              "    </tr>\n",
              "    <tr>\n",
              "      <th>808</th>\n",
              "      <td>Meyer, Mr. August</td>\n",
              "      <td>39.0</td>\n",
              "    </tr>\n",
              "    <tr>\n",
              "      <th>1195</th>\n",
              "      <td>McCarthy, Miss. Catherine Katie\"\"</td>\n",
              "      <td>NaN</td>\n",
              "    </tr>\n",
              "    <tr>\n",
              "      <th>...</th>\n",
              "      <td>...</td>\n",
              "      <td>...</td>\n",
              "    </tr>\n",
              "    <tr>\n",
              "      <th>1095</th>\n",
              "      <td>Andrew, Mr. Frank Thomas</td>\n",
              "      <td>25.0</td>\n",
              "    </tr>\n",
              "    <tr>\n",
              "      <th>1130</th>\n",
              "      <td>Douglas, Mrs. Walter Donald (Mahala Dutton)</td>\n",
              "      <td>48.0</td>\n",
              "    </tr>\n",
              "    <tr>\n",
              "      <th>1294</th>\n",
              "      <td>Carrau, Mr. Jose Pedro</td>\n",
              "      <td>17.0</td>\n",
              "    </tr>\n",
              "    <tr>\n",
              "      <th>860</th>\n",
              "      <td>Hansen, Mr. Claus Peter</td>\n",
              "      <td>41.0</td>\n",
              "    </tr>\n",
              "    <tr>\n",
              "      <th>1126</th>\n",
              "      <td>Vendel, Mr. Olof Edvin</td>\n",
              "      <td>20.0</td>\n",
              "    </tr>\n",
              "  </tbody>\n",
              "</table>\n",
              "<p>1309 rows × 2 columns</p>\n",
              "</div>\n",
              "      <button class=\"colab-df-convert\" onclick=\"convertToInteractive('df-908843b7-73f3-4974-9765-145bf2d48d00')\"\n",
              "              title=\"Convert this dataframe to an interactive table.\"\n",
              "              style=\"display:none;\">\n",
              "        \n",
              "  <svg xmlns=\"http://www.w3.org/2000/svg\" height=\"24px\"viewBox=\"0 0 24 24\"\n",
              "       width=\"24px\">\n",
              "    <path d=\"M0 0h24v24H0V0z\" fill=\"none\"/>\n",
              "    <path d=\"M18.56 5.44l.94 2.06.94-2.06 2.06-.94-2.06-.94-.94-2.06-.94 2.06-2.06.94zm-11 1L8.5 8.5l.94-2.06 2.06-.94-2.06-.94L8.5 2.5l-.94 2.06-2.06.94zm10 10l.94 2.06.94-2.06 2.06-.94-2.06-.94-.94-2.06-.94 2.06-2.06.94z\"/><path d=\"M17.41 7.96l-1.37-1.37c-.4-.4-.92-.59-1.43-.59-.52 0-1.04.2-1.43.59L10.3 9.45l-7.72 7.72c-.78.78-.78 2.05 0 2.83L4 21.41c.39.39.9.59 1.41.59.51 0 1.02-.2 1.41-.59l7.78-7.78 2.81-2.81c.8-.78.8-2.07 0-2.86zM5.41 20L4 18.59l7.72-7.72 1.47 1.35L5.41 20z\"/>\n",
              "  </svg>\n",
              "      </button>\n",
              "      \n",
              "  <style>\n",
              "    .colab-df-container {\n",
              "      display:flex;\n",
              "      flex-wrap:wrap;\n",
              "      gap: 12px;\n",
              "    }\n",
              "\n",
              "    .colab-df-convert {\n",
              "      background-color: #E8F0FE;\n",
              "      border: none;\n",
              "      border-radius: 50%;\n",
              "      cursor: pointer;\n",
              "      display: none;\n",
              "      fill: #1967D2;\n",
              "      height: 32px;\n",
              "      padding: 0 0 0 0;\n",
              "      width: 32px;\n",
              "    }\n",
              "\n",
              "    .colab-df-convert:hover {\n",
              "      background-color: #E2EBFA;\n",
              "      box-shadow: 0px 1px 2px rgba(60, 64, 67, 0.3), 0px 1px 3px 1px rgba(60, 64, 67, 0.15);\n",
              "      fill: #174EA6;\n",
              "    }\n",
              "\n",
              "    [theme=dark] .colab-df-convert {\n",
              "      background-color: #3B4455;\n",
              "      fill: #D2E3FC;\n",
              "    }\n",
              "\n",
              "    [theme=dark] .colab-df-convert:hover {\n",
              "      background-color: #434B5C;\n",
              "      box-shadow: 0px 1px 3px 1px rgba(0, 0, 0, 0.15);\n",
              "      filter: drop-shadow(0px 1px 2px rgba(0, 0, 0, 0.3));\n",
              "      fill: #FFFFFF;\n",
              "    }\n",
              "  </style>\n",
              "\n",
              "      <script>\n",
              "        const buttonEl =\n",
              "          document.querySelector('#df-908843b7-73f3-4974-9765-145bf2d48d00 button.colab-df-convert');\n",
              "        buttonEl.style.display =\n",
              "          google.colab.kernel.accessAllowed ? 'block' : 'none';\n",
              "\n",
              "        async function convertToInteractive(key) {\n",
              "          const element = document.querySelector('#df-908843b7-73f3-4974-9765-145bf2d48d00');\n",
              "          const dataTable =\n",
              "            await google.colab.kernel.invokeFunction('convertToInteractive',\n",
              "                                                     [key], {});\n",
              "          if (!dataTable) return;\n",
              "\n",
              "          const docLinkHtml = 'Like what you see? Visit the ' +\n",
              "            '<a target=\"_blank\" href=https://colab.research.google.com/notebooks/data_table.ipynb>data table notebook</a>'\n",
              "            + ' to learn more about interactive tables.';\n",
              "          element.innerHTML = '';\n",
              "          dataTable['output_type'] = 'display_data';\n",
              "          await google.colab.output.renderOutput(dataTable, element);\n",
              "          const docLink = document.createElement('div');\n",
              "          docLink.innerHTML = docLinkHtml;\n",
              "          element.appendChild(docLink);\n",
              "        }\n",
              "      </script>\n",
              "    </div>\n",
              "  </div>\n",
              "  "
            ]
          },
          "metadata": {},
          "execution_count": 165
        }
      ]
    },
    {
      "cell_type": "code",
      "source": [
        "sum(data['Sex']=='male')\n"
      ],
      "metadata": {
        "colab": {
          "base_uri": "https://localhost:8080/"
        },
        "id": "pH2REldTnjnx",
        "outputId": "6259dbfe-2c1c-473b-9c2b-a3979fa8b1e2"
      },
      "execution_count": null,
      "outputs": [
        {
          "output_type": "execute_result",
          "data": {
            "text/plain": [
              "843"
            ]
          },
          "metadata": {},
          "execution_count": 166
        }
      ]
    },
    {
      "cell_type": "code",
      "source": [
        "data[data['Sex']=='male'].head()\n"
      ],
      "metadata": {
        "colab": {
          "base_uri": "https://localhost:8080/",
          "height": 302
        },
        "id": "LkBBmuL8nmZM",
        "outputId": "136dabd6-2496-4cc4-9757-123656bba59f"
      },
      "execution_count": null,
      "outputs": [
        {
          "output_type": "execute_result",
          "data": {
            "text/plain": [
              "      PassengerId  Survived  Pclass                      Name   Sex   Age  \\\n",
              "1148         1149         0       3     Niklasson, Mr. Samuel  male  28.0   \n",
              "1049         1050         0       1  Borebank, Mr. John James  male  42.0   \n",
              "982           983         0       3        Pedersen, Mr. Olaf  male   NaN   \n",
              "808           809         0       2         Meyer, Mr. August  male  39.0   \n",
              "65             66         1       3  Moubarek, Master. Gerios  male   NaN   \n",
              "\n",
              "      SibSp  Parch  Ticket     Fare Cabin Embarked  \n",
              "1148      0      0  363611   8.0500   NaN        S  \n",
              "1049      0      0  110489  26.5500   D22        S  \n",
              "982       0      0  345498   7.7750   NaN        S  \n",
              "808       0      0  248723  13.0000   NaN        S  \n",
              "65        1      1    2661  15.2458   NaN        C  "
            ],
            "text/html": [
              "\n",
              "  <div id=\"df-57889b3e-8890-4038-a5d6-43f54c05e492\">\n",
              "    <div class=\"colab-df-container\">\n",
              "      <div>\n",
              "<style scoped>\n",
              "    .dataframe tbody tr th:only-of-type {\n",
              "        vertical-align: middle;\n",
              "    }\n",
              "\n",
              "    .dataframe tbody tr th {\n",
              "        vertical-align: top;\n",
              "    }\n",
              "\n",
              "    .dataframe thead th {\n",
              "        text-align: right;\n",
              "    }\n",
              "</style>\n",
              "<table border=\"1\" class=\"dataframe\">\n",
              "  <thead>\n",
              "    <tr style=\"text-align: right;\">\n",
              "      <th></th>\n",
              "      <th>PassengerId</th>\n",
              "      <th>Survived</th>\n",
              "      <th>Pclass</th>\n",
              "      <th>Name</th>\n",
              "      <th>Sex</th>\n",
              "      <th>Age</th>\n",
              "      <th>SibSp</th>\n",
              "      <th>Parch</th>\n",
              "      <th>Ticket</th>\n",
              "      <th>Fare</th>\n",
              "      <th>Cabin</th>\n",
              "      <th>Embarked</th>\n",
              "    </tr>\n",
              "  </thead>\n",
              "  <tbody>\n",
              "    <tr>\n",
              "      <th>1148</th>\n",
              "      <td>1149</td>\n",
              "      <td>0</td>\n",
              "      <td>3</td>\n",
              "      <td>Niklasson, Mr. Samuel</td>\n",
              "      <td>male</td>\n",
              "      <td>28.0</td>\n",
              "      <td>0</td>\n",
              "      <td>0</td>\n",
              "      <td>363611</td>\n",
              "      <td>8.0500</td>\n",
              "      <td>NaN</td>\n",
              "      <td>S</td>\n",
              "    </tr>\n",
              "    <tr>\n",
              "      <th>1049</th>\n",
              "      <td>1050</td>\n",
              "      <td>0</td>\n",
              "      <td>1</td>\n",
              "      <td>Borebank, Mr. John James</td>\n",
              "      <td>male</td>\n",
              "      <td>42.0</td>\n",
              "      <td>0</td>\n",
              "      <td>0</td>\n",
              "      <td>110489</td>\n",
              "      <td>26.5500</td>\n",
              "      <td>D22</td>\n",
              "      <td>S</td>\n",
              "    </tr>\n",
              "    <tr>\n",
              "      <th>982</th>\n",
              "      <td>983</td>\n",
              "      <td>0</td>\n",
              "      <td>3</td>\n",
              "      <td>Pedersen, Mr. Olaf</td>\n",
              "      <td>male</td>\n",
              "      <td>NaN</td>\n",
              "      <td>0</td>\n",
              "      <td>0</td>\n",
              "      <td>345498</td>\n",
              "      <td>7.7750</td>\n",
              "      <td>NaN</td>\n",
              "      <td>S</td>\n",
              "    </tr>\n",
              "    <tr>\n",
              "      <th>808</th>\n",
              "      <td>809</td>\n",
              "      <td>0</td>\n",
              "      <td>2</td>\n",
              "      <td>Meyer, Mr. August</td>\n",
              "      <td>male</td>\n",
              "      <td>39.0</td>\n",
              "      <td>0</td>\n",
              "      <td>0</td>\n",
              "      <td>248723</td>\n",
              "      <td>13.0000</td>\n",
              "      <td>NaN</td>\n",
              "      <td>S</td>\n",
              "    </tr>\n",
              "    <tr>\n",
              "      <th>65</th>\n",
              "      <td>66</td>\n",
              "      <td>1</td>\n",
              "      <td>3</td>\n",
              "      <td>Moubarek, Master. Gerios</td>\n",
              "      <td>male</td>\n",
              "      <td>NaN</td>\n",
              "      <td>1</td>\n",
              "      <td>1</td>\n",
              "      <td>2661</td>\n",
              "      <td>15.2458</td>\n",
              "      <td>NaN</td>\n",
              "      <td>C</td>\n",
              "    </tr>\n",
              "  </tbody>\n",
              "</table>\n",
              "</div>\n",
              "      <button class=\"colab-df-convert\" onclick=\"convertToInteractive('df-57889b3e-8890-4038-a5d6-43f54c05e492')\"\n",
              "              title=\"Convert this dataframe to an interactive table.\"\n",
              "              style=\"display:none;\">\n",
              "        \n",
              "  <svg xmlns=\"http://www.w3.org/2000/svg\" height=\"24px\"viewBox=\"0 0 24 24\"\n",
              "       width=\"24px\">\n",
              "    <path d=\"M0 0h24v24H0V0z\" fill=\"none\"/>\n",
              "    <path d=\"M18.56 5.44l.94 2.06.94-2.06 2.06-.94-2.06-.94-.94-2.06-.94 2.06-2.06.94zm-11 1L8.5 8.5l.94-2.06 2.06-.94-2.06-.94L8.5 2.5l-.94 2.06-2.06.94zm10 10l.94 2.06.94-2.06 2.06-.94-2.06-.94-.94-2.06-.94 2.06-2.06.94z\"/><path d=\"M17.41 7.96l-1.37-1.37c-.4-.4-.92-.59-1.43-.59-.52 0-1.04.2-1.43.59L10.3 9.45l-7.72 7.72c-.78.78-.78 2.05 0 2.83L4 21.41c.39.39.9.59 1.41.59.51 0 1.02-.2 1.41-.59l7.78-7.78 2.81-2.81c.8-.78.8-2.07 0-2.86zM5.41 20L4 18.59l7.72-7.72 1.47 1.35L5.41 20z\"/>\n",
              "  </svg>\n",
              "      </button>\n",
              "      \n",
              "  <style>\n",
              "    .colab-df-container {\n",
              "      display:flex;\n",
              "      flex-wrap:wrap;\n",
              "      gap: 12px;\n",
              "    }\n",
              "\n",
              "    .colab-df-convert {\n",
              "      background-color: #E8F0FE;\n",
              "      border: none;\n",
              "      border-radius: 50%;\n",
              "      cursor: pointer;\n",
              "      display: none;\n",
              "      fill: #1967D2;\n",
              "      height: 32px;\n",
              "      padding: 0 0 0 0;\n",
              "      width: 32px;\n",
              "    }\n",
              "\n",
              "    .colab-df-convert:hover {\n",
              "      background-color: #E2EBFA;\n",
              "      box-shadow: 0px 1px 2px rgba(60, 64, 67, 0.3), 0px 1px 3px 1px rgba(60, 64, 67, 0.15);\n",
              "      fill: #174EA6;\n",
              "    }\n",
              "\n",
              "    [theme=dark] .colab-df-convert {\n",
              "      background-color: #3B4455;\n",
              "      fill: #D2E3FC;\n",
              "    }\n",
              "\n",
              "    [theme=dark] .colab-df-convert:hover {\n",
              "      background-color: #434B5C;\n",
              "      box-shadow: 0px 1px 3px 1px rgba(0, 0, 0, 0.15);\n",
              "      filter: drop-shadow(0px 1px 2px rgba(0, 0, 0, 0.3));\n",
              "      fill: #FFFFFF;\n",
              "    }\n",
              "  </style>\n",
              "\n",
              "      <script>\n",
              "        const buttonEl =\n",
              "          document.querySelector('#df-57889b3e-8890-4038-a5d6-43f54c05e492 button.colab-df-convert');\n",
              "        buttonEl.style.display =\n",
              "          google.colab.kernel.accessAllowed ? 'block' : 'none';\n",
              "\n",
              "        async function convertToInteractive(key) {\n",
              "          const element = document.querySelector('#df-57889b3e-8890-4038-a5d6-43f54c05e492');\n",
              "          const dataTable =\n",
              "            await google.colab.kernel.invokeFunction('convertToInteractive',\n",
              "                                                     [key], {});\n",
              "          if (!dataTable) return;\n",
              "\n",
              "          const docLinkHtml = 'Like what you see? Visit the ' +\n",
              "            '<a target=\"_blank\" href=https://colab.research.google.com/notebooks/data_table.ipynb>data table notebook</a>'\n",
              "            + ' to learn more about interactive tables.';\n",
              "          element.innerHTML = '';\n",
              "          dataTable['output_type'] = 'display_data';\n",
              "          await google.colab.output.renderOutput(dataTable, element);\n",
              "          const docLink = document.createElement('div');\n",
              "          docLink.innerHTML = docLinkHtml;\n",
              "          element.appendChild(docLink);\n",
              "        }\n",
              "      </script>\n",
              "    </div>\n",
              "  </div>\n",
              "  "
            ]
          },
          "metadata": {},
          "execution_count": 167
        }
      ]
    },
    {
      "cell_type": "code",
      "source": [
        "sum(data['Survived']==1)\n"
      ],
      "metadata": {
        "colab": {
          "base_uri": "https://localhost:8080/"
        },
        "id": "FujkAo_anpbO",
        "outputId": "2863d781-f20a-45f7-c89b-727dc99cd29a"
      },
      "execution_count": null,
      "outputs": [
        {
          "output_type": "execute_result",
          "data": {
            "text/plain": [
              "494"
            ]
          },
          "metadata": {},
          "execution_count": 168
        }
      ]
    },
    {
      "cell_type": "markdown",
      "source": [
        "## Check Missing (Null) Values In The *Dataset*"
      ],
      "metadata": {
        "id": "HkHNSKbCvxH5"
      }
    },
    {
      "cell_type": "code",
      "source": [
        "data.isnull().sum()\n"
      ],
      "metadata": {
        "colab": {
          "base_uri": "https://localhost:8080/"
        },
        "id": "0pwaOdSBntJ5",
        "outputId": "e1823f96-4a02-409e-eb0f-dfafd3d5b1f1"
      },
      "execution_count": null,
      "outputs": [
        {
          "output_type": "execute_result",
          "data": {
            "text/plain": [
              "PassengerId       0\n",
              "Survived          0\n",
              "Pclass            0\n",
              "Name              0\n",
              "Sex               0\n",
              "Age             263\n",
              "SibSp             0\n",
              "Parch             0\n",
              "Ticket            0\n",
              "Fare              1\n",
              "Cabin          1014\n",
              "Embarked          2\n",
              "dtype: int64"
            ]
          },
          "metadata": {},
          "execution_count": 169
        }
      ]
    },
    {
      "cell_type": "code",
      "source": [
        "import seaborn as sns\n",
        "import matplotlib.pyplot as plt\n",
        "sns.heatmap(data.isnull())\n"
      ],
      "metadata": {
        "colab": {
          "base_uri": "https://localhost:8080/",
          "height": 524
        },
        "id": "ZHOCc1eonzT0",
        "outputId": "943b6757-636c-4906-c433-ee1ca65160e2"
      },
      "execution_count": null,
      "outputs": [
        {
          "output_type": "execute_result",
          "data": {
            "text/plain": [
              "<Axes: >"
            ]
          },
          "metadata": {},
          "execution_count": 170
        },
        {
          "output_type": "display_data",
          "data": {
            "text/plain": [
              "<Figure size 640x480 with 2 Axes>"
            ],
            "image/png": "[encoded data removed]"
          },
          "metadata": {}
        }
      ]
    },
    {
      "cell_type": "code",
      "source": [
        "per_missing = data.isnull().sum() * 100 / len(data)\n"
      ],
      "metadata": {
        "id": "7D4M3j6yn6zb"
      },
      "execution_count": null,
      "outputs": []
    },
    {
      "cell_type": "markdown",
      "source": [
        "## Drop the Column"
      ],
      "metadata": {
        "id": "MWq4NZccvpLf"
      }
    },
    {
      "cell_type": "code",
      "source": [
        "data.drop('Cabin', axis=1,inplace=True)\n"
      ],
      "metadata": {
        "id": "edjJBjNEoD8t"
      },
      "execution_count": null,
      "outputs": []
    },
    {
      "cell_type": "code",
      "source": [
        "data.isnull().sum()\n"
      ],
      "metadata": {
        "colab": {
          "base_uri": "https://localhost:8080/"
        },
        "id": "vhesTrSIoInU",
        "outputId": "e27e1618-c36a-444b-d01e-8eaccd3bae18"
      },
      "execution_count": null,
      "outputs": [
        {
          "output_type": "execute_result",
          "data": {
            "text/plain": [
              "PassengerId      0\n",
              "Survived         0\n",
              "Pclass           0\n",
              "Name             0\n",
              "Sex              0\n",
              "Age            263\n",
              "SibSp            0\n",
              "Parch            0\n",
              "Ticket           0\n",
              "Fare             1\n",
              "Embarked         2\n",
              "dtype: int64"
            ]
          },
          "metadata": {},
          "execution_count": 173
        }
      ]
    },
    {
      "cell_type": "markdown",
      "source": [
        "## Handle Missing Values"
      ],
      "metadata": {
        "id": "_VGYWuANve0t"
      }
    },
    {
      "cell_type": "code",
      "source": [
        "data['Embarked'].mode()\n"
      ],
      "metadata": {
        "colab": {
          "base_uri": "https://localhost:8080/"
        },
        "id": "yFKcApR9oMgF",
        "outputId": "3307bd5c-2b8b-497e-8f78-130c9b2dcbca"
      },
      "execution_count": null,
      "outputs": [
        {
          "output_type": "execute_result",
          "data": {
            "text/plain": [
              "0    S\n",
              "Name: Embarked, dtype: object"
            ]
          },
          "metadata": {},
          "execution_count": 174
        }
      ]
    },
    {
      "cell_type": "code",
      "source": [
        "data['Embarked'].fillna('S',inplace=True)\n"
      ],
      "metadata": {
        "id": "RFzVqWbVoSWM"
      },
      "execution_count": null,
      "outputs": []
    },
    {
      "cell_type": "code",
      "source": [
        "data.isnull().sum()\n"
      ],
      "metadata": {
        "colab": {
          "base_uri": "https://localhost:8080/"
        },
        "id": "MANOYr2ioVc3",
        "outputId": "94b7cdeb-6b42-4778-be9f-c153e119c533"
      },
      "execution_count": null,
      "outputs": [
        {
          "output_type": "execute_result",
          "data": {
            "text/plain": [
              "PassengerId      0\n",
              "Survived         0\n",
              "Pclass           0\n",
              "Name             0\n",
              "Sex              0\n",
              "Age            263\n",
              "SibSp            0\n",
              "Parch            0\n",
              "Ticket           0\n",
              "Fare             1\n",
              "Embarked         0\n",
              "dtype: int64"
            ]
          },
          "metadata": {},
          "execution_count": 176
        }
      ]
    },
    {
      "cell_type": "code",
      "source": [
        "data['Age']\n"
      ],
      "metadata": {
        "colab": {
          "base_uri": "https://localhost:8080/"
        },
        "id": "T0FdCSckoYKS",
        "outputId": "770c9312-ced9-488b-e0bd-80f2f33f0776"
      },
      "execution_count": null,
      "outputs": [
        {
          "output_type": "execute_result",
          "data": {
            "text/plain": [
              "1148    28.0\n",
              "1049    42.0\n",
              "982      NaN\n",
              "808     39.0\n",
              "1195     NaN\n",
              "        ... \n",
              "1095    25.0\n",
              "1130    48.0\n",
              "1294    17.0\n",
              "860     41.0\n",
              "1126    20.0\n",
              "Name: Age, Length: 1309, dtype: float64"
            ]
          },
          "metadata": {},
          "execution_count": 177
        }
      ]
    },
    {
      "cell_type": "code",
      "source": [
        "data['Age'].fillna(data['Age'].mean(), inplace = True)\n"
      ],
      "metadata": {
        "id": "TAAFbup1ocFQ"
      },
      "execution_count": null,
      "outputs": []
    },
    {
      "cell_type": "code",
      "source": [
        "data.isnull().sum()\n"
      ],
      "metadata": {
        "colab": {
          "base_uri": "https://localhost:8080/"
        },
        "id": "c2ezXg0DofXZ",
        "outputId": "89cd7723-633e-4bb1-9b2e-b8427f6d9f12"
      },
      "execution_count": null,
      "outputs": [
        {
          "output_type": "execute_result",
          "data": {
            "text/plain": [
              "PassengerId    0\n",
              "Survived       0\n",
              "Pclass         0\n",
              "Name           0\n",
              "Sex            0\n",
              "Age            0\n",
              "SibSp          0\n",
              "Parch          0\n",
              "Ticket         0\n",
              "Fare           1\n",
              "Embarked       0\n",
              "dtype: int64"
            ]
          },
          "metadata": {},
          "execution_count": 179
        }
      ]
    },
    {
      "cell_type": "code",
      "source": [],
      "metadata": {
        "id": "SqbnveNFQQgf"
      },
      "execution_count": null,
      "outputs": []
    },
    {
      "cell_type": "code",
      "source": [
        "data.isnull().sum()\n"
      ],
      "metadata": {
        "colab": {
          "base_uri": "https://localhost:8080/"
        },
        "id": "PJAQQeoeQQMa",
        "outputId": "97877a7b-8c9b-4658-b3a4-e989f7a4d07c"
      },
      "execution_count": null,
      "outputs": [
        {
          "output_type": "execute_result",
          "data": {
            "text/plain": [
              "PassengerId    0\n",
              "Survived       0\n",
              "Pclass         0\n",
              "Name           0\n",
              "Sex            0\n",
              "Age            0\n",
              "SibSp          0\n",
              "Parch          0\n",
              "Ticket         0\n",
              "Fare           1\n",
              "Embarked       0\n",
              "dtype: int64"
            ]
          },
          "metadata": {},
          "execution_count": 180
        }
      ]
    },
    {
      "cell_type": "code",
      "source": [
        "data['Fare'].fillna(data['Fare'].mean(), inplace = True)\n"
      ],
      "metadata": {
        "id": "ORAXhuY4QIt3"
      },
      "execution_count": null,
      "outputs": []
    },
    {
      "cell_type": "code",
      "source": [
        "data.head()\n"
      ],
      "metadata": {
        "colab": {
          "base_uri": "https://localhost:8080/",
          "height": 302
        },
        "id": "6xZNwClQoiyZ",
        "outputId": "e1d33c78-04d2-42f0-9eaf-669ee5bf4578"
      },
      "execution_count": null,
      "outputs": [
        {
          "output_type": "execute_result",
          "data": {
            "text/plain": [
              "      PassengerId  Survived  Pclass                               Name  \\\n",
              "1148         1149         0       3              Niklasson, Mr. Samuel   \n",
              "1049         1050         0       1           Borebank, Mr. John James   \n",
              "982           983         0       3                 Pedersen, Mr. Olaf   \n",
              "808           809         0       2                  Meyer, Mr. August   \n",
              "1195         1196         1       3  McCarthy, Miss. Catherine Katie\"\"   \n",
              "\n",
              "         Sex        Age  SibSp  Parch  Ticket    Fare Embarked  \n",
              "1148    male  28.000000      0      0  363611   8.050        S  \n",
              "1049    male  42.000000      0      0  110489  26.550        S  \n",
              "982     male  29.881138      0      0  345498   7.775        S  \n",
              "808     male  39.000000      0      0  248723  13.000        S  \n",
              "1195  female  29.881138      0      0  383123   7.750        Q  "
            ],
            "text/html": [
              "\n",
              "  <div id=\"df-ae459eb4-de79-4283-a456-0f8023cf5686\">\n",
              "    <div class=\"colab-df-container\">\n",
              "      <div>\n",
              "<style scoped>\n",
              "    .dataframe tbody tr th:only-of-type {\n",
              "        vertical-align: middle;\n",
              "    }\n",
              "\n",
              "    .dataframe tbody tr th {\n",
              "        vertical-align: top;\n",
              "    }\n",
              "\n",
              "    .dataframe thead th {\n",
              "        text-align: right;\n",
              "    }\n",
              "</style>\n",
              "<table border=\"1\" class=\"dataframe\">\n",
              "  <thead>\n",
              "    <tr style=\"text-align: right;\">\n",
              "      <th></th>\n",
              "      <th>PassengerId</th>\n",
              "      <th>Survived</th>\n",
              "      <th>Pclass</th>\n",
              "      <th>Name</th>\n",
              "      <th>Sex</th>\n",
              "      <th>Age</th>\n",
              "      <th>SibSp</th>\n",
              "      <th>Parch</th>\n",
              "      <th>Ticket</th>\n",
              "      <th>Fare</th>\n",
              "      <th>Embarked</th>\n",
              "    </tr>\n",
              "  </thead>\n",
              "  <tbody>\n",
              "    <tr>\n",
              "      <th>1148</th>\n",
              "      <td>1149</td>\n",
              "      <td>0</td>\n",
              "      <td>3</td>\n",
              "      <td>Niklasson, Mr. Samuel</td>\n",
              "      <td>male</td>\n",
              "      <td>28.000000</td>\n",
              "      <td>0</td>\n",
              "      <td>0</td>\n",
              "      <td>363611</td>\n",
              "      <td>8.050</td>\n",
              "      <td>S</td>\n",
              "    </tr>\n",
              "    <tr>\n",
              "      <th>1049</th>\n",
              "      <td>1050</td>\n",
              "      <td>0</td>\n",
              "      <td>1</td>\n",
              "      <td>Borebank, Mr. John James</td>\n",
              "      <td>male</td>\n",
              "      <td>42.000000</td>\n",
              "      <td>0</td>\n",
              "      <td>0</td>\n",
              "      <td>110489</td>\n",
              "      <td>26.550</td>\n",
              "      <td>S</td>\n",
              "    </tr>\n",
              "    <tr>\n",
              "      <th>982</th>\n",
              "      <td>983</td>\n",
              "      <td>0</td>\n",
              "      <td>3</td>\n",
              "      <td>Pedersen, Mr. Olaf</td>\n",
              "      <td>male</td>\n",
              "      <td>29.881138</td>\n",
              "      <td>0</td>\n",
              "      <td>0</td>\n",
              "      <td>345498</td>\n",
              "      <td>7.775</td>\n",
              "      <td>S</td>\n",
              "    </tr>\n",
              "    <tr>\n",
              "      <th>808</th>\n",
              "      <td>809</td>\n",
              "      <td>0</td>\n",
              "      <td>2</td>\n",
              "      <td>Meyer, Mr. August</td>\n",
              "      <td>male</td>\n",
              "      <td>39.000000</td>\n",
              "      <td>0</td>\n",
              "      <td>0</td>\n",
              "      <td>248723</td>\n",
              "      <td>13.000</td>\n",
              "      <td>S</td>\n",
              "    </tr>\n",
              "    <tr>\n",
              "      <th>1195</th>\n",
              "      <td>1196</td>\n",
              "      <td>1</td>\n",
              "      <td>3</td>\n",
              "      <td>McCarthy, Miss. Catherine Katie\"\"</td>\n",
              "      <td>female</td>\n",
              "      <td>29.881138</td>\n",
              "      <td>0</td>\n",
              "      <td>0</td>\n",
              "      <td>383123</td>\n",
              "      <td>7.750</td>\n",
              "      <td>Q</td>\n",
              "    </tr>\n",
              "  </tbody>\n",
              "</table>\n",
              "</div>\n",
              "      <button class=\"colab-df-convert\" onclick=\"convertToInteractive('df-ae459eb4-de79-4283-a456-0f8023cf5686')\"\n",
              "              title=\"Convert this dataframe to an interactive table.\"\n",
              "              style=\"display:none;\">\n",
              "        \n",
              "  <svg xmlns=\"http://www.w3.org/2000/svg\" height=\"24px\"viewBox=\"0 0 24 24\"\n",
              "       width=\"24px\">\n",
              "    <path d=\"M0 0h24v24H0V0z\" fill=\"none\"/>\n",
              "    <path d=\"M18.56 5.44l.94 2.06.94-2.06 2.06-.94-2.06-.94-.94-2.06-.94 2.06-2.06.94zm-11 1L8.5 8.5l.94-2.06 2.06-.94-2.06-.94L8.5 2.5l-.94 2.06-2.06.94zm10 10l.94 2.06.94-2.06 2.06-.94-2.06-.94-.94-2.06-.94 2.06-2.06.94z\"/><path d=\"M17.41 7.96l-1.37-1.37c-.4-.4-.92-.59-1.43-.59-.52 0-1.04.2-1.43.59L10.3 9.45l-7.72 7.72c-.78.78-.78 2.05 0 2.83L4 21.41c.39.39.9.59 1.41.59.51 0 1.02-.2 1.41-.59l7.78-7.78 2.81-2.81c.8-.78.8-2.07 0-2.86zM5.41 20L4 18.59l7.72-7.72 1.47 1.35L5.41 20z\"/>\n",
              "  </svg>\n",
              "      </button>\n",
              "      \n",
              "  <style>\n",
              "    .colab-df-container {\n",
              "      display:flex;\n",
              "      flex-wrap:wrap;\n",
              "      gap: 12px;\n",
              "    }\n",
              "\n",
              "    .colab-df-convert {\n",
              "      background-color: #E8F0FE;\n",
              "      border: none;\n",
              "      border-radius: 50%;\n",
              "      cursor: pointer;\n",
              "      display: none;\n",
              "      fill: #1967D2;\n",
              "      height: 32px;\n",
              "      padding: 0 0 0 0;\n",
              "      width: 32px;\n",
              "    }\n",
              "\n",
              "    .colab-df-convert:hover {\n",
              "      background-color: #E2EBFA;\n",
              "      box-shadow: 0px 1px 2px rgba(60, 64, 67, 0.3), 0px 1px 3px 1px rgba(60, 64, 67, 0.15);\n",
              "      fill: #174EA6;\n",
              "    }\n",
              "\n",
              "    [theme=dark] .colab-df-convert {\n",
              "      background-color: #3B4455;\n",
              "      fill: #D2E3FC;\n",
              "    }\n",
              "\n",
              "    [theme=dark] .colab-df-convert:hover {\n",
              "      background-color: #434B5C;\n",
              "      box-shadow: 0px 1px 3px 1px rgba(0, 0, 0, 0.15);\n",
              "      filter: drop-shadow(0px 1px 2px rgba(0, 0, 0, 0.3));\n",
              "      fill: #FFFFFF;\n",
              "    }\n",
              "  </style>\n",
              "\n",
              "      <script>\n",
              "        const buttonEl =\n",
              "          document.querySelector('#df-ae459eb4-de79-4283-a456-0f8023cf5686 button.colab-df-convert');\n",
              "        buttonEl.style.display =\n",
              "          google.colab.kernel.accessAllowed ? 'block' : 'none';\n",
              "\n",
              "        async function convertToInteractive(key) {\n",
              "          const element = document.querySelector('#df-ae459eb4-de79-4283-a456-0f8023cf5686');\n",
              "          const dataTable =\n",
              "            await google.colab.kernel.invokeFunction('convertToInteractive',\n",
              "                                                     [key], {});\n",
              "          if (!dataTable) return;\n",
              "\n",
              "          const docLinkHtml = 'Like what you see? Visit the ' +\n",
              "            '<a target=\"_blank\" href=https://colab.research.google.com/notebooks/data_table.ipynb>data table notebook</a>'\n",
              "            + ' to learn more about interactive tables.';\n",
              "          element.innerHTML = '';\n",
              "          dataTable['output_type'] = 'display_data';\n",
              "          await google.colab.output.renderOutput(dataTable, element);\n",
              "          const docLink = document.createElement('div');\n",
              "          docLink.innerHTML = docLinkHtml;\n",
              "          element.appendChild(docLink);\n",
              "        }\n",
              "      </script>\n",
              "    </div>\n",
              "  </div>\n",
              "  "
            ]
          },
          "metadata": {},
          "execution_count": 182
        }
      ]
    },
    {
      "cell_type": "code",
      "source": [
        "data['Sex'].unique()\n"
      ],
      "metadata": {
        "colab": {
          "base_uri": "https://localhost:8080/"
        },
        "id": "PTtODTVdomke",
        "outputId": "d61e58a6-f472-4da5-a156-b7db151ddd5a"
      },
      "execution_count": null,
      "outputs": [
        {
          "output_type": "execute_result",
          "data": {
            "text/plain": [
              "array(['male', 'female'], dtype=object)"
            ]
          },
          "metadata": {},
          "execution_count": 183
        }
      ]
    },
    {
      "cell_type": "code",
      "source": [
        "data['Gender']=data['Sex'].map({'male':1, 'female':0})\n"
      ],
      "metadata": {
        "id": "FCyYKRs6ortz"
      },
      "execution_count": null,
      "outputs": []
    },
    {
      "cell_type": "code",
      "source": [
        "data.head(5)\n"
      ],
      "metadata": {
        "colab": {
          "base_uri": "https://localhost:8080/",
          "height": 406
        },
        "id": "8pGsPQZRouR5",
        "outputId": "7274a632-d349-4ba1-d72b-9be4bb241e35"
      },
      "execution_count": null,
      "outputs": [
        {
          "output_type": "execute_result",
          "data": {
            "text/plain": [
              "      PassengerId  Survived  Pclass                               Name  \\\n",
              "1148         1149         0       3              Niklasson, Mr. Samuel   \n",
              "1049         1050         0       1           Borebank, Mr. John James   \n",
              "982           983         0       3                 Pedersen, Mr. Olaf   \n",
              "808           809         0       2                  Meyer, Mr. August   \n",
              "1195         1196         1       3  McCarthy, Miss. Catherine Katie\"\"   \n",
              "\n",
              "         Sex        Age  SibSp  Parch  Ticket    Fare Embarked  Gender  \n",
              "1148    male  28.000000      0      0  363611   8.050        S       1  \n",
              "1049    male  42.000000      0      0  110489  26.550        S       1  \n",
              "982     male  29.881138      0      0  345498   7.775        S       1  \n",
              "808     male  39.000000      0      0  248723  13.000        S       1  \n",
              "1195  female  29.881138      0      0  383123   7.750        Q       0  "
            ],
            "text/html": [
              "\n",
              "  <div id=\"df-cc773b36-c2f0-4220-a21c-654a8aeed6e7\">\n",
              "    <div class=\"colab-df-container\">\n",
              "      <div>\n",
              "<style scoped>\n",
              "    .dataframe tbody tr th:only-of-type {\n",
              "        vertical-align: middle;\n",
              "    }\n",
              "\n",
              "    .dataframe tbody tr th {\n",
              "        vertical-align: top;\n",
              "    }\n",
              "\n",
              "    .dataframe thead th {\n",
              "        text-align: right;\n",
              "    }\n",
              "</style>\n",
              "<table border=\"1\" class=\"dataframe\">\n",
              "  <thead>\n",
              "    <tr style=\"text-align: right;\">\n",
              "      <th></th>\n",
              "      <th>PassengerId</th>\n",
              "      <th>Survived</th>\n",
              "      <th>Pclass</th>\n",
              "      <th>Name</th>\n",
              "      <th>Sex</th>\n",
              "      <th>Age</th>\n",
              "      <th>SibSp</th>\n",
              "      <th>Parch</th>\n",
              "      <th>Ticket</th>\n",
              "      <th>Fare</th>\n",
              "      <th>Embarked</th>\n",
              "      <th>Gender</th>\n",
              "    </tr>\n",
              "  </thead>\n",
              "  <tbody>\n",
              "    <tr>\n",
              "      <th>1148</th>\n",
              "      <td>1149</td>\n",
              "      <td>0</td>\n",
              "      <td>3</td>\n",
              "      <td>Niklasson, Mr. Samuel</td>\n",
              "      <td>male</td>\n",
              "      <td>28.000000</td>\n",
              "      <td>0</td>\n",
              "      <td>0</td>\n",
              "      <td>363611</td>\n",
              "      <td>8.050</td>\n",
              "      <td>S</td>\n",
              "      <td>1</td>\n",
              "    </tr>\n",
              "    <tr>\n",
              "      <th>1049</th>\n",
              "      <td>1050</td>\n",
              "      <td>0</td>\n",
              "      <td>1</td>\n",
              "      <td>Borebank, Mr. John James</td>\n",
              "      <td>male</td>\n",
              "      <td>42.000000</td>\n",
              "      <td>0</td>\n",
              "      <td>0</td>\n",
              "      <td>110489</td>\n",
              "      <td>26.550</td>\n",
              "      <td>S</td>\n",
              "      <td>1</td>\n",
              "    </tr>\n",
              "    <tr>\n",
              "      <th>982</th>\n",
              "      <td>983</td>\n",
              "      <td>0</td>\n",
              "      <td>3</td>\n",
              "      <td>Pedersen, Mr. Olaf</td>\n",
              "      <td>male</td>\n",
              "      <td>29.881138</td>\n",
              "      <td>0</td>\n",
              "      <td>0</td>\n",
              "      <td>345498</td>\n",
              "      <td>7.775</td>\n",
              "      <td>S</td>\n",
              "      <td>1</td>\n",
              "    </tr>\n",
              "    <tr>\n",
              "      <th>808</th>\n",
              "      <td>809</td>\n",
              "      <td>0</td>\n",
              "      <td>2</td>\n",
              "      <td>Meyer, Mr. August</td>\n",
              "      <td>male</td>\n",
              "      <td>39.000000</td>\n",
              "      <td>0</td>\n",
              "      <td>0</td>\n",
              "      <td>248723</td>\n",
              "      <td>13.000</td>\n",
              "      <td>S</td>\n",
              "      <td>1</td>\n",
              "    </tr>\n",
              "    <tr>\n",
              "      <th>1195</th>\n",
              "      <td>1196</td>\n",
              "      <td>1</td>\n",
              "      <td>3</td>\n",
              "      <td>McCarthy, Miss. Catherine Katie\"\"</td>\n",
              "      <td>female</td>\n",
              "      <td>29.881138</td>\n",
              "      <td>0</td>\n",
              "      <td>0</td>\n",
              "      <td>383123</td>\n",
              "      <td>7.750</td>\n",
              "      <td>Q</td>\n",
              "      <td>0</td>\n",
              "    </tr>\n",
              "  </tbody>\n",
              "</table>\n",
              "</div>\n",
              "      <button class=\"colab-df-convert\" onclick=\"convertToInteractive('df-cc773b36-c2f0-4220-a21c-654a8aeed6e7')\"\n",
              "              title=\"Convert this dataframe to an interactive table.\"\n",
              "              style=\"display:none;\">\n",
              "        \n",
              "  <svg xmlns=\"http://www.w3.org/2000/svg\" height=\"24px\"viewBox=\"0 0 24 24\"\n",
              "       width=\"24px\">\n",
              "    <path d=\"M0 0h24v24H0V0z\" fill=\"none\"/>\n",
              "    <path d=\"M18.56 5.44l.94 2.06.94-2.06 2.06-.94-2.06-.94-.94-2.06-.94 2.06-2.06.94zm-11 1L8.5 8.5l.94-2.06 2.06-.94-2.06-.94L8.5 2.5l-.94 2.06-2.06.94zm10 10l.94 2.06.94-2.06 2.06-.94-2.06-.94-.94-2.06-.94 2.06-2.06.94z\"/><path d=\"M17.41 7.96l-1.37-1.37c-.4-.4-.92-.59-1.43-.59-.52 0-1.04.2-1.43.59L10.3 9.45l-7.72 7.72c-.78.78-.78 2.05 0 2.83L4 21.41c.39.39.9.59 1.41.59.51 0 1.02-.2 1.41-.59l7.78-7.78 2.81-2.81c.8-.78.8-2.07 0-2.86zM5.41 20L4 18.59l7.72-7.72 1.47 1.35L5.41 20z\"/>\n",
              "  </svg>\n",
              "      </button>\n",
              "      \n",
              "  <style>\n",
              "    .colab-df-container {\n",
              "      display:flex;\n",
              "      flex-wrap:wrap;\n",
              "      gap: 12px;\n",
              "    }\n",
              "\n",
              "    .colab-df-convert {\n",
              "      background-color: #E8F0FE;\n",
              "      border: none;\n",
              "      border-radius: 50%;\n",
              "      cursor: pointer;\n",
              "      display: none;\n",
              "      fill: #1967D2;\n",
              "      height: 32px;\n",
              "      padding: 0 0 0 0;\n",
              "      width: 32px;\n",
              "    }\n",
              "\n",
              "    .colab-df-convert:hover {\n",
              "      background-color: #E2EBFA;\n",
              "      box-shadow: 0px 1px 2px rgba(60, 64, 67, 0.3), 0px 1px 3px 1px rgba(60, 64, 67, 0.15);\n",
              "      fill: #174EA6;\n",
              "    }\n",
              "\n",
              "    [theme=dark] .colab-df-convert {\n",
              "      background-color: #3B4455;\n",
              "      fill: #D2E3FC;\n",
              "    }\n",
              "\n",
              "    [theme=dark] .colab-df-convert:hover {\n",
              "      background-color: #434B5C;\n",
              "      box-shadow: 0px 1px 3px 1px rgba(0, 0, 0, 0.15);\n",
              "      filter: drop-shadow(0px 1px 2px rgba(0, 0, 0, 0.3));\n",
              "      fill: #FFFFFF;\n",
              "    }\n",
              "  </style>\n",
              "\n",
              "      <script>\n",
              "        const buttonEl =\n",
              "          document.querySelector('#df-cc773b36-c2f0-4220-a21c-654a8aeed6e7 button.colab-df-convert');\n",
              "        buttonEl.style.display =\n",
              "          google.colab.kernel.accessAllowed ? 'block' : 'none';\n",
              "\n",
              "        async function convertToInteractive(key) {\n",
              "          const element = document.querySelector('#df-cc773b36-c2f0-4220-a21c-654a8aeed6e7');\n",
              "          const dataTable =\n",
              "            await google.colab.kernel.invokeFunction('convertToInteractive',\n",
              "                                                     [key], {});\n",
              "          if (!dataTable) return;\n",
              "\n",
              "          const docLinkHtml = 'Like what you see? Visit the ' +\n",
              "            '<a target=\"_blank\" href=https://colab.research.google.com/notebooks/data_table.ipynb>data table notebook</a>'\n",
              "            + ' to learn more about interactive tables.';\n",
              "          element.innerHTML = '';\n",
              "          dataTable['output_type'] = 'display_data';\n",
              "          await google.colab.output.renderOutput(dataTable, element);\n",
              "          const docLink = document.createElement('div');\n",
              "          docLink.innerHTML = docLinkHtml;\n",
              "          element.appendChild(docLink);\n",
              "        }\n",
              "      </script>\n",
              "    </div>\n",
              "  </div>\n",
              "  "
            ]
          },
          "metadata": {},
          "execution_count": 185
        }
      ]
    },
    {
      "cell_type": "markdown",
      "source": [
        "# Data Encoding"
      ],
      "metadata": {
        "id": "hObQaBjJvKMP"
      }
    },
    {
      "cell_type": "code",
      "source": [
        "x=data['Sex'].map({'male':1, 'female':0})\n"
      ],
      "metadata": {
        "id": "gvpZH0d_oyCE"
      },
      "execution_count": null,
      "outputs": []
    },
    {
      "cell_type": "code",
      "source": [
        "data['Embarked'].unique()\n"
      ],
      "metadata": {
        "colab": {
          "base_uri": "https://localhost:8080/"
        },
        "id": "Fcq7Ep5-o7bI",
        "outputId": "d339374f-a9cd-4978-b62f-9e3d352a26e8"
      },
      "execution_count": null,
      "outputs": [
        {
          "output_type": "execute_result",
          "data": {
            "text/plain": [
              "array(['S', 'Q', 'C'], dtype=object)"
            ]
          },
          "metadata": {},
          "execution_count": 187
        }
      ]
    },
    {
      "cell_type": "code",
      "source": [
        "pd.get_dummies(data,columns=['Embarked'])\n"
      ],
      "metadata": {
        "colab": {
          "base_uri": "https://localhost:8080/",
          "height": 886
        },
        "id": "70RYB1SZo-kv",
        "outputId": "3cbdc145-7a8f-4da4-85c1-177b8d228289"
      },
      "execution_count": null,
      "outputs": [
        {
          "output_type": "execute_result",
          "data": {
            "text/plain": [
              "      PassengerId  Survived  Pclass  \\\n",
              "1148         1149         0       3   \n",
              "1049         1050         0       1   \n",
              "982           983         0       3   \n",
              "808           809         0       2   \n",
              "1195         1196         1       3   \n",
              "...           ...       ...     ...   \n",
              "1095         1096         0       2   \n",
              "1130         1131         1       1   \n",
              "1294         1295         0       1   \n",
              "860           861         0       3   \n",
              "1126         1127         0       3   \n",
              "\n",
              "                                             Name     Sex        Age  SibSp  \\\n",
              "1148                        Niklasson, Mr. Samuel    male  28.000000      0   \n",
              "1049                     Borebank, Mr. John James    male  42.000000      0   \n",
              "982                            Pedersen, Mr. Olaf    male  29.881138      0   \n",
              "808                             Meyer, Mr. August    male  39.000000      0   \n",
              "1195            McCarthy, Miss. Catherine Katie\"\"  female  29.881138      0   \n",
              "...                                           ...     ...        ...    ...   \n",
              "1095                     Andrew, Mr. Frank Thomas    male  25.000000      0   \n",
              "1130  Douglas, Mrs. Walter Donald (Mahala Dutton)  female  48.000000      1   \n",
              "1294                       Carrau, Mr. Jose Pedro    male  17.000000      0   \n",
              "860                       Hansen, Mr. Claus Peter    male  41.000000      2   \n",
              "1126                       Vendel, Mr. Olof Edvin    male  20.000000      0   \n",
              "\n",
              "      Parch      Ticket      Fare  Gender  Embarked_C  Embarked_Q  Embarked_S  \n",
              "1148      0      363611    8.0500       1           0           0           1  \n",
              "1049      0      110489   26.5500       1           0           0           1  \n",
              "982       0      345498    7.7750       1           0           0           1  \n",
              "808       0      248723   13.0000       1           0           0           1  \n",
              "1195      0      383123    7.7500       0           0           1           0  \n",
              "...     ...         ...       ...     ...         ...         ...         ...  \n",
              "1095      0  C.A. 34050   10.5000       1           0           0           1  \n",
              "1130      0    PC 17761  106.4250       0           1           0           0  \n",
              "1294      0      113059   47.1000       1           0           0           1  \n",
              "860       0      350026   14.1083       1           0           0           1  \n",
              "1126      0      350416    7.8542       1           0           0           1  \n",
              "\n",
              "[1309 rows x 14 columns]"
            ],
            "text/html": [
              "\n",
              "  <div id=\"df-8bc278c5-60d0-4ecd-978e-b310ab9913ad\">\n",
              "    <div class=\"colab-df-container\">\n",
              "      <div>\n",
              "<style scoped>\n",
              "    .dataframe tbody tr th:only-of-type {\n",
              "        vertical-align: middle;\n",
              "    }\n",
              "\n",
              "    .dataframe tbody tr th {\n",
              "        vertical-align: top;\n",
              "    }\n",
              "\n",
              "    .dataframe thead th {\n",
              "        text-align: right;\n",
              "    }\n",
              "</style>\n",
              "<table border=\"1\" class=\"dataframe\">\n",
              "  <thead>\n",
              "    <tr style=\"text-align: right;\">\n",
              "      <th></th>\n",
              "      <th>PassengerId</th>\n",
              "      <th>Survived</th>\n",
              "      <th>Pclass</th>\n",
              "      <th>Name</th>\n",
              "      <th>Sex</th>\n",
              "      <th>Age</th>\n",
              "      <th>SibSp</th>\n",
              "      <th>Parch</th>\n",
              "      <th>Ticket</th>\n",
              "      <th>Fare</th>\n",
              "      <th>Gender</th>\n",
              "      <th>Embarked_C</th>\n",
              "      <th>Embarked_Q</th>\n",
              "      <th>Embarked_S</th>\n",
              "    </tr>\n",
              "  </thead>\n",
              "  <tbody>\n",
              "    <tr>\n",
              "      <th>1148</th>\n",
              "      <td>1149</td>\n",
              "      <td>0</td>\n",
              "      <td>3</td>\n",
              "      <td>Niklasson, Mr. Samuel</td>\n",
              "      <td>male</td>\n",
              "      <td>28.000000</td>\n",
              "      <td>0</td>\n",
              "      <td>0</td>\n",
              "      <td>363611</td>\n",
              "      <td>8.0500</td>\n",
              "      <td>1</td>\n",
              "      <td>0</td>\n",
              "      <td>0</td>\n",
              "      <td>1</td>\n",
              "    </tr>\n",
              "    <tr>\n",
              "      <th>1049</th>\n",
              "      <td>1050</td>\n",
              "      <td>0</td>\n",
              "      <td>1</td>\n",
              "      <td>Borebank, Mr. John James</td>\n",
              "      <td>male</td>\n",
              "      <td>42.000000</td>\n",
              "      <td>0</td>\n",
              "      <td>0</td>\n",
              "      <td>110489</td>\n",
              "      <td>26.5500</td>\n",
              "      <td>1</td>\n",
              "      <td>0</td>\n",
              "      <td>0</td>\n",
              "      <td>1</td>\n",
              "    </tr>\n",
              "    <tr>\n",
              "      <th>982</th>\n",
              "      <td>983</td>\n",
              "      <td>0</td>\n",
              "      <td>3</td>\n",
              "      <td>Pedersen, Mr. Olaf</td>\n",
              "      <td>male</td>\n",
              "      <td>29.881138</td>\n",
              "      <td>0</td>\n",
              "      <td>0</td>\n",
              "      <td>345498</td>\n",
              "      <td>7.7750</td>\n",
              "      <td>1</td>\n",
              "      <td>0</td>\n",
              "      <td>0</td>\n",
              "      <td>1</td>\n",
              "    </tr>\n",
              "    <tr>\n",
              "      <th>808</th>\n",
              "      <td>809</td>\n",
              "      <td>0</td>\n",
              "      <td>2</td>\n",
              "      <td>Meyer, Mr. August</td>\n",
              "      <td>male</td>\n",
              "      <td>39.000000</td>\n",
              "      <td>0</td>\n",
              "      <td>0</td>\n",
              "      <td>248723</td>\n",
              "      <td>13.0000</td>\n",
              "      <td>1</td>\n",
              "      <td>0</td>\n",
              "      <td>0</td>\n",
              "      <td>1</td>\n",
              "    </tr>\n",
              "    <tr>\n",
              "      <th>1195</th>\n",
              "      <td>1196</td>\n",
              "      <td>1</td>\n",
              "      <td>3</td>\n",
              "      <td>McCarthy, Miss. Catherine Katie\"\"</td>\n",
              "      <td>female</td>\n",
              "      <td>29.881138</td>\n",
              "      <td>0</td>\n",
              "      <td>0</td>\n",
              "      <td>383123</td>\n",
              "      <td>7.7500</td>\n",
              "      <td>0</td>\n",
              "      <td>0</td>\n",
              "      <td>1</td>\n",
              "      <td>0</td>\n",
              "    </tr>\n",
              "    <tr>\n",
              "      <th>...</th>\n",
              "      <td>...</td>\n",
              "      <td>...</td>\n",
              "      <td>...</td>\n",
              "      <td>...</td>\n",
              "      <td>...</td>\n",
              "      <td>...</td>\n",
              "      <td>...</td>\n",
              "      <td>...</td>\n",
              "      <td>...</td>\n",
              "      <td>...</td>\n",
              "      <td>...</td>\n",
              "      <td>...</td>\n",
              "      <td>...</td>\n",
              "      <td>...</td>\n",
              "    </tr>\n",
              "    <tr>\n",
              "      <th>1095</th>\n",
              "      <td>1096</td>\n",
              "      <td>0</td>\n",
              "      <td>2</td>\n",
              "      <td>Andrew, Mr. Frank Thomas</td>\n",
              "      <td>male</td>\n",
              "      <td>25.000000</td>\n",
              "      <td>0</td>\n",
              "      <td>0</td>\n",
              "      <td>C.A. 34050</td>\n",
              "      <td>10.5000</td>\n",
              "      <td>1</td>\n",
              "      <td>0</td>\n",
              "      <td>0</td>\n",
              "      <td>1</td>\n",
              "    </tr>\n",
              "    <tr>\n",
              "      <th>1130</th>\n",
              "      <td>1131</td>\n",
              "      <td>1</td>\n",
              "      <td>1</td>\n",
              "      <td>Douglas, Mrs. Walter Donald (Mahala Dutton)</td>\n",
              "      <td>female</td>\n",
              "      <td>48.000000</td>\n",
              "      <td>1</td>\n",
              "      <td>0</td>\n",
              "      <td>PC 17761</td>\n",
              "      <td>106.4250</td>\n",
              "      <td>0</td>\n",
              "      <td>1</td>\n",
              "      <td>0</td>\n",
              "      <td>0</td>\n",
              "    </tr>\n",
              "    <tr>\n",
              "      <th>1294</th>\n",
              "      <td>1295</td>\n",
              "      <td>0</td>\n",
              "      <td>1</td>\n",
              "      <td>Carrau, Mr. Jose Pedro</td>\n",
              "      <td>male</td>\n",
              "      <td>17.000000</td>\n",
              "      <td>0</td>\n",
              "      <td>0</td>\n",
              "      <td>113059</td>\n",
              "      <td>47.1000</td>\n",
              "      <td>1</td>\n",
              "      <td>0</td>\n",
              "      <td>0</td>\n",
              "      <td>1</td>\n",
              "    </tr>\n",
              "    <tr>\n",
              "      <th>860</th>\n",
              "      <td>861</td>\n",
              "      <td>0</td>\n",
              "      <td>3</td>\n",
              "      <td>Hansen, Mr. Claus Peter</td>\n",
              "      <td>male</td>\n",
              "      <td>41.000000</td>\n",
              "      <td>2</td>\n",
              "      <td>0</td>\n",
              "      <td>350026</td>\n",
              "      <td>14.1083</td>\n",
              "      <td>1</td>\n",
              "      <td>0</td>\n",
              "      <td>0</td>\n",
              "      <td>1</td>\n",
              "    </tr>\n",
              "    <tr>\n",
              "      <th>1126</th>\n",
              "      <td>1127</td>\n",
              "      <td>0</td>\n",
              "      <td>3</td>\n",
              "      <td>Vendel, Mr. Olof Edvin</td>\n",
              "      <td>male</td>\n",
              "      <td>20.000000</td>\n",
              "      <td>0</td>\n",
              "      <td>0</td>\n",
              "      <td>350416</td>\n",
              "      <td>7.8542</td>\n",
              "      <td>1</td>\n",
              "      <td>0</td>\n",
              "      <td>0</td>\n",
              "      <td>1</td>\n",
              "    </tr>\n",
              "  </tbody>\n",
              "</table>\n",
              "<p>1309 rows × 14 columns</p>\n",
              "</div>\n",
              "      <button class=\"colab-df-convert\" onclick=\"convertToInteractive('df-8bc278c5-60d0-4ecd-978e-b310ab9913ad')\"\n",
              "              title=\"Convert this dataframe to an interactive table.\"\n",
              "              style=\"display:none;\">\n",
              "        \n",
              "  <svg xmlns=\"http://www.w3.org/2000/svg\" height=\"24px\"viewBox=\"0 0 24 24\"\n",
              "       width=\"24px\">\n",
              "    <path d=\"M0 0h24v24H0V0z\" fill=\"none\"/>\n",
              "    <path d=\"M18.56 5.44l.94 2.06.94-2.06 2.06-.94-2.06-.94-.94-2.06-.94 2.06-2.06.94zm-11 1L8.5 8.5l.94-2.06 2.06-.94-2.06-.94L8.5 2.5l-.94 2.06-2.06.94zm10 10l.94 2.06.94-2.06 2.06-.94-2.06-.94-.94-2.06-.94 2.06-2.06.94z\"/><path d=\"M17.41 7.96l-1.37-1.37c-.4-.4-.92-.59-1.43-.59-.52 0-1.04.2-1.43.59L10.3 9.45l-7.72 7.72c-.78.78-.78 2.05 0 2.83L4 21.41c.39.39.9.59 1.41.59.51 0 1.02-.2 1.41-.59l7.78-7.78 2.81-2.81c.8-.78.8-2.07 0-2.86zM5.41 20L4 18.59l7.72-7.72 1.47 1.35L5.41 20z\"/>\n",
              "  </svg>\n",
              "      </button>\n",
              "      \n",
              "  <style>\n",
              "    .colab-df-container {\n",
              "      display:flex;\n",
              "      flex-wrap:wrap;\n",
              "      gap: 12px;\n",
              "    }\n",
              "\n",
              "    .colab-df-convert {\n",
              "      background-color: #E8F0FE;\n",
              "      border: none;\n",
              "      border-radius: 50%;\n",
              "      cursor: pointer;\n",
              "      display: none;\n",
              "      fill: #1967D2;\n",
              "      height: 32px;\n",
              "      padding: 0 0 0 0;\n",
              "      width: 32px;\n",
              "    }\n",
              "\n",
              "    .colab-df-convert:hover {\n",
              "      background-color: #E2EBFA;\n",
              "      box-shadow: 0px 1px 2px rgba(60, 64, 67, 0.3), 0px 1px 3px 1px rgba(60, 64, 67, 0.15);\n",
              "      fill: #174EA6;\n",
              "    }\n",
              "\n",
              "    [theme=dark] .colab-df-convert {\n",
              "      background-color: #3B4455;\n",
              "      fill: #D2E3FC;\n",
              "    }\n",
              "\n",
              "    [theme=dark] .colab-df-convert:hover {\n",
              "      background-color: #434B5C;\n",
              "      box-shadow: 0px 1px 3px 1px rgba(0, 0, 0, 0.15);\n",
              "      filter: drop-shadow(0px 1px 2px rgba(0, 0, 0, 0.3));\n",
              "      fill: #FFFFFF;\n",
              "    }\n",
              "  </style>\n",
              "\n",
              "      <script>\n",
              "        const buttonEl =\n",
              "          document.querySelector('#df-8bc278c5-60d0-4ecd-978e-b310ab9913ad button.colab-df-convert');\n",
              "        buttonEl.style.display =\n",
              "          google.colab.kernel.accessAllowed ? 'block' : 'none';\n",
              "\n",
              "        async function convertToInteractive(key) {\n",
              "          const element = document.querySelector('#df-8bc278c5-60d0-4ecd-978e-b310ab9913ad');\n",
              "          const dataTable =\n",
              "            await google.colab.kernel.invokeFunction('convertToInteractive',\n",
              "                                                     [key], {});\n",
              "          if (!dataTable) return;\n",
              "\n",
              "          const docLinkHtml = 'Like what you see? Visit the ' +\n",
              "            '<a target=\"_blank\" href=https://colab.research.google.com/notebooks/data_table.ipynb>data table notebook</a>'\n",
              "            + ' to learn more about interactive tables.';\n",
              "          element.innerHTML = '';\n",
              "          dataTable['output_type'] = 'display_data';\n",
              "          await google.colab.output.renderOutput(dataTable, element);\n",
              "          const docLink = document.createElement('div');\n",
              "          docLink.innerHTML = docLinkHtml;\n",
              "          element.appendChild(docLink);\n",
              "        }\n",
              "      </script>\n",
              "    </div>\n",
              "  </div>\n",
              "  "
            ]
          },
          "metadata": {},
          "execution_count": 188
        }
      ]
    },
    {
      "cell_type": "code",
      "source": [
        "data1=pd.get_dummies(data,columns=['Embarked'],drop_first=True)\n"
      ],
      "metadata": {
        "id": "7goYGXlUpBmQ"
      },
      "execution_count": null,
      "outputs": []
    },
    {
      "cell_type": "code",
      "source": [
        "data1.head(1)\n"
      ],
      "metadata": {
        "colab": {
          "base_uri": "https://localhost:8080/",
          "height": 179
        },
        "id": "Z_T8SQVYpFOP",
        "outputId": "1c88868c-c72f-4947-ce88-93c9fc1fa035"
      },
      "execution_count": null,
      "outputs": [
        {
          "output_type": "execute_result",
          "data": {
            "text/plain": [
              "      PassengerId  Survived  Pclass                   Name   Sex   Age  SibSp  \\\n",
              "1148         1149         0       3  Niklasson, Mr. Samuel  male  28.0      0   \n",
              "\n",
              "      Parch  Ticket  Fare  Gender  Embarked_Q  Embarked_S  \n",
              "1148      0  363611  8.05       1           0           1  "
            ],
            "text/html": [
              "\n",
              "  <div id=\"df-460496b0-f3ee-421a-9118-3c2eeb46fabb\">\n",
              "    <div class=\"colab-df-container\">\n",
              "      <div>\n",
              "<style scoped>\n",
              "    .dataframe tbody tr th:only-of-type {\n",
              "        vertical-align: middle;\n",
              "    }\n",
              "\n",
              "    .dataframe tbody tr th {\n",
              "        vertical-align: top;\n",
              "    }\n",
              "\n",
              "    .dataframe thead th {\n",
              "        text-align: right;\n",
              "    }\n",
              "</style>\n",
              "<table border=\"1\" class=\"dataframe\">\n",
              "  <thead>\n",
              "    <tr style=\"text-align: right;\">\n",
              "      <th></th>\n",
              "      <th>PassengerId</th>\n",
              "      <th>Survived</th>\n",
              "      <th>Pclass</th>\n",
              "      <th>Name</th>\n",
              "      <th>Sex</th>\n",
              "      <th>Age</th>\n",
              "      <th>SibSp</th>\n",
              "      <th>Parch</th>\n",
              "      <th>Ticket</th>\n",
              "      <th>Fare</th>\n",
              "      <th>Gender</th>\n",
              "      <th>Embarked_Q</th>\n",
              "      <th>Embarked_S</th>\n",
              "    </tr>\n",
              "  </thead>\n",
              "  <tbody>\n",
              "    <tr>\n",
              "      <th>1148</th>\n",
              "      <td>1149</td>\n",
              "      <td>0</td>\n",
              "      <td>3</td>\n",
              "      <td>Niklasson, Mr. Samuel</td>\n",
              "      <td>male</td>\n",
              "      <td>28.0</td>\n",
              "      <td>0</td>\n",
              "      <td>0</td>\n",
              "      <td>363611</td>\n",
              "      <td>8.05</td>\n",
              "      <td>1</td>\n",
              "      <td>0</td>\n",
              "      <td>1</td>\n",
              "    </tr>\n",
              "  </tbody>\n",
              "</table>\n",
              "</div>\n",
              "      <button class=\"colab-df-convert\" onclick=\"convertToInteractive('df-460496b0-f3ee-421a-9118-3c2eeb46fabb')\"\n",
              "              title=\"Convert this dataframe to an interactive table.\"\n",
              "              style=\"display:none;\">\n",
              "        \n",
              "  <svg xmlns=\"http://www.w3.org/2000/svg\" height=\"24px\"viewBox=\"0 0 24 24\"\n",
              "       width=\"24px\">\n",
              "    <path d=\"M0 0h24v24H0V0z\" fill=\"none\"/>\n",
              "    <path d=\"M18.56 5.44l.94 2.06.94-2.06 2.06-.94-2.06-.94-.94-2.06-.94 2.06-2.06.94zm-11 1L8.5 8.5l.94-2.06 2.06-.94-2.06-.94L8.5 2.5l-.94 2.06-2.06.94zm10 10l.94 2.06.94-2.06 2.06-.94-2.06-.94-.94-2.06-.94 2.06-2.06.94z\"/><path d=\"M17.41 7.96l-1.37-1.37c-.4-.4-.92-.59-1.43-.59-.52 0-1.04.2-1.43.59L10.3 9.45l-7.72 7.72c-.78.78-.78 2.05 0 2.83L4 21.41c.39.39.9.59 1.41.59.51 0 1.02-.2 1.41-.59l7.78-7.78 2.81-2.81c.8-.78.8-2.07 0-2.86zM5.41 20L4 18.59l7.72-7.72 1.47 1.35L5.41 20z\"/>\n",
              "  </svg>\n",
              "      </button>\n",
              "      \n",
              "  <style>\n",
              "    .colab-df-container {\n",
              "      display:flex;\n",
              "      flex-wrap:wrap;\n",
              "      gap: 12px;\n",
              "    }\n",
              "\n",
              "    .colab-df-convert {\n",
              "      background-color: #E8F0FE;\n",
              "      border: none;\n",
              "      border-radius: 50%;\n",
              "      cursor: pointer;\n",
              "      display: none;\n",
              "      fill: #1967D2;\n",
              "      height: 32px;\n",
              "      padding: 0 0 0 0;\n",
              "      width: 32px;\n",
              "    }\n",
              "\n",
              "    .colab-df-convert:hover {\n",
              "      background-color: #E2EBFA;\n",
              "      box-shadow: 0px 1px 2px rgba(60, 64, 67, 0.3), 0px 1px 3px 1px rgba(60, 64, 67, 0.15);\n",
              "      fill: #174EA6;\n",
              "    }\n",
              "\n",
              "    [theme=dark] .colab-df-convert {\n",
              "      background-color: #3B4455;\n",
              "      fill: #D2E3FC;\n",
              "    }\n",
              "\n",
              "    [theme=dark] .colab-df-convert:hover {\n",
              "      background-color: #434B5C;\n",
              "      box-shadow: 0px 1px 3px 1px rgba(0, 0, 0, 0.15);\n",
              "      filter: drop-shadow(0px 1px 2px rgba(0, 0, 0, 0.3));\n",
              "      fill: #FFFFFF;\n",
              "    }\n",
              "  </style>\n",
              "\n",
              "      <script>\n",
              "        const buttonEl =\n",
              "          document.querySelector('#df-460496b0-f3ee-421a-9118-3c2eeb46fabb button.colab-df-convert');\n",
              "        buttonEl.style.display =\n",
              "          google.colab.kernel.accessAllowed ? 'block' : 'none';\n",
              "\n",
              "        async function convertToInteractive(key) {\n",
              "          const element = document.querySelector('#df-460496b0-f3ee-421a-9118-3c2eeb46fabb');\n",
              "          const dataTable =\n",
              "            await google.colab.kernel.invokeFunction('convertToInteractive',\n",
              "                                                     [key], {});\n",
              "          if (!dataTable) return;\n",
              "\n",
              "          const docLinkHtml = 'Like what you see? Visit the ' +\n",
              "            '<a target=\"_blank\" href=https://colab.research.google.com/notebooks/data_table.ipynb>data table notebook</a>'\n",
              "            + ' to learn more about interactive tables.';\n",
              "          element.innerHTML = '';\n",
              "          dataTable['output_type'] = 'display_data';\n",
              "          await google.colab.output.renderOutput(dataTable, element);\n",
              "          const docLink = document.createElement('div');\n",
              "          docLink.innerHTML = docLinkHtml;\n",
              "          element.appendChild(docLink);\n",
              "        }\n",
              "      </script>\n",
              "    </div>\n",
              "  </div>\n",
              "  "
            ]
          },
          "metadata": {},
          "execution_count": 190
        }
      ]
    },
    {
      "cell_type": "markdown",
      "source": [
        "# Visual Analysis"
      ],
      "metadata": {
        "id": "b-D3n_3vu9GP"
      }
    },
    {
      "cell_type": "markdown",
      "source": [
        "## How Many People Survived And How Many Died?"
      ],
      "metadata": {
        "id": "t4YKVUCkuzS3"
      }
    },
    {
      "cell_type": "code",
      "source": [
        "data['Survived'].value_counts()\n"
      ],
      "metadata": {
        "colab": {
          "base_uri": "https://localhost:8080/"
        },
        "id": "Po8ys-q2pINT",
        "outputId": "e939f460-de06-4ce9-f5fe-5b054459a8d5"
      },
      "execution_count": null,
      "outputs": [
        {
          "output_type": "execute_result",
          "data": {
            "text/plain": [
              "0    815\n",
              "1    494\n",
              "Name: Survived, dtype: int64"
            ]
          },
          "metadata": {},
          "execution_count": 191
        }
      ]
    },
    {
      "cell_type": "code",
      "source": [
        "import seaborn as sns\n",
        "import matplotlib.pyplot as plt\n",
        "sns.countplot(x='Survived',data=data)\n"
      ],
      "metadata": {
        "colab": {
          "base_uri": "https://localhost:8080/",
          "height": 466
        },
        "id": "dHkV04llpNiI",
        "outputId": "eba6c5ab-7e58-4367-f20e-66acbe775bdb"
      },
      "execution_count": null,
      "outputs": [
        {
          "output_type": "execute_result",
          "data": {
            "text/plain": [
              "<Axes: xlabel='Survived', ylabel='count'>"
            ]
          },
          "metadata": {},
          "execution_count": 192
        },
        {
          "output_type": "display_data",
          "data": {
            "text/plain": [
              "<Figure size 640x480 with 1 Axes>"
            ],
            "image/png": "[encoded data removed]"
          },
          "metadata": {}
        }
      ]
    },
    {
      "cell_type": "markdown",
      "source": [
        "## How Many Passengers Were In First Class, Second Class, and Third Class?"
      ],
      "metadata": {
        "id": "4FZZ8cmuq_vj"
      }
    },
    {
      "cell_type": "code",
      "source": [
        "data['Pclass'].value_counts()\n"
      ],
      "metadata": {
        "colab": {
          "base_uri": "https://localhost:8080/"
        },
        "id": "-rqOq_SApT6z",
        "outputId": "dde48d4d-493b-4f6f-ec79-7070224c2329"
      },
      "execution_count": null,
      "outputs": [
        {
          "output_type": "execute_result",
          "data": {
            "text/plain": [
              "3    709\n",
              "1    323\n",
              "2    277\n",
              "Name: Pclass, dtype: int64"
            ]
          },
          "metadata": {},
          "execution_count": 193
        }
      ]
    },
    {
      "cell_type": "code",
      "source": [
        "sns.countplot(x='Pclass', data=data)\n"
      ],
      "metadata": {
        "colab": {
          "base_uri": "https://localhost:8080/",
          "height": 466
        },
        "id": "pIXqcqlBpect",
        "outputId": "6937063f-e9e3-4636-8c47-93182c56fa94"
      },
      "execution_count": null,
      "outputs": [
        {
          "output_type": "execute_result",
          "data": {
            "text/plain": [
              "<Axes: xlabel='Pclass', ylabel='count'>"
            ]
          },
          "metadata": {},
          "execution_count": 194
        },
        {
          "output_type": "display_data",
          "data": {
            "text/plain": [
              "<Figure size 640x480 with 1 Axes>"
            ],
            "image/png": "[encoded data removed]"
          },
          "metadata": {}
        }
      ]
    },
    {
      "cell_type": "markdown",
      "source": [
        "## Number of Male And Female Passengers"
      ],
      "metadata": {
        "id": "9avFxvUSq3SE"
      }
    },
    {
      "cell_type": "code",
      "source": [
        "data['Sex'].value_counts()\n"
      ],
      "metadata": {
        "colab": {
          "base_uri": "https://localhost:8080/"
        },
        "id": "dnQr_53uphJo",
        "outputId": "b231107b-9740-4a96-e21b-ace28ea19339"
      },
      "execution_count": null,
      "outputs": [
        {
          "output_type": "execute_result",
          "data": {
            "text/plain": [
              "male      843\n",
              "female    466\n",
              "Name: Sex, dtype: int64"
            ]
          },
          "metadata": {},
          "execution_count": 195
        }
      ]
    },
    {
      "cell_type": "code",
      "source": [
        "sns.countplot(x ='Sex', data = data)\n"
      ],
      "metadata": {
        "colab": {
          "base_uri": "https://localhost:8080/",
          "height": 466
        },
        "id": "CYlkj24Apkjz",
        "outputId": "058eed82-0f6f-49e7-89af-9d0addd660fe"
      },
      "execution_count": null,
      "outputs": [
        {
          "output_type": "execute_result",
          "data": {
            "text/plain": [
              "<Axes: xlabel='Sex', ylabel='count'>"
            ]
          },
          "metadata": {},
          "execution_count": 196
        },
        {
          "output_type": "display_data",
          "data": {
            "text/plain": [
              "<Figure size 640x480 with 1 Axes>"
            ],
            "image/png": "[encoded data removed]"
          },
          "metadata": {}
        }
      ]
    },
    {
      "cell_type": "code",
      "source": [
        "plt.hist(data['Age'])\n"
      ],
      "metadata": {
        "colab": {
          "base_uri": "https://localhost:8080/",
          "height": 499
        },
        "id": "Cmx8YyV4pnu1",
        "outputId": "8483cb27-e94f-44be-9613-063b24004d65"
      },
      "execution_count": null,
      "outputs": [
        {
          "output_type": "execute_result",
          "data": {
            "text/plain": [
              "(array([ 72.,  62., 274., 513., 161., 108.,  65.,  41.,  10.,   3.]),\n",
              " array([ 0.17 ,  8.153, 16.136, 24.119, 32.102, 40.085, 48.068, 56.051,\n",
              "        64.034, 72.017, 80.   ]),\n",
              " <BarContainer object of 10 artists>)"
            ]
          },
          "metadata": {},
          "execution_count": 197
        },
        {
          "output_type": "display_data",
          "data": {
            "text/plain": [
              "<Figure size 640x480 with 1 Axes>"
            ],
            "image/png": "[encoded data removed]"
          },
          "metadata": {}
        }
      ]
    },
    {
      "cell_type": "markdown",
      "source": [
        "#**12. Bivariate Analysis**\n",
        "\n",
        "\n"
      ],
      "metadata": {
        "id": "xa5hL6siqnxa"
      }
    },
    {
      "cell_type": "markdown",
      "source": [
        "## How Has Better Chance of Survival Male or Female?"
      ],
      "metadata": {
        "id": "08DDQOeOqcCl"
      }
    },
    {
      "cell_type": "code",
      "source": [
        "sns.barplot(x='Sex',y='Survived',data=data)\n"
      ],
      "metadata": {
        "colab": {
          "base_uri": "https://localhost:8080/",
          "height": 466
        },
        "id": "w_GyT5PFpr6X",
        "outputId": "b7043bd4-7c17-44a7-fac4-61dc99cdd8e7"
      },
      "execution_count": null,
      "outputs": [
        {
          "output_type": "execute_result",
          "data": {
            "text/plain": [
              "<Axes: xlabel='Sex', ylabel='Survived'>"
            ]
          },
          "metadata": {},
          "execution_count": 198
        },
        {
          "output_type": "display_data",
          "data": {
            "text/plain": [
              "<Figure size 640x480 with 1 Axes>"
            ],
            "image/png": "[encoded data removed]"
          },
          "metadata": {}
        }
      ]
    },
    {
      "cell_type": "markdown",
      "source": [
        "## Which Passenger Class Has Better Chance of Surviva(First, Second, Or Third Class)?"
      ],
      "metadata": {
        "id": "vG_ldXOAqMIj"
      }
    },
    {
      "cell_type": "code",
      "source": [
        "sns.barplot(x=\"Pclass\", y=\"Survived\",data=data)\n"
      ],
      "metadata": {
        "colab": {
          "base_uri": "https://localhost:8080/",
          "height": 466
        },
        "id": "mcgh0dCrpzAL",
        "outputId": "a4c8c456-d984-4682-9e9f-7b57ed6b47e7"
      },
      "execution_count": null,
      "outputs": [
        {
          "output_type": "execute_result",
          "data": {
            "text/plain": [
              "<Axes: xlabel='Pclass', ylabel='Survived'>"
            ]
          },
          "metadata": {},
          "execution_count": 199
        },
        {
          "output_type": "display_data",
          "data": {
            "text/plain": [
              "<Figure size 640x480 with 1 Axes>"
            ],
            "image/png": "[encoded data removed]"
          },
          "metadata": {}
        }
      ]
    },
    {
      "cell_type": "code",
      "source": [
        "\n",
        "# Convert categorical variables to numeric\n",
        "data = pd.get_dummies(data, columns=['Sex', 'Embarked'])\n",
        "data.head(5)"
      ],
      "metadata": {
        "colab": {
          "base_uri": "https://localhost:8080/",
          "height": 443
        },
        "id": "s7mq4VOpp3gk",
        "outputId": "d47c1ee3-002a-4fe4-e8ba-b0de7422c32d"
      },
      "execution_count": null,
      "outputs": [
        {
          "output_type": "execute_result",
          "data": {
            "text/plain": [
              "      PassengerId  Survived  Pclass                               Name  \\\n",
              "1148         1149         0       3              Niklasson, Mr. Samuel   \n",
              "1049         1050         0       1           Borebank, Mr. John James   \n",
              "982           983         0       3                 Pedersen, Mr. Olaf   \n",
              "808           809         0       2                  Meyer, Mr. August   \n",
              "1195         1196         1       3  McCarthy, Miss. Catherine Katie\"\"   \n",
              "\n",
              "            Age  SibSp  Parch  Ticket    Fare  Gender  Sex_female  Sex_male  \\\n",
              "1148  28.000000      0      0  363611   8.050       1           0         1   \n",
              "1049  42.000000      0      0  110489  26.550       1           0         1   \n",
              "982   29.881138      0      0  345498   7.775       1           0         1   \n",
              "808   39.000000      0      0  248723  13.000       1           0         1   \n",
              "1195  29.881138      0      0  383123   7.750       0           1         0   \n",
              "\n",
              "      Embarked_C  Embarked_Q  Embarked_S  \n",
              "1148           0           0           1  \n",
              "1049           0           0           1  \n",
              "982            0           0           1  \n",
              "808            0           0           1  \n",
              "1195           0           1           0  "
            ],
            "text/html": [
              "\n",
              "  <div id=\"df-9c9ef9b7-5d55-4cb2-848b-448378c9dc20\">\n",
              "    <div class=\"colab-df-container\">\n",
              "      <div>\n",
              "<style scoped>\n",
              "    .dataframe tbody tr th:only-of-type {\n",
              "        vertical-align: middle;\n",
              "    }\n",
              "\n",
              "    .dataframe tbody tr th {\n",
              "        vertical-align: top;\n",
              "    }\n",
              "\n",
              "    .dataframe thead th {\n",
              "        text-align: right;\n",
              "    }\n",
              "</style>\n",
              "<table border=\"1\" class=\"dataframe\">\n",
              "  <thead>\n",
              "    <tr style=\"text-align: right;\">\n",
              "      <th></th>\n",
              "      <th>PassengerId</th>\n",
              "      <th>Survived</th>\n",
              "      <th>Pclass</th>\n",
              "      <th>Name</th>\n",
              "      <th>Age</th>\n",
              "      <th>SibSp</th>\n",
              "      <th>Parch</th>\n",
              "      <th>Ticket</th>\n",
              "      <th>Fare</th>\n",
              "      <th>Gender</th>\n",
              "      <th>Sex_female</th>\n",
              "      <th>Sex_male</th>\n",
              "      <th>Embarked_C</th>\n",
              "      <th>Embarked_Q</th>\n",
              "      <th>Embarked_S</th>\n",
              "    </tr>\n",
              "  </thead>\n",
              "  <tbody>\n",
              "    <tr>\n",
              "      <th>1148</th>\n",
              "      <td>1149</td>\n",
              "      <td>0</td>\n",
              "      <td>3</td>\n",
              "      <td>Niklasson, Mr. Samuel</td>\n",
              "      <td>28.000000</td>\n",
              "      <td>0</td>\n",
              "      <td>0</td>\n",
              "      <td>363611</td>\n",
              "      <td>8.050</td>\n",
              "      <td>1</td>\n",
              "      <td>0</td>\n",
              "      <td>1</td>\n",
              "      <td>0</td>\n",
              "      <td>0</td>\n",
              "      <td>1</td>\n",
              "    </tr>\n",
              "    <tr>\n",
              "      <th>1049</th>\n",
              "      <td>1050</td>\n",
              "      <td>0</td>\n",
              "      <td>1</td>\n",
              "      <td>Borebank, Mr. John James</td>\n",
              "      <td>42.000000</td>\n",
              "      <td>0</td>\n",
              "      <td>0</td>\n",
              "      <td>110489</td>\n",
              "      <td>26.550</td>\n",
              "      <td>1</td>\n",
              "      <td>0</td>\n",
              "      <td>1</td>\n",
              "      <td>0</td>\n",
              "      <td>0</td>\n",
              "      <td>1</td>\n",
              "    </tr>\n",
              "    <tr>\n",
              "      <th>982</th>\n",
              "      <td>983</td>\n",
              "      <td>0</td>\n",
              "      <td>3</td>\n",
              "      <td>Pedersen, Mr. Olaf</td>\n",
              "      <td>29.881138</td>\n",
              "      <td>0</td>\n",
              "      <td>0</td>\n",
              "      <td>345498</td>\n",
              "      <td>7.775</td>\n",
              "      <td>1</td>\n",
              "      <td>0</td>\n",
              "      <td>1</td>\n",
              "      <td>0</td>\n",
              "      <td>0</td>\n",
              "      <td>1</td>\n",
              "    </tr>\n",
              "    <tr>\n",
              "      <th>808</th>\n",
              "      <td>809</td>\n",
              "      <td>0</td>\n",
              "      <td>2</td>\n",
              "      <td>Meyer, Mr. August</td>\n",
              "      <td>39.000000</td>\n",
              "      <td>0</td>\n",
              "      <td>0</td>\n",
              "      <td>248723</td>\n",
              "      <td>13.000</td>\n",
              "      <td>1</td>\n",
              "      <td>0</td>\n",
              "      <td>1</td>\n",
              "      <td>0</td>\n",
              "      <td>0</td>\n",
              "      <td>1</td>\n",
              "    </tr>\n",
              "    <tr>\n",
              "      <th>1195</th>\n",
              "      <td>1196</td>\n",
              "      <td>1</td>\n",
              "      <td>3</td>\n",
              "      <td>McCarthy, Miss. Catherine Katie\"\"</td>\n",
              "      <td>29.881138</td>\n",
              "      <td>0</td>\n",
              "      <td>0</td>\n",
              "      <td>383123</td>\n",
              "      <td>7.750</td>\n",
              "      <td>0</td>\n",
              "      <td>1</td>\n",
              "      <td>0</td>\n",
              "      <td>0</td>\n",
              "      <td>1</td>\n",
              "      <td>0</td>\n",
              "    </tr>\n",
              "  </tbody>\n",
              "</table>\n",
              "</div>\n",
              "      <button class=\"colab-df-convert\" onclick=\"convertToInteractive('df-9c9ef9b7-5d55-4cb2-848b-448378c9dc20')\"\n",
              "              title=\"Convert this dataframe to an interactive table.\"\n",
              "              style=\"display:none;\">\n",
              "        \n",
              "  <svg xmlns=\"http://www.w3.org/2000/svg\" height=\"24px\"viewBox=\"0 0 24 24\"\n",
              "       width=\"24px\">\n",
              "    <path d=\"M0 0h24v24H0V0z\" fill=\"none\"/>\n",
              "    <path d=\"M18.56 5.44l.94 2.06.94-2.06 2.06-.94-2.06-.94-.94-2.06-.94 2.06-2.06.94zm-11 1L8.5 8.5l.94-2.06 2.06-.94-2.06-.94L8.5 2.5l-.94 2.06-2.06.94zm10 10l.94 2.06.94-2.06 2.06-.94-2.06-.94-.94-2.06-.94 2.06-2.06.94z\"/><path d=\"M17.41 7.96l-1.37-1.37c-.4-.4-.92-.59-1.43-.59-.52 0-1.04.2-1.43.59L10.3 9.45l-7.72 7.72c-.78.78-.78 2.05 0 2.83L4 21.41c.39.39.9.59 1.41.59.51 0 1.02-.2 1.41-.59l7.78-7.78 2.81-2.81c.8-.78.8-2.07 0-2.86zM5.41 20L4 18.59l7.72-7.72 1.47 1.35L5.41 20z\"/>\n",
              "  </svg>\n",
              "      </button>\n",
              "      \n",
              "  <style>\n",
              "    .colab-df-container {\n",
              "      display:flex;\n",
              "      flex-wrap:wrap;\n",
              "      gap: 12px;\n",
              "    }\n",
              "\n",
              "    .colab-df-convert {\n",
              "      background-color: #E8F0FE;\n",
              "      border: none;\n",
              "      border-radius: 50%;\n",
              "      cursor: pointer;\n",
              "      display: none;\n",
              "      fill: #1967D2;\n",
              "      height: 32px;\n",
              "      padding: 0 0 0 0;\n",
              "      width: 32px;\n",
              "    }\n",
              "\n",
              "    .colab-df-convert:hover {\n",
              "      background-color: #E2EBFA;\n",
              "      box-shadow: 0px 1px 2px rgba(60, 64, 67, 0.3), 0px 1px 3px 1px rgba(60, 64, 67, 0.15);\n",
              "      fill: #174EA6;\n",
              "    }\n",
              "\n",
              "    [theme=dark] .colab-df-convert {\n",
              "      background-color: #3B4455;\n",
              "      fill: #D2E3FC;\n",
              "    }\n",
              "\n",
              "    [theme=dark] .colab-df-convert:hover {\n",
              "      background-color: #434B5C;\n",
              "      box-shadow: 0px 1px 3px 1px rgba(0, 0, 0, 0.15);\n",
              "      filter: drop-shadow(0px 1px 2px rgba(0, 0, 0, 0.3));\n",
              "      fill: #FFFFFF;\n",
              "    }\n",
              "  </style>\n",
              "\n",
              "      <script>\n",
              "        const buttonEl =\n",
              "          document.querySelector('#df-9c9ef9b7-5d55-4cb2-848b-448378c9dc20 button.colab-df-convert');\n",
              "        buttonEl.style.display =\n",
              "          google.colab.kernel.accessAllowed ? 'block' : 'none';\n",
              "\n",
              "        async function convertToInteractive(key) {\n",
              "          const element = document.querySelector('#df-9c9ef9b7-5d55-4cb2-848b-448378c9dc20');\n",
              "          const dataTable =\n",
              "            await google.colab.kernel.invokeFunction('convertToInteractive',\n",
              "                                                     [key], {});\n",
              "          if (!dataTable) return;\n",
              "\n",
              "          const docLinkHtml = 'Like what you see? Visit the ' +\n",
              "            '<a target=\"_blank\" href=https://colab.research.google.com/notebooks/data_table.ipynb>data table notebook</a>'\n",
              "            + ' to learn more about interactive tables.';\n",
              "          element.innerHTML = '';\n",
              "          dataTable['output_type'] = 'display_data';\n",
              "          await google.colab.output.renderOutput(dataTable, element);\n",
              "          const docLink = document.createElement('div');\n",
              "          docLink.innerHTML = docLinkHtml;\n",
              "          element.appendChild(docLink);\n",
              "        }\n",
              "      </script>\n",
              "    </div>\n",
              "  </div>\n",
              "  "
            ]
          },
          "metadata": {},
          "execution_count": 200
        }
      ]
    },
    {
      "cell_type": "code",
      "source": [
        "data=data.drop(['PassengerId', 'Name', 'Ticket'], axis=1)\n"
      ],
      "metadata": {
        "id": "0F4q_g8egtuS"
      },
      "execution_count": null,
      "outputs": []
    },
    {
      "cell_type": "markdown",
      "source": [
        "## Dataset Splitting into test and train"
      ],
      "metadata": {
        "id": "G_JVmMp0GtJK"
      }
    },
    {
      "cell_type": "code",
      "source": [
        "# Split the data into training and testing sets\n",
        "X = data.drop('Survived', axis=1)\n",
        "y = data['Survived']\n",
        "X_train, X_test, y_train, y_test = train_test_split(X, y, test_size=0.2, random_state=42)\n",
        "\n"
      ],
      "metadata": {
        "id": "OWL4Ma2gg8G7"
      },
      "execution_count": null,
      "outputs": []
    },
    {
      "cell_type": "markdown",
      "source": [
        "## Data Scaling"
      ],
      "metadata": {
        "id": "SkUzOOueG1kS"
      }
    },
    {
      "cell_type": "code",
      "source": [
        "# Scale the numeric features\n",
        "scaler = StandardScaler()\n",
        "X_train[['Age', 'Fare']] = scaler.fit_transform(X_train[['Age', 'Fare']])\n",
        "X_test[['Age', 'Fare']] = scaler.transform(X_test[['Age', 'Fare']])"
      ],
      "metadata": {
        "id": "dHT5ICB3iuTM"
      },
      "execution_count": null,
      "outputs": []
    },
    {
      "cell_type": "code",
      "source": [],
      "metadata": {
        "id": "hBKfPBfhi-Pd"
      },
      "execution_count": null,
      "outputs": []
    },
    {
      "cell_type": "markdown",
      "source": [
        "# Model 1: Logistic regression using ANN"
      ],
      "metadata": {
        "id": "iUELHd9YG8st"
      }
    },
    {
      "cell_type": "code",
      "source": [
        "# Define the model\n",
        "model = Sequential()\n",
        "model.add(Dense(1, input_shape=(X_train.shape[1],), activation='sigmoid'))\n",
        "\n",
        "# Compile the model\n",
        "model.compile(optimizer='adam', loss='binary_crossentropy', metrics=['accuracy'])\n",
        "\n",
        "# Model Fitting with 100 epochs and 32 batch_size\n",
        "model.fit(X_train, y_train, epochs=100, batch_size=32, verbose=1)\n"
      ],
      "metadata": {
        "colab": {
          "base_uri": "https://localhost:8080/"
        },
        "id": "_7HCHFnFiQyr",
        "outputId": "da3979ce-23b2-4d25-fa2a-07f0182bf2b8"
      },
      "execution_count": null,
      "outputs": [
        {
          "output_type": "stream",
          "name": "stdout",
          "text": [
            "Epoch 1/100\n",
            "33/33 [==============================] - 1s 2ms/step - loss: 0.6077 - accuracy: 0.7068\n",
            "Epoch 2/100\n",
            "33/33 [==============================] - 0s 2ms/step - loss: 0.5873 - accuracy: 0.7249\n",
            "Epoch 3/100\n",
            "33/33 [==============================] - 0s 2ms/step - loss: 0.5688 - accuracy: 0.7287\n",
            "Epoch 4/100\n",
            "33/33 [==============================] - 0s 2ms/step - loss: 0.5522 - accuracy: 0.7383\n",
            "Epoch 5/100\n",
            "33/33 [==============================] - 0s 2ms/step - loss: 0.5369 - accuracy: 0.7498\n",
            "Epoch 6/100\n",
            "33/33 [==============================] - 0s 2ms/step - loss: 0.5232 - accuracy: 0.7574\n",
            "Epoch 7/100\n",
            "33/33 [==============================] - 0s 2ms/step - loss: 0.5104 - accuracy: 0.7689\n",
            "Epoch 8/100\n",
            "33/33 [==============================] - 0s 2ms/step - loss: 0.4988 - accuracy: 0.7765\n",
            "Epoch 9/100\n",
            "33/33 [==============================] - 0s 2ms/step - loss: 0.4884 - accuracy: 0.7813\n",
            "Epoch 10/100\n",
            "33/33 [==============================] - 0s 2ms/step - loss: 0.4787 - accuracy: 0.7899\n",
            "Epoch 11/100\n",
            "33/33 [==============================] - 0s 2ms/step - loss: 0.4700 - accuracy: 0.7956\n",
            "Epoch 12/100\n",
            "33/33 [==============================] - 0s 2ms/step - loss: 0.4625 - accuracy: 0.8013\n",
            "Epoch 13/100\n",
            "33/33 [==============================] - 0s 3ms/step - loss: 0.4550 - accuracy: 0.8185\n",
            "Epoch 14/100\n",
            "33/33 [==============================] - 0s 3ms/step - loss: 0.4484 - accuracy: 0.8252\n",
            "Epoch 15/100\n",
            "33/33 [==============================] - 0s 2ms/step - loss: 0.4426 - accuracy: 0.8300\n",
            "Epoch 16/100\n",
            "33/33 [==============================] - 0s 2ms/step - loss: 0.4371 - accuracy: 0.8319\n",
            "Epoch 17/100\n",
            "33/33 [==============================] - 0s 2ms/step - loss: 0.4322 - accuracy: 0.8348\n",
            "Epoch 18/100\n",
            "33/33 [==============================] - 0s 2ms/step - loss: 0.4277 - accuracy: 0.8376\n",
            "Epoch 19/100\n",
            "33/33 [==============================] - 0s 2ms/step - loss: 0.4236 - accuracy: 0.8462\n",
            "Epoch 20/100\n",
            "33/33 [==============================] - 0s 2ms/step - loss: 0.4200 - accuracy: 0.8500\n",
            "Epoch 21/100\n",
            "33/33 [==============================] - 0s 2ms/step - loss: 0.4166 - accuracy: 0.8520\n",
            "Epoch 22/100\n",
            "33/33 [==============================] - 0s 2ms/step - loss: 0.4136 - accuracy: 0.8548\n",
            "Epoch 23/100\n",
            "33/33 [==============================] - 0s 2ms/step - loss: 0.4108 - accuracy: 0.8548\n",
            "Epoch 24/100\n",
            "33/33 [==============================] - 0s 2ms/step - loss: 0.4081 - accuracy: 0.8558\n",
            "Epoch 25/100\n",
            "33/33 [==============================] - 0s 2ms/step - loss: 0.4059 - accuracy: 0.8558\n",
            "Epoch 26/100\n",
            "33/33 [==============================] - 0s 2ms/step - loss: 0.4038 - accuracy: 0.8539\n",
            "Epoch 27/100\n",
            "33/33 [==============================] - 0s 2ms/step - loss: 0.4017 - accuracy: 0.8558\n",
            "Epoch 28/100\n",
            "33/33 [==============================] - 0s 2ms/step - loss: 0.3999 - accuracy: 0.8558\n",
            "Epoch 29/100\n",
            "33/33 [==============================] - 0s 2ms/step - loss: 0.3983 - accuracy: 0.8558\n",
            "Epoch 30/100\n",
            "33/33 [==============================] - 0s 2ms/step - loss: 0.3968 - accuracy: 0.8548\n",
            "Epoch 31/100\n",
            "33/33 [==============================] - 0s 2ms/step - loss: 0.3954 - accuracy: 0.8558\n",
            "Epoch 32/100\n",
            "33/33 [==============================] - 0s 2ms/step - loss: 0.3943 - accuracy: 0.8548\n",
            "Epoch 33/100\n",
            "33/33 [==============================] - 0s 2ms/step - loss: 0.3931 - accuracy: 0.8548\n",
            "Epoch 34/100\n",
            "33/33 [==============================] - 0s 2ms/step - loss: 0.3920 - accuracy: 0.8539\n",
            "Epoch 35/100\n",
            "33/33 [==============================] - 0s 2ms/step - loss: 0.3910 - accuracy: 0.8529\n",
            "Epoch 36/100\n",
            "33/33 [==============================] - 0s 2ms/step - loss: 0.3902 - accuracy: 0.8529\n",
            "Epoch 37/100\n",
            "33/33 [==============================] - 0s 3ms/step - loss: 0.3893 - accuracy: 0.8529\n",
            "Epoch 38/100\n",
            "33/33 [==============================] - 0s 2ms/step - loss: 0.3884 - accuracy: 0.8520\n",
            "Epoch 39/100\n",
            "33/33 [==============================] - 0s 2ms/step - loss: 0.3876 - accuracy: 0.8520\n",
            "Epoch 40/100\n",
            "33/33 [==============================] - 0s 2ms/step - loss: 0.3870 - accuracy: 0.8510\n",
            "Epoch 41/100\n",
            "33/33 [==============================] - 0s 2ms/step - loss: 0.3863 - accuracy: 0.8510\n",
            "Epoch 42/100\n",
            "33/33 [==============================] - 0s 2ms/step - loss: 0.3858 - accuracy: 0.8520\n",
            "Epoch 43/100\n",
            "33/33 [==============================] - 0s 2ms/step - loss: 0.3851 - accuracy: 0.8520\n",
            "Epoch 44/100\n",
            "33/33 [==============================] - 0s 3ms/step - loss: 0.3847 - accuracy: 0.8529\n",
            "Epoch 45/100\n",
            "33/33 [==============================] - 0s 2ms/step - loss: 0.3841 - accuracy: 0.8520\n",
            "Epoch 46/100\n",
            "33/33 [==============================] - 0s 2ms/step - loss: 0.3837 - accuracy: 0.8529\n",
            "Epoch 47/100\n",
            "33/33 [==============================] - 0s 2ms/step - loss: 0.3832 - accuracy: 0.8529\n",
            "Epoch 48/100\n",
            "33/33 [==============================] - 0s 2ms/step - loss: 0.3829 - accuracy: 0.8529\n",
            "Epoch 49/100\n",
            "33/33 [==============================] - 0s 2ms/step - loss: 0.3824 - accuracy: 0.8539\n",
            "Epoch 50/100\n",
            "33/33 [==============================] - 0s 2ms/step - loss: 0.3820 - accuracy: 0.8539\n",
            "Epoch 51/100\n",
            "33/33 [==============================] - 0s 2ms/step - loss: 0.3817 - accuracy: 0.8539\n",
            "Epoch 52/100\n",
            "33/33 [==============================] - 0s 2ms/step - loss: 0.3813 - accuracy: 0.8539\n",
            "Epoch 53/100\n",
            "33/33 [==============================] - 0s 2ms/step - loss: 0.3810 - accuracy: 0.8539\n",
            "Epoch 54/100\n",
            "33/33 [==============================] - 0s 2ms/step - loss: 0.3807 - accuracy: 0.8539\n",
            "Epoch 55/100\n",
            "33/33 [==============================] - 0s 2ms/step - loss: 0.3804 - accuracy: 0.8539\n",
            "Epoch 56/100\n",
            "33/33 [==============================] - 0s 2ms/step - loss: 0.3801 - accuracy: 0.8539\n",
            "Epoch 57/100\n",
            "33/33 [==============================] - 0s 2ms/step - loss: 0.3799 - accuracy: 0.8539\n",
            "Epoch 58/100\n",
            "33/33 [==============================] - 0s 2ms/step - loss: 0.3797 - accuracy: 0.8539\n",
            "Epoch 59/100\n",
            "33/33 [==============================] - 0s 2ms/step - loss: 0.3793 - accuracy: 0.8539\n",
            "Epoch 60/100\n",
            "33/33 [==============================] - 0s 2ms/step - loss: 0.3791 - accuracy: 0.8539\n",
            "Epoch 61/100\n",
            "33/33 [==============================] - 0s 2ms/step - loss: 0.3788 - accuracy: 0.8539\n",
            "Epoch 62/100\n",
            "33/33 [==============================] - 0s 2ms/step - loss: 0.3787 - accuracy: 0.8539\n",
            "Epoch 63/100\n",
            "33/33 [==============================] - 0s 2ms/step - loss: 0.3786 - accuracy: 0.8539\n",
            "Epoch 64/100\n",
            "33/33 [==============================] - 0s 2ms/step - loss: 0.3783 - accuracy: 0.8539\n",
            "Epoch 65/100\n",
            "33/33 [==============================] - 0s 2ms/step - loss: 0.3780 - accuracy: 0.8539\n",
            "Epoch 66/100\n",
            "33/33 [==============================] - 0s 2ms/step - loss: 0.3779 - accuracy: 0.8539\n",
            "Epoch 67/100\n",
            "33/33 [==============================] - 0s 2ms/step - loss: 0.3780 - accuracy: 0.8539\n",
            "Epoch 68/100\n",
            "33/33 [==============================] - 0s 2ms/step - loss: 0.3774 - accuracy: 0.8539\n",
            "Epoch 69/100\n",
            "33/33 [==============================] - 0s 2ms/step - loss: 0.3773 - accuracy: 0.8539\n",
            "Epoch 70/100\n",
            "33/33 [==============================] - 0s 2ms/step - loss: 0.3772 - accuracy: 0.8539\n",
            "Epoch 71/100\n",
            "33/33 [==============================] - 0s 2ms/step - loss: 0.3769 - accuracy: 0.8539\n",
            "Epoch 72/100\n",
            "33/33 [==============================] - 0s 2ms/step - loss: 0.3768 - accuracy: 0.8539\n",
            "Epoch 73/100\n",
            "33/33 [==============================] - 0s 2ms/step - loss: 0.3767 - accuracy: 0.8539\n",
            "Epoch 74/100\n",
            "33/33 [==============================] - 0s 2ms/step - loss: 0.3766 - accuracy: 0.8548\n",
            "Epoch 75/100\n",
            "33/33 [==============================] - 0s 2ms/step - loss: 0.3763 - accuracy: 0.8539\n",
            "Epoch 76/100\n",
            "33/33 [==============================] - 0s 2ms/step - loss: 0.3762 - accuracy: 0.8539\n",
            "Epoch 77/100\n",
            "33/33 [==============================] - 0s 2ms/step - loss: 0.3761 - accuracy: 0.8548\n",
            "Epoch 78/100\n",
            "33/33 [==============================] - 0s 2ms/step - loss: 0.3762 - accuracy: 0.8539\n",
            "Epoch 79/100\n",
            "33/33 [==============================] - 0s 2ms/step - loss: 0.3758 - accuracy: 0.8548\n",
            "Epoch 80/100\n",
            "33/33 [==============================] - 0s 2ms/step - loss: 0.3757 - accuracy: 0.8548\n",
            "Epoch 81/100\n",
            "33/33 [==============================] - 0s 2ms/step - loss: 0.3756 - accuracy: 0.8539\n",
            "Epoch 82/100\n",
            "33/33 [==============================] - 0s 2ms/step - loss: 0.3754 - accuracy: 0.8548\n",
            "Epoch 83/100\n",
            "33/33 [==============================] - 0s 2ms/step - loss: 0.3754 - accuracy: 0.8548\n",
            "Epoch 84/100\n",
            "33/33 [==============================] - 0s 2ms/step - loss: 0.3751 - accuracy: 0.8548\n",
            "Epoch 85/100\n",
            "33/33 [==============================] - 0s 2ms/step - loss: 0.3750 - accuracy: 0.8548\n",
            "Epoch 86/100\n",
            "33/33 [==============================] - 0s 2ms/step - loss: 0.3749 - accuracy: 0.8548\n",
            "Epoch 87/100\n",
            "33/33 [==============================] - 0s 2ms/step - loss: 0.3748 - accuracy: 0.8548\n",
            "Epoch 88/100\n",
            "33/33 [==============================] - 0s 2ms/step - loss: 0.3748 - accuracy: 0.8548\n",
            "Epoch 89/100\n",
            "33/33 [==============================] - 0s 2ms/step - loss: 0.3747 - accuracy: 0.8548\n",
            "Epoch 90/100\n",
            "33/33 [==============================] - 0s 2ms/step - loss: 0.3744 - accuracy: 0.8548\n",
            "Epoch 91/100\n",
            "33/33 [==============================] - 0s 2ms/step - loss: 0.3743 - accuracy: 0.8548\n",
            "Epoch 92/100\n",
            "33/33 [==============================] - 0s 2ms/step - loss: 0.3742 - accuracy: 0.8548\n",
            "Epoch 93/100\n",
            "33/33 [==============================] - 0s 2ms/step - loss: 0.3742 - accuracy: 0.8548\n",
            "Epoch 94/100\n",
            "33/33 [==============================] - 0s 2ms/step - loss: 0.3740 - accuracy: 0.8548\n",
            "Epoch 95/100\n",
            "33/33 [==============================] - 0s 2ms/step - loss: 0.3739 - accuracy: 0.8548\n",
            "Epoch 96/100\n",
            "33/33 [==============================] - 0s 2ms/step - loss: 0.3740 - accuracy: 0.8548\n",
            "Epoch 97/100\n",
            "33/33 [==============================] - 0s 2ms/step - loss: 0.3738 - accuracy: 0.8548\n",
            "Epoch 98/100\n",
            "33/33 [==============================] - 0s 2ms/step - loss: 0.3738 - accuracy: 0.8548\n",
            "Epoch 99/100\n",
            "33/33 [==============================] - 0s 2ms/step - loss: 0.3737 - accuracy: 0.8548\n",
            "Epoch 100/100\n",
            "33/33 [==============================] - 0s 2ms/step - loss: 0.3735 - accuracy: 0.8548\n"
          ]
        },
        {
          "output_type": "execute_result",
          "data": {
            "text/plain": [
              "<keras.callbacks.History at 0x7f4563e94580>"
            ]
          },
          "metadata": {},
          "execution_count": 204
        }
      ]
    },
    {
      "cell_type": "code",
      "source": [
        "# Evaluate the model on the test data\n",
        "loss, accuracy = model.evaluate(X_test, y_test, verbose=0)\n",
        "print('Logistics regressionn Accuracy: %.2f' % (accuracy*100))"
      ],
      "metadata": {
        "colab": {
          "base_uri": "https://localhost:8080/"
        },
        "id": "Gsngh4BMim48",
        "outputId": "a56ba34d-9146-412c-888c-e78e6a39232a"
      },
      "execution_count": null,
      "outputs": [
        {
          "output_type": "stream",
          "name": "stdout",
          "text": [
            "Logistics regressionn Accuracy: 85.11\n"
          ]
        }
      ]
    },
    {
      "cell_type": "markdown",
      "source": [
        "# Model 2: 64-32-16-8-1 using ANN\n",
        "\n"
      ],
      "metadata": {
        "id": "vcH5zaLpHIXB"
      }
    },
    {
      "cell_type": "code",
      "source": [
        "from tensorflow.keras.models import Sequential\n",
        "from tensorflow.keras.layers import Dense\n",
        "\n",
        "# Define a more complex model with more layers and neurons\n",
        "model1 = Sequential()\n",
        "model1.add(Dense(64, input_dim=X_train.shape[1], activation='relu'))\n",
        "model1.add(Dense(32, activation='relu'))\n",
        "model1.add(Dense(16, activation='relu'))\n",
        "model1.add(Dense(8, activation='relu'))\n",
        "model1.add(Dense(1, activation='sigmoid'))\n",
        "\n",
        "# Compile the model\n",
        "model1.compile(optimizer='adam', loss='binary_crossentropy', metrics=['accuracy'])\n",
        "\n",
        "# Train the model for a large number of epochs\n",
        "history = model1.fit(X_train, y_train, epochs=100, batch_size=32, validation_data=(X_test, y_test), verbose=0)\n"
      ],
      "metadata": {
        "id": "Y6PDXvOWkYqw"
      },
      "execution_count": null,
      "outputs": []
    },
    {
      "cell_type": "code",
      "source": [
        "import matplotlib.pyplot as plt\n",
        "\n",
        "# Plot the training and validation loss and accuracy\n",
        "train_loss = history.history['loss']\n",
        "val_loss = history.history['val_loss']\n",
        "train_acc = history.history['accuracy']\n",
        "val_acc = history.history['val_accuracy']\n",
        "\n",
        "plt.figure(figsize=(8, 4))\n",
        "plt.subplot(1, 2, 1)\n",
        "plt.plot(train_loss, label='train')\n",
        "plt.plot(val_loss, label='val')\n",
        "plt.legend()\n",
        "plt.title('Loss')\n",
        "\n",
        "plt.subplot(1, 2, 2)\n",
        "plt.plot(train_acc, label='train')\n",
        "plt.plot(val_acc, label='val')\n",
        "plt.legend()\n",
        "plt.title('Accuracy')\n",
        "plt.show()\n"
      ],
      "metadata": {
        "colab": {
          "base_uri": "https://localhost:8080/",
          "height": 391
        },
        "id": "8dz8qtiXms5J",
        "outputId": "787bf550-4385-448c-e475-b4dbf6e1295c"
      },
      "execution_count": null,
      "outputs": [
        {
          "output_type": "display_data",
          "data": {
            "text/plain": [
              "<Figure size 800x400 with 2 Axes>"
            ],
            "image/png": "[encoded data removed]"
          },
          "metadata": {}
        }
      ]
    },
    {
      "cell_type": "code",
      "source": [],
      "metadata": {
        "id": "ToZeWzTknTK5"
      },
      "execution_count": null,
      "outputs": []
    },
    {
      "cell_type": "code",
      "source": [
        "# Evaluate the model on the test data\n",
        "loss, accuracy = model1.evaluate(X_test, y_test, verbose=0)\n",
        "print('Model 2 Accuracy: %.2f' % (accuracy*100))"
      ],
      "metadata": {
        "colab": {
          "base_uri": "https://localhost:8080/"
        },
        "outputId": "6eae8e50-f5a1-4ee1-fb02-637da6827e3e",
        "id": "cgPCZguYnfGe"
      },
      "execution_count": null,
      "outputs": [
        {
          "output_type": "stream",
          "name": "stdout",
          "text": [
            "Model 2 Accuracy: 83.21\n"
          ]
        }
      ]
    },
    {
      "cell_type": "markdown",
      "source": [
        "# *Model 3: (32-16-8-1) ANN*"
      ],
      "metadata": {
        "id": "QD5rnXogIGsI"
      }
    },
    {
      "cell_type": "code",
      "source": [
        "from tensorflow.keras.models import Sequential\n",
        "from tensorflow.keras.layers import Dense\n",
        "\n",
        "# Define a more complex model with more layers and neurons\n",
        "model_3 = Sequential()\n",
        "model_3.add(Dense(32, input_dim=X_train.shape[1], activation='relu'))\n",
        "model_3.add(Dense(16, activation='relu'))\n",
        "model_3.add(Dense(8, activation='relu'))\n",
        "model_3.add(Dense(1, activation='sigmoid'))\n",
        "\n",
        "# Compile the model\n",
        "model_3.compile(optimizer='adam', loss='binary_crossentropy', metrics=['accuracy'])\n",
        "\n",
        "# Train the model for a large number of epochs\n",
        "history = model_3.fit(X_train, y_train, epochs=100, batch_size=32, validation_data=(X_test, y_test), verbose=0)"
      ],
      "metadata": {
        "id": "y5OpCgA-ngLZ"
      },
      "execution_count": null,
      "outputs": []
    },
    {
      "cell_type": "code",
      "source": [
        "import matplotlib.pyplot as plt\n",
        "\n",
        "# Plot the training and validation loss and accuracy\n",
        "train_loss = history.history['loss']\n",
        "val_loss = history.history['val_loss']\n",
        "train_acc = history.history['accuracy']\n",
        "val_acc = history.history['val_accuracy']\n",
        "\n",
        "plt.figure(figsize=(8, 4))\n",
        "plt.subplot(1, 2, 1)\n",
        "plt.plot(train_loss, label='train')\n",
        "plt.plot(val_loss, label='val')\n",
        "plt.legend()\n",
        "plt.title('Loss')\n",
        "\n",
        "plt.subplot(1, 2, 2)\n",
        "plt.plot(train_acc, label='train')\n",
        "plt.plot(val_acc, label='val')\n",
        "plt.legend()\n",
        "plt.title('Accuracy')\n",
        "plt.show()\n"
      ],
      "metadata": {
        "colab": {
          "base_uri": "https://localhost:8080/",
          "height": 391
        },
        "id": "_rAiRXbjIW-x",
        "outputId": "cab5e234-e3e3-4069-f8e1-fa82c23d0cee"
      },
      "execution_count": null,
      "outputs": [
        {
          "output_type": "display_data",
          "data": {
            "text/plain": [
              "<Figure size 800x400 with 2 Axes>"
            ],
            "image/png": "[encoded data removed]"
          },
          "metadata": {}
        }
      ]
    },
    {
      "cell_type": "code",
      "source": [
        "# Evaluate the model on the test data\n",
        "loss, accuracy = model_3.evaluate(X_test, y_test, verbose=0)\n",
        "print('Model 3 Accuracy: %.2f' % (accuracy*100))"
      ],
      "metadata": {
        "colab": {
          "base_uri": "https://localhost:8080/"
        },
        "id": "8iQN3W78Iht6",
        "outputId": "a39465d6-19c4-46fa-db69-ce205cd67ebf"
      },
      "execution_count": null,
      "outputs": [
        {
          "output_type": "stream",
          "name": "stdout",
          "text": [
            "Model 3 Accuracy: 84.73\n"
          ]
        }
      ]
    },
    {
      "cell_type": "markdown",
      "source": [
        "# Model 4:(16-8-1) ANN\n"
      ],
      "metadata": {
        "id": "p5X_MCH4JOPl"
      }
    },
    {
      "cell_type": "code",
      "source": [
        "from tensorflow.keras.models import Sequential\n",
        "from tensorflow.keras.layers import Dense\n",
        "\n",
        "# Define a more complex model with more layers and neurons\n",
        "model_4 = Sequential()\n",
        "model_4.add(Dense(16, input_dim=X_train.shape[1], activation='relu'))\n",
        "model_4.add(Dense(8, activation='relu'))\n",
        "model_4.add(Dense(1, activation='sigmoid'))\n",
        "\n",
        "# Compile the model\n",
        "model_4.compile(optimizer='SGD', loss='binary_crossentropy', metrics=['accuracy'])\n",
        "\n",
        "# Train the model for a large number of epochs\n",
        "history = model_4.fit(X_train, y_train, epochs=100, batch_size=32, validation_data=(X_test, y_test), verbose=0)"
      ],
      "metadata": {
        "id": "OTiLoVVII0Yc"
      },
      "execution_count": null,
      "outputs": []
    },
    {
      "cell_type": "code",
      "source": [
        "import matplotlib.pyplot as plt\n",
        "\n",
        "# Plot the training and validation loss and accuracy\n",
        "train_loss = history.history['loss']\n",
        "val_loss = history.history['val_loss']\n",
        "train_acc = history.history['accuracy']\n",
        "val_acc = history.history['val_accuracy']\n",
        "\n",
        "plt.figure(figsize=(8, 4))\n",
        "plt.subplot(1, 2, 1)\n",
        "plt.plot(train_loss, label='train')\n",
        "plt.plot(val_loss, label='val')\n",
        "plt.legend()\n",
        "plt.title('Loss')\n",
        "\n",
        "plt.subplot(1, 2, 2)\n",
        "plt.plot(train_acc, label='train')\n",
        "plt.plot(val_acc, label='val')\n",
        "plt.legend()\n",
        "plt.title('Accuracy')\n",
        "plt.show()\n"
      ],
      "metadata": {
        "colab": {
          "base_uri": "https://localhost:8080/",
          "height": 391
        },
        "id": "I5GSDRHIJkri",
        "outputId": "f4afeded-6f25-4bd6-e24d-746ee904d751"
      },
      "execution_count": null,
      "outputs": [
        {
          "output_type": "display_data",
          "data": {
            "text/plain": [
              "<Figure size 800x400 with 2 Axes>"
            ],
            "image/png": "[encoded data removed]"
          },
          "metadata": {}
        }
      ]
    },
    {
      "cell_type": "code",
      "source": [
        "# Evaluate the model on the test data\n",
        "loss, accuracy = model_4.evaluate(X_test, y_test, verbose=0)\n",
        "print('Model 4 Accuracy: %.2f' % (accuracy*100))"
      ],
      "metadata": {
        "colab": {
          "base_uri": "https://localhost:8080/"
        },
        "id": "Ot5_8eQ7Jt0x",
        "outputId": "a4b7faa2-0ff4-4009-b0ce-68495bb9cfef"
      },
      "execution_count": null,
      "outputs": [
        {
          "output_type": "stream",
          "name": "stdout",
          "text": [
            "Model 4 Accuracy: 85.88\n"
          ]
        }
      ]
    },
    {
      "cell_type": "markdown",
      "source": [
        "# **Model 5: 8-1 ANN**"
      ],
      "metadata": {
        "id": "FrPtP7ndKHT2"
      }
    },
    {
      "cell_type": "code",
      "source": [
        "from tensorflow.keras.models import Sequential\n",
        "from tensorflow.keras.layers import Dense\n",
        "\n",
        "# Define a more complex model with more layers and neurons\n",
        "model_5 = Sequential()\n",
        "model_5.add(Dense(8, input_dim=X_train.shape[1], activation='relu'))\n",
        "model_5.add(Dense(1, activation='sigmoid'))\n",
        "\n",
        "# Compile the model\n",
        "model_5.compile(optimizer='SGD', loss='binary_crossentropy', metrics=['accuracy'])\n",
        "\n",
        "# Train the model for a large number of epochs\n",
        "history = model_5.fit(X_train, y_train, epochs=100, batch_size=32, validation_data=(X_test, y_test), verbose=0)"
      ],
      "metadata": {
        "id": "iWqDcoyWJyu4"
      },
      "execution_count": null,
      "outputs": []
    },
    {
      "cell_type": "code",
      "source": [
        "import matplotlib.pyplot as plt\n",
        "\n",
        "# Plot the training and validation loss and accuracy\n",
        "train_loss = history.history['loss']\n",
        "val_loss = history.history['val_loss']\n",
        "train_acc = history.history['accuracy']\n",
        "val_acc = history.history['val_accuracy']\n",
        "\n",
        "plt.figure(figsize=(8, 4))\n",
        "plt.subplot(1, 2, 1)\n",
        "plt.plot(train_loss, label='train')\n",
        "plt.plot(val_loss, label='val')\n",
        "plt.legend()\n",
        "plt.title('Loss')\n",
        "\n",
        "plt.subplot(1, 2, 2)\n",
        "plt.plot(train_acc, label='train')\n",
        "plt.plot(val_acc, label='val')\n",
        "plt.legend()\n",
        "plt.title('Accuracy')\n",
        "plt.show()\n"
      ],
      "metadata": {
        "colab": {
          "base_uri": "https://localhost:8080/",
          "height": 391
        },
        "id": "n0LRU33kKaJT",
        "outputId": "f276644b-6ee3-4347-b052-0a916d98404a"
      },
      "execution_count": null,
      "outputs": [
        {
          "output_type": "display_data",
          "data": {
            "text/plain": [
              "<Figure size 800x400 with 2 Axes>"
            ],
            "image/png": "[encoded data removed]"
          },
          "metadata": {}
        }
      ]
    },
    {
      "cell_type": "code",
      "source": [
        "# Evaluate the model on the test data\n",
        "loss, accuracy = model_5.evaluate(X_test, y_test, verbose=0)\n",
        "print('Model 5 Accuracy: %.2f' % (accuracy*100))"
      ],
      "metadata": {
        "colab": {
          "base_uri": "https://localhost:8080/"
        },
        "id": "6SgyFGFnKgEL",
        "outputId": "3f588247-8c30-4167-cd1a-70c49885b4c3"
      },
      "execution_count": null,
      "outputs": [
        {
          "output_type": "stream",
          "name": "stdout",
          "text": [
            "Model 5 Accuracy: 85.11\n"
          ]
        }
      ]
    },
    {
      "cell_type": "markdown",
      "source": [
        "# Model 6: (4-1) ANN"
      ],
      "metadata": {
        "id": "WCVz7bstKtCY"
      }
    },
    {
      "cell_type": "code",
      "source": [
        "from tensorflow.keras.models import Sequential\n",
        "from tensorflow.keras.layers import Dense\n",
        "\n",
        "# Define a more complex model with more layers and neurons\n",
        "model_6 = Sequential()\n",
        "model_6.add(Dense(4, input_dim=X_train.shape[1], activation='relu'))\n",
        "model_6.add(Dense(1, activation='sigmoid'))\n",
        "\n",
        "# Compile the model\n",
        "model_6.compile(optimizer='SGD', loss='binary_crossentropy', metrics=['accuracy'])\n",
        "\n",
        "# Train the model for a large number of epochs\n",
        "history = model_6.fit(X_train, y_train, epochs=100, batch_size=32, validation_data=(X_test, y_test), verbose=1)"
      ],
      "metadata": {
        "colab": {
          "base_uri": "https://localhost:8080/"
        },
        "id": "R4jaiRZ1KlaO",
        "outputId": "c65e879b-0964-4963-b45c-e772b9c4e73e"
      },
      "execution_count": null,
      "outputs": [
        {
          "output_type": "stream",
          "name": "stdout",
          "text": [
            "Epoch 1/100\n",
            "33/33 [==============================] - 1s 8ms/step - loss: 0.8714 - accuracy: 0.4021 - val_loss: 0.7234 - val_accuracy: 0.3969\n",
            "Epoch 2/100\n",
            "33/33 [==============================] - 0s 4ms/step - loss: 0.6894 - accuracy: 0.4709 - val_loss: 0.6687 - val_accuracy: 0.5229\n",
            "Epoch 3/100\n",
            "33/33 [==============================] - 0s 3ms/step - loss: 0.6516 - accuracy: 0.7068 - val_loss: 0.6400 - val_accuracy: 0.7557\n",
            "Epoch 4/100\n",
            "33/33 [==============================] - 0s 3ms/step - loss: 0.6285 - accuracy: 0.7966 - val_loss: 0.6196 - val_accuracy: 0.7939\n",
            "Epoch 5/100\n",
            "33/33 [==============================] - 0s 4ms/step - loss: 0.6111 - accuracy: 0.8243 - val_loss: 0.6028 - val_accuracy: 0.8130\n",
            "Epoch 6/100\n",
            "33/33 [==============================] - 0s 3ms/step - loss: 0.5961 - accuracy: 0.8214 - val_loss: 0.5876 - val_accuracy: 0.8130\n",
            "Epoch 7/100\n",
            "33/33 [==============================] - 0s 3ms/step - loss: 0.5824 - accuracy: 0.8223 - val_loss: 0.5735 - val_accuracy: 0.8206\n",
            "Epoch 8/100\n",
            "33/33 [==============================] - 0s 4ms/step - loss: 0.5688 - accuracy: 0.8233 - val_loss: 0.5589 - val_accuracy: 0.8244\n",
            "Epoch 9/100\n",
            "33/33 [==============================] - 0s 4ms/step - loss: 0.5551 - accuracy: 0.8300 - val_loss: 0.5451 - val_accuracy: 0.8359\n",
            "Epoch 10/100\n",
            "33/33 [==============================] - 0s 3ms/step - loss: 0.5417 - accuracy: 0.8271 - val_loss: 0.5320 - val_accuracy: 0.8397\n",
            "Epoch 11/100\n",
            "33/33 [==============================] - 0s 3ms/step - loss: 0.5285 - accuracy: 0.8386 - val_loss: 0.5192 - val_accuracy: 0.8473\n",
            "Epoch 12/100\n",
            "33/33 [==============================] - 0s 3ms/step - loss: 0.5153 - accuracy: 0.8443 - val_loss: 0.5064 - val_accuracy: 0.8511\n",
            "Epoch 13/100\n",
            "33/33 [==============================] - 0s 3ms/step - loss: 0.5025 - accuracy: 0.8462 - val_loss: 0.4938 - val_accuracy: 0.8511\n",
            "Epoch 14/100\n",
            "33/33 [==============================] - 0s 3ms/step - loss: 0.4898 - accuracy: 0.8491 - val_loss: 0.4810 - val_accuracy: 0.8473\n",
            "Epoch 15/100\n",
            "33/33 [==============================] - 0s 3ms/step - loss: 0.4774 - accuracy: 0.8520 - val_loss: 0.4687 - val_accuracy: 0.8511\n",
            "Epoch 16/100\n",
            "33/33 [==============================] - 0s 4ms/step - loss: 0.4655 - accuracy: 0.8539 - val_loss: 0.4572 - val_accuracy: 0.8473\n",
            "Epoch 17/100\n",
            "33/33 [==============================] - 0s 3ms/step - loss: 0.4543 - accuracy: 0.8539 - val_loss: 0.4466 - val_accuracy: 0.8435\n",
            "Epoch 18/100\n",
            "33/33 [==============================] - 0s 3ms/step - loss: 0.4438 - accuracy: 0.8548 - val_loss: 0.4367 - val_accuracy: 0.8473\n",
            "Epoch 19/100\n",
            "33/33 [==============================] - 0s 3ms/step - loss: 0.4341 - accuracy: 0.8567 - val_loss: 0.4277 - val_accuracy: 0.8511\n",
            "Epoch 20/100\n",
            "33/33 [==============================] - 0s 4ms/step - loss: 0.4253 - accuracy: 0.8558 - val_loss: 0.4202 - val_accuracy: 0.8511\n",
            "Epoch 21/100\n",
            "33/33 [==============================] - 0s 4ms/step - loss: 0.4176 - accuracy: 0.8567 - val_loss: 0.4132 - val_accuracy: 0.8511\n",
            "Epoch 22/100\n",
            "33/33 [==============================] - 0s 4ms/step - loss: 0.4109 - accuracy: 0.8567 - val_loss: 0.4078 - val_accuracy: 0.8511\n",
            "Epoch 23/100\n",
            "33/33 [==============================] - 0s 3ms/step - loss: 0.4053 - accuracy: 0.8567 - val_loss: 0.4031 - val_accuracy: 0.8511\n",
            "Epoch 24/100\n",
            "33/33 [==============================] - 0s 3ms/step - loss: 0.4006 - accuracy: 0.8577 - val_loss: 0.3992 - val_accuracy: 0.8550\n",
            "Epoch 25/100\n",
            "33/33 [==============================] - 0s 3ms/step - loss: 0.3965 - accuracy: 0.8577 - val_loss: 0.3963 - val_accuracy: 0.8550\n",
            "Epoch 26/100\n",
            "33/33 [==============================] - 0s 6ms/step - loss: 0.3931 - accuracy: 0.8558 - val_loss: 0.3935 - val_accuracy: 0.8550\n",
            "Epoch 27/100\n",
            "33/33 [==============================] - 0s 4ms/step - loss: 0.3902 - accuracy: 0.8577 - val_loss: 0.3913 - val_accuracy: 0.8550\n",
            "Epoch 28/100\n",
            "33/33 [==============================] - 0s 4ms/step - loss: 0.3877 - accuracy: 0.8567 - val_loss: 0.3892 - val_accuracy: 0.8550\n",
            "Epoch 29/100\n",
            "33/33 [==============================] - 0s 5ms/step - loss: 0.3856 - accuracy: 0.8558 - val_loss: 0.3877 - val_accuracy: 0.8511\n",
            "Epoch 30/100\n",
            "33/33 [==============================] - 0s 4ms/step - loss: 0.3835 - accuracy: 0.8577 - val_loss: 0.3866 - val_accuracy: 0.8473\n",
            "Epoch 31/100\n",
            "33/33 [==============================] - 0s 4ms/step - loss: 0.3818 - accuracy: 0.8567 - val_loss: 0.3856 - val_accuracy: 0.8473\n",
            "Epoch 32/100\n",
            "33/33 [==============================] - 0s 4ms/step - loss: 0.3803 - accuracy: 0.8567 - val_loss: 0.3846 - val_accuracy: 0.8473\n",
            "Epoch 33/100\n",
            "33/33 [==============================] - 0s 5ms/step - loss: 0.3791 - accuracy: 0.8567 - val_loss: 0.3839 - val_accuracy: 0.8473\n",
            "Epoch 34/100\n",
            "33/33 [==============================] - 0s 4ms/step - loss: 0.3781 - accuracy: 0.8577 - val_loss: 0.3832 - val_accuracy: 0.8473\n",
            "Epoch 35/100\n",
            "33/33 [==============================] - 0s 5ms/step - loss: 0.3771 - accuracy: 0.8567 - val_loss: 0.3826 - val_accuracy: 0.8473\n",
            "Epoch 36/100\n",
            "33/33 [==============================] - 0s 5ms/step - loss: 0.3763 - accuracy: 0.8567 - val_loss: 0.3820 - val_accuracy: 0.8473\n",
            "Epoch 37/100\n",
            "33/33 [==============================] - 0s 4ms/step - loss: 0.3754 - accuracy: 0.8567 - val_loss: 0.3817 - val_accuracy: 0.8473\n",
            "Epoch 38/100\n",
            "33/33 [==============================] - 0s 6ms/step - loss: 0.3748 - accuracy: 0.8567 - val_loss: 0.3812 - val_accuracy: 0.8473\n",
            "Epoch 39/100\n",
            "33/33 [==============================] - 0s 5ms/step - loss: 0.3742 - accuracy: 0.8567 - val_loss: 0.3808 - val_accuracy: 0.8473\n",
            "Epoch 40/100\n",
            "33/33 [==============================] - 0s 4ms/step - loss: 0.3736 - accuracy: 0.8577 - val_loss: 0.3807 - val_accuracy: 0.8473\n",
            "Epoch 41/100\n",
            "33/33 [==============================] - 0s 4ms/step - loss: 0.3734 - accuracy: 0.8577 - val_loss: 0.3804 - val_accuracy: 0.8473\n",
            "Epoch 42/100\n",
            "33/33 [==============================] - 0s 5ms/step - loss: 0.3729 - accuracy: 0.8577 - val_loss: 0.3800 - val_accuracy: 0.8435\n",
            "Epoch 43/100\n",
            "33/33 [==============================] - 0s 5ms/step - loss: 0.3721 - accuracy: 0.8577 - val_loss: 0.3797 - val_accuracy: 0.8435\n",
            "Epoch 44/100\n",
            "33/33 [==============================] - 0s 6ms/step - loss: 0.3719 - accuracy: 0.8577 - val_loss: 0.3795 - val_accuracy: 0.8435\n",
            "Epoch 45/100\n",
            "33/33 [==============================] - 0s 5ms/step - loss: 0.3715 - accuracy: 0.8577 - val_loss: 0.3793 - val_accuracy: 0.8435\n",
            "Epoch 46/100\n",
            "33/33 [==============================] - 0s 4ms/step - loss: 0.3712 - accuracy: 0.8577 - val_loss: 0.3792 - val_accuracy: 0.8435\n",
            "Epoch 47/100\n",
            "33/33 [==============================] - 0s 4ms/step - loss: 0.3707 - accuracy: 0.8577 - val_loss: 0.3788 - val_accuracy: 0.8435\n",
            "Epoch 48/100\n",
            "33/33 [==============================] - 0s 6ms/step - loss: 0.3706 - accuracy: 0.8577 - val_loss: 0.3787 - val_accuracy: 0.8435\n",
            "Epoch 49/100\n",
            "33/33 [==============================] - 0s 5ms/step - loss: 0.3702 - accuracy: 0.8577 - val_loss: 0.3785 - val_accuracy: 0.8435\n",
            "Epoch 50/100\n",
            "33/33 [==============================] - 0s 5ms/step - loss: 0.3699 - accuracy: 0.8577 - val_loss: 0.3784 - val_accuracy: 0.8397\n",
            "Epoch 51/100\n",
            "33/33 [==============================] - 0s 5ms/step - loss: 0.3696 - accuracy: 0.8577 - val_loss: 0.3784 - val_accuracy: 0.8397\n",
            "Epoch 52/100\n",
            "33/33 [==============================] - 0s 4ms/step - loss: 0.3693 - accuracy: 0.8577 - val_loss: 0.3782 - val_accuracy: 0.8397\n",
            "Epoch 53/100\n",
            "33/33 [==============================] - 0s 4ms/step - loss: 0.3689 - accuracy: 0.8586 - val_loss: 0.3781 - val_accuracy: 0.8397\n",
            "Epoch 54/100\n",
            "33/33 [==============================] - 0s 3ms/step - loss: 0.3684 - accuracy: 0.8577 - val_loss: 0.3779 - val_accuracy: 0.8435\n",
            "Epoch 55/100\n",
            "33/33 [==============================] - 0s 4ms/step - loss: 0.3683 - accuracy: 0.8586 - val_loss: 0.3778 - val_accuracy: 0.8397\n",
            "Epoch 56/100\n",
            "33/33 [==============================] - 0s 5ms/step - loss: 0.3682 - accuracy: 0.8586 - val_loss: 0.3777 - val_accuracy: 0.8397\n",
            "Epoch 57/100\n",
            "33/33 [==============================] - 0s 3ms/step - loss: 0.3678 - accuracy: 0.8577 - val_loss: 0.3774 - val_accuracy: 0.8435\n",
            "Epoch 58/100\n",
            "33/33 [==============================] - 0s 3ms/step - loss: 0.3676 - accuracy: 0.8577 - val_loss: 0.3774 - val_accuracy: 0.8435\n",
            "Epoch 59/100\n",
            "33/33 [==============================] - 0s 3ms/step - loss: 0.3672 - accuracy: 0.8577 - val_loss: 0.3773 - val_accuracy: 0.8397\n",
            "Epoch 60/100\n",
            "33/33 [==============================] - 0s 3ms/step - loss: 0.3671 - accuracy: 0.8586 - val_loss: 0.3771 - val_accuracy: 0.8473\n",
            "Epoch 61/100\n",
            "33/33 [==============================] - 0s 3ms/step - loss: 0.3668 - accuracy: 0.8567 - val_loss: 0.3769 - val_accuracy: 0.8473\n",
            "Epoch 62/100\n",
            "33/33 [==============================] - 0s 3ms/step - loss: 0.3666 - accuracy: 0.8577 - val_loss: 0.3768 - val_accuracy: 0.8473\n",
            "Epoch 63/100\n",
            "33/33 [==============================] - 0s 4ms/step - loss: 0.3665 - accuracy: 0.8577 - val_loss: 0.3768 - val_accuracy: 0.8435\n",
            "Epoch 64/100\n",
            "33/33 [==============================] - 0s 3ms/step - loss: 0.3662 - accuracy: 0.8586 - val_loss: 0.3766 - val_accuracy: 0.8435\n",
            "Epoch 65/100\n",
            "33/33 [==============================] - 0s 3ms/step - loss: 0.3660 - accuracy: 0.8577 - val_loss: 0.3762 - val_accuracy: 0.8473\n",
            "Epoch 66/100\n",
            "33/33 [==============================] - 0s 3ms/step - loss: 0.3658 - accuracy: 0.8567 - val_loss: 0.3760 - val_accuracy: 0.8473\n",
            "Epoch 67/100\n",
            "33/33 [==============================] - 0s 3ms/step - loss: 0.3656 - accuracy: 0.8577 - val_loss: 0.3755 - val_accuracy: 0.8473\n",
            "Epoch 68/100\n",
            "33/33 [==============================] - 0s 4ms/step - loss: 0.3653 - accuracy: 0.8577 - val_loss: 0.3754 - val_accuracy: 0.8473\n",
            "Epoch 69/100\n",
            "33/33 [==============================] - 0s 3ms/step - loss: 0.3650 - accuracy: 0.8586 - val_loss: 0.3753 - val_accuracy: 0.8511\n",
            "Epoch 70/100\n",
            "33/33 [==============================] - 0s 3ms/step - loss: 0.3648 - accuracy: 0.8577 - val_loss: 0.3752 - val_accuracy: 0.8511\n",
            "Epoch 71/100\n",
            "33/33 [==============================] - 0s 3ms/step - loss: 0.3648 - accuracy: 0.8586 - val_loss: 0.3747 - val_accuracy: 0.8511\n",
            "Epoch 72/100\n",
            "33/33 [==============================] - 0s 4ms/step - loss: 0.3648 - accuracy: 0.8577 - val_loss: 0.3746 - val_accuracy: 0.8511\n",
            "Epoch 73/100\n",
            "33/33 [==============================] - 0s 4ms/step - loss: 0.3645 - accuracy: 0.8577 - val_loss: 0.3745 - val_accuracy: 0.8511\n",
            "Epoch 74/100\n",
            "33/33 [==============================] - 0s 3ms/step - loss: 0.3643 - accuracy: 0.8577 - val_loss: 0.3743 - val_accuracy: 0.8511\n",
            "Epoch 75/100\n",
            "33/33 [==============================] - 0s 3ms/step - loss: 0.3641 - accuracy: 0.8577 - val_loss: 0.3742 - val_accuracy: 0.8511\n",
            "Epoch 76/100\n",
            "33/33 [==============================] - 0s 3ms/step - loss: 0.3637 - accuracy: 0.8577 - val_loss: 0.3742 - val_accuracy: 0.8511\n",
            "Epoch 77/100\n",
            "33/33 [==============================] - 0s 3ms/step - loss: 0.3640 - accuracy: 0.8577 - val_loss: 0.3739 - val_accuracy: 0.8511\n",
            "Epoch 78/100\n",
            "33/33 [==============================] - 0s 3ms/step - loss: 0.3636 - accuracy: 0.8586 - val_loss: 0.3738 - val_accuracy: 0.8511\n",
            "Epoch 79/100\n",
            "33/33 [==============================] - 0s 4ms/step - loss: 0.3635 - accuracy: 0.8577 - val_loss: 0.3735 - val_accuracy: 0.8511\n",
            "Epoch 80/100\n",
            "33/33 [==============================] - 0s 3ms/step - loss: 0.3634 - accuracy: 0.8577 - val_loss: 0.3735 - val_accuracy: 0.8511\n",
            "Epoch 81/100\n",
            "33/33 [==============================] - 0s 3ms/step - loss: 0.3632 - accuracy: 0.8577 - val_loss: 0.3734 - val_accuracy: 0.8511\n",
            "Epoch 82/100\n",
            "33/33 [==============================] - 0s 3ms/step - loss: 0.3630 - accuracy: 0.8577 - val_loss: 0.3731 - val_accuracy: 0.8511\n",
            "Epoch 83/100\n",
            "33/33 [==============================] - 0s 3ms/step - loss: 0.3627 - accuracy: 0.8577 - val_loss: 0.3730 - val_accuracy: 0.8511\n",
            "Epoch 84/100\n",
            "33/33 [==============================] - 0s 3ms/step - loss: 0.3628 - accuracy: 0.8577 - val_loss: 0.3728 - val_accuracy: 0.8511\n",
            "Epoch 85/100\n",
            "33/33 [==============================] - 0s 3ms/step - loss: 0.3625 - accuracy: 0.8577 - val_loss: 0.3727 - val_accuracy: 0.8511\n",
            "Epoch 86/100\n",
            "33/33 [==============================] - 0s 3ms/step - loss: 0.3625 - accuracy: 0.8577 - val_loss: 0.3726 - val_accuracy: 0.8511\n",
            "Epoch 87/100\n",
            "33/33 [==============================] - 0s 3ms/step - loss: 0.3623 - accuracy: 0.8577 - val_loss: 0.3726 - val_accuracy: 0.8511\n",
            "Epoch 88/100\n",
            "33/33 [==============================] - 0s 4ms/step - loss: 0.3622 - accuracy: 0.8577 - val_loss: 0.3725 - val_accuracy: 0.8511\n",
            "Epoch 89/100\n",
            "33/33 [==============================] - 0s 4ms/step - loss: 0.3621 - accuracy: 0.8577 - val_loss: 0.3723 - val_accuracy: 0.8511\n",
            "Epoch 90/100\n",
            "33/33 [==============================] - 0s 4ms/step - loss: 0.3619 - accuracy: 0.8577 - val_loss: 0.3722 - val_accuracy: 0.8511\n",
            "Epoch 91/100\n",
            "33/33 [==============================] - 0s 3ms/step - loss: 0.3618 - accuracy: 0.8586 - val_loss: 0.3721 - val_accuracy: 0.8511\n",
            "Epoch 92/100\n",
            "33/33 [==============================] - 0s 3ms/step - loss: 0.3618 - accuracy: 0.8586 - val_loss: 0.3721 - val_accuracy: 0.8511\n",
            "Epoch 93/100\n",
            "33/33 [==============================] - 0s 4ms/step - loss: 0.3616 - accuracy: 0.8586 - val_loss: 0.3721 - val_accuracy: 0.8511\n",
            "Epoch 94/100\n",
            "33/33 [==============================] - 0s 4ms/step - loss: 0.3615 - accuracy: 0.8586 - val_loss: 0.3720 - val_accuracy: 0.8511\n",
            "Epoch 95/100\n",
            "33/33 [==============================] - 0s 3ms/step - loss: 0.3612 - accuracy: 0.8596 - val_loss: 0.3718 - val_accuracy: 0.8511\n",
            "Epoch 96/100\n",
            "33/33 [==============================] - 0s 3ms/step - loss: 0.3610 - accuracy: 0.8586 - val_loss: 0.3717 - val_accuracy: 0.8511\n",
            "Epoch 97/100\n",
            "33/33 [==============================] - 0s 4ms/step - loss: 0.3611 - accuracy: 0.8586 - val_loss: 0.3716 - val_accuracy: 0.8511\n",
            "Epoch 98/100\n",
            "33/33 [==============================] - 0s 3ms/step - loss: 0.3606 - accuracy: 0.8577 - val_loss: 0.3716 - val_accuracy: 0.8511\n",
            "Epoch 99/100\n",
            "33/33 [==============================] - 0s 4ms/step - loss: 0.3609 - accuracy: 0.8586 - val_loss: 0.3715 - val_accuracy: 0.8511\n",
            "Epoch 100/100\n",
            "33/33 [==============================] - 0s 3ms/step - loss: 0.3610 - accuracy: 0.8586 - val_loss: 0.3714 - val_accuracy: 0.8511\n"
          ]
        }
      ]
    },
    {
      "cell_type": "code",
      "source": [
        "import matplotlib.pyplot as plt\n",
        "\n",
        "# Plot the training and validation loss and accuracy\n",
        "train_loss = history.history['loss']\n",
        "val_loss = history.history['val_loss']\n",
        "train_acc = history.history['accuracy']\n",
        "val_acc = history.history['val_accuracy']\n",
        "\n",
        "plt.figure(figsize=(8, 4))\n",
        "plt.subplot(1, 2, 1)\n",
        "plt.plot(train_loss, label='train')\n",
        "plt.plot(val_loss, label='val')\n",
        "plt.legend()\n",
        "plt.title('Loss')\n",
        "\n",
        "plt.subplot(1, 2, 2)\n",
        "plt.plot(train_acc, label='train')\n",
        "plt.plot(val_acc, label='val')\n",
        "plt.legend()\n",
        "plt.title('Accuracy')\n",
        "plt.show()\n"
      ],
      "metadata": {
        "colab": {
          "base_uri": "https://localhost:8080/",
          "height": 391
        },
        "id": "AuP5GAKfK5X4",
        "outputId": "dd871b88-fbf1-4f97-f7a1-a70d259018b0"
      },
      "execution_count": null,
      "outputs": [
        {
          "output_type": "display_data",
          "data": {
            "text/plain": [
              "<Figure size 800x400 with 2 Axes>"
            ],
            "image/png": "[encoded data removed]"
          },
          "metadata": {}
        }
      ]
    },
    {
      "cell_type": "code",
      "source": [
        "# Evaluate the model on the test data\n",
        "loss, accuracy = model_6.evaluate(X_test, y_test, verbose=0)\n",
        "print('Model 6 Accuracy: %.2f' % (accuracy*100))"
      ],
      "metadata": {
        "colab": {
          "base_uri": "https://localhost:8080/"
        },
        "id": "UPpY3oLbLEkt",
        "outputId": "86ac6e14-3c58-4c79-a553-f85bdb822692"
      },
      "execution_count": null,
      "outputs": [
        {
          "output_type": "stream",
          "name": "stdout",
          "text": [
            "Model 6 Accuracy: 85.11\n"
          ]
        }
      ]
    },
    {
      "cell_type": "markdown",
      "source": [
        "# Model 7:2-1 ANN"
      ],
      "metadata": {
        "id": "EDiiA2KfLUbI"
      }
    },
    {
      "cell_type": "code",
      "source": [
        "from tensorflow.keras.models import Sequential\n",
        "from tensorflow.keras.layers import Dense\n",
        "\n",
        "# Define a more complex model with more layers and neurons\n",
        "model_7 = Sequential()\n",
        "model_7.add(Dense(2, input_dim=X_train.shape[1], activation='relu'))\n",
        "model_7.add(Dense(1, activation='sigmoid'))\n",
        "\n",
        "# Compile the model\n",
        "model_7.compile(optimizer='SGD', loss='binary_crossentropy', metrics=['accuracy'])\n",
        "\n",
        "# Train the model for a large number of epochs\n",
        "history = model_7.fit(X_train, y_train, epochs=100, batch_size=32, validation_data=(X_test, y_test), verbose=1)"
      ],
      "metadata": {
        "colab": {
          "base_uri": "https://localhost:8080/"
        },
        "id": "pD-KbKEtLKv3",
        "outputId": "cf43a12e-4512-4366-94ac-a424d902c30f"
      },
      "execution_count": null,
      "outputs": [
        {
          "output_type": "stream",
          "name": "stdout",
          "text": [
            "Epoch 1/100\n",
            "33/33 [==============================] - 1s 9ms/step - loss: 0.7519 - accuracy: 0.6246 - val_loss: 0.7431 - val_accuracy: 0.6145\n",
            "Epoch 2/100\n",
            "33/33 [==============================] - 0s 3ms/step - loss: 0.7185 - accuracy: 0.6246 - val_loss: 0.7206 - val_accuracy: 0.6145\n",
            "Epoch 3/100\n",
            "33/33 [==============================] - 0s 4ms/step - loss: 0.7023 - accuracy: 0.6246 - val_loss: 0.7102 - val_accuracy: 0.6145\n",
            "Epoch 4/100\n",
            "33/33 [==============================] - 0s 4ms/step - loss: 0.6934 - accuracy: 0.6246 - val_loss: 0.7038 - val_accuracy: 0.6145\n",
            "Epoch 5/100\n",
            "33/33 [==============================] - 0s 3ms/step - loss: 0.6873 - accuracy: 0.6246 - val_loss: 0.6984 - val_accuracy: 0.6145\n",
            "Epoch 6/100\n",
            "33/33 [==============================] - 0s 4ms/step - loss: 0.6826 - accuracy: 0.6246 - val_loss: 0.6937 - val_accuracy: 0.6145\n",
            "Epoch 7/100\n",
            "33/33 [==============================] - 0s 3ms/step - loss: 0.6791 - accuracy: 0.6246 - val_loss: 0.6899 - val_accuracy: 0.6145\n",
            "Epoch 8/100\n",
            "33/33 [==============================] - 0s 4ms/step - loss: 0.6763 - accuracy: 0.6246 - val_loss: 0.6870 - val_accuracy: 0.6145\n",
            "Epoch 9/100\n",
            "33/33 [==============================] - 0s 3ms/step - loss: 0.6739 - accuracy: 0.6246 - val_loss: 0.6845 - val_accuracy: 0.6145\n",
            "Epoch 10/100\n",
            "33/33 [==============================] - 0s 4ms/step - loss: 0.6719 - accuracy: 0.6246 - val_loss: 0.6825 - val_accuracy: 0.6145\n",
            "Epoch 11/100\n",
            "33/33 [==============================] - 0s 4ms/step - loss: 0.6702 - accuracy: 0.6246 - val_loss: 0.6808 - val_accuracy: 0.6145\n",
            "Epoch 12/100\n",
            "33/33 [==============================] - 0s 4ms/step - loss: 0.6688 - accuracy: 0.6246 - val_loss: 0.6796 - val_accuracy: 0.6145\n",
            "Epoch 13/100\n",
            "33/33 [==============================] - 0s 3ms/step - loss: 0.6676 - accuracy: 0.6246 - val_loss: 0.6786 - val_accuracy: 0.6145\n",
            "Epoch 14/100\n",
            "33/33 [==============================] - 0s 3ms/step - loss: 0.6667 - accuracy: 0.6246 - val_loss: 0.6777 - val_accuracy: 0.6145\n",
            "Epoch 15/100\n",
            "33/33 [==============================] - 0s 3ms/step - loss: 0.6658 - accuracy: 0.6246 - val_loss: 0.6770 - val_accuracy: 0.6145\n",
            "Epoch 16/100\n",
            "33/33 [==============================] - 0s 3ms/step - loss: 0.6650 - accuracy: 0.6246 - val_loss: 0.6763 - val_accuracy: 0.6145\n",
            "Epoch 17/100\n",
            "33/33 [==============================] - 0s 4ms/step - loss: 0.6644 - accuracy: 0.6246 - val_loss: 0.6757 - val_accuracy: 0.6145\n",
            "Epoch 18/100\n",
            "33/33 [==============================] - 0s 4ms/step - loss: 0.6638 - accuracy: 0.6246 - val_loss: 0.6752 - val_accuracy: 0.6145\n",
            "Epoch 19/100\n",
            "33/33 [==============================] - 0s 4ms/step - loss: 0.6633 - accuracy: 0.6246 - val_loss: 0.6748 - val_accuracy: 0.6145\n",
            "Epoch 20/100\n",
            "33/33 [==============================] - 0s 4ms/step - loss: 0.6628 - accuracy: 0.6246 - val_loss: 0.6743 - val_accuracy: 0.6145\n",
            "Epoch 21/100\n",
            "33/33 [==============================] - 0s 3ms/step - loss: 0.6624 - accuracy: 0.6246 - val_loss: 0.6740 - val_accuracy: 0.6145\n",
            "Epoch 22/100\n",
            "33/33 [==============================] - 0s 4ms/step - loss: 0.6620 - accuracy: 0.6246 - val_loss: 0.6737 - val_accuracy: 0.6145\n",
            "Epoch 23/100\n",
            "33/33 [==============================] - 0s 5ms/step - loss: 0.6617 - accuracy: 0.6246 - val_loss: 0.6734 - val_accuracy: 0.6145\n",
            "Epoch 24/100\n",
            "33/33 [==============================] - 0s 5ms/step - loss: 0.6614 - accuracy: 0.6246 - val_loss: 0.6732 - val_accuracy: 0.6145\n",
            "Epoch 25/100\n",
            "33/33 [==============================] - 0s 5ms/step - loss: 0.6612 - accuracy: 0.6246 - val_loss: 0.6730 - val_accuracy: 0.6145\n",
            "Epoch 26/100\n",
            "33/33 [==============================] - 0s 5ms/step - loss: 0.6610 - accuracy: 0.6246 - val_loss: 0.6728 - val_accuracy: 0.6145\n",
            "Epoch 27/100\n",
            "33/33 [==============================] - 0s 5ms/step - loss: 0.6608 - accuracy: 0.6246 - val_loss: 0.6726 - val_accuracy: 0.6145\n",
            "Epoch 28/100\n",
            "33/33 [==============================] - 0s 6ms/step - loss: 0.6606 - accuracy: 0.6246 - val_loss: 0.6725 - val_accuracy: 0.6145\n",
            "Epoch 29/100\n",
            "33/33 [==============================] - 0s 6ms/step - loss: 0.6604 - accuracy: 0.6246 - val_loss: 0.6723 - val_accuracy: 0.6145\n",
            "Epoch 30/100\n",
            "33/33 [==============================] - 0s 6ms/step - loss: 0.6602 - accuracy: 0.6246 - val_loss: 0.6722 - val_accuracy: 0.6145\n",
            "Epoch 31/100\n",
            "33/33 [==============================] - 0s 5ms/step - loss: 0.6601 - accuracy: 0.6246 - val_loss: 0.6721 - val_accuracy: 0.6145\n",
            "Epoch 32/100\n",
            "33/33 [==============================] - 0s 5ms/step - loss: 0.6600 - accuracy: 0.6246 - val_loss: 0.6720 - val_accuracy: 0.6145\n",
            "Epoch 33/100\n",
            "33/33 [==============================] - 0s 5ms/step - loss: 0.6598 - accuracy: 0.6246 - val_loss: 0.6719 - val_accuracy: 0.6145\n",
            "Epoch 34/100\n",
            "33/33 [==============================] - 0s 5ms/step - loss: 0.6597 - accuracy: 0.6246 - val_loss: 0.6718 - val_accuracy: 0.6145\n",
            "Epoch 35/100\n",
            "33/33 [==============================] - 0s 4ms/step - loss: 0.6596 - accuracy: 0.6246 - val_loss: 0.6717 - val_accuracy: 0.6145\n",
            "Epoch 36/100\n",
            "33/33 [==============================] - 0s 5ms/step - loss: 0.6595 - accuracy: 0.6246 - val_loss: 0.6716 - val_accuracy: 0.6145\n",
            "Epoch 37/100\n",
            "33/33 [==============================] - 0s 5ms/step - loss: 0.6594 - accuracy: 0.6246 - val_loss: 0.6715 - val_accuracy: 0.6145\n",
            "Epoch 38/100\n",
            "33/33 [==============================] - 0s 5ms/step - loss: 0.6593 - accuracy: 0.6246 - val_loss: 0.6714 - val_accuracy: 0.6145\n",
            "Epoch 39/100\n",
            "33/33 [==============================] - 0s 5ms/step - loss: 0.6592 - accuracy: 0.6246 - val_loss: 0.6714 - val_accuracy: 0.6145\n",
            "Epoch 40/100\n",
            "33/33 [==============================] - 0s 5ms/step - loss: 0.6591 - accuracy: 0.6246 - val_loss: 0.6713 - val_accuracy: 0.6145\n",
            "Epoch 41/100\n",
            "33/33 [==============================] - 0s 5ms/step - loss: 0.6589 - accuracy: 0.6246 - val_loss: 0.6712 - val_accuracy: 0.6145\n",
            "Epoch 42/100\n",
            "33/33 [==============================] - 0s 5ms/step - loss: 0.6588 - accuracy: 0.6246 - val_loss: 0.6711 - val_accuracy: 0.6145\n",
            "Epoch 43/100\n",
            "33/33 [==============================] - 0s 5ms/step - loss: 0.6587 - accuracy: 0.6246 - val_loss: 0.6710 - val_accuracy: 0.6145\n",
            "Epoch 44/100\n",
            "33/33 [==============================] - 0s 6ms/step - loss: 0.6586 - accuracy: 0.6246 - val_loss: 0.6710 - val_accuracy: 0.6145\n",
            "Epoch 45/100\n",
            "33/33 [==============================] - 0s 6ms/step - loss: 0.6585 - accuracy: 0.6246 - val_loss: 0.6708 - val_accuracy: 0.6145\n",
            "Epoch 46/100\n",
            "33/33 [==============================] - 0s 5ms/step - loss: 0.6584 - accuracy: 0.6246 - val_loss: 0.6707 - val_accuracy: 0.6145\n",
            "Epoch 47/100\n",
            "33/33 [==============================] - 0s 5ms/step - loss: 0.6583 - accuracy: 0.6246 - val_loss: 0.6707 - val_accuracy: 0.6145\n",
            "Epoch 48/100\n",
            "33/33 [==============================] - 0s 5ms/step - loss: 0.6582 - accuracy: 0.6246 - val_loss: 0.6706 - val_accuracy: 0.6145\n",
            "Epoch 49/100\n",
            "33/33 [==============================] - 0s 3ms/step - loss: 0.6581 - accuracy: 0.6246 - val_loss: 0.6705 - val_accuracy: 0.6145\n",
            "Epoch 50/100\n",
            "33/33 [==============================] - 0s 4ms/step - loss: 0.6580 - accuracy: 0.6246 - val_loss: 0.6704 - val_accuracy: 0.6145\n",
            "Epoch 51/100\n",
            "33/33 [==============================] - 0s 3ms/step - loss: 0.6579 - accuracy: 0.6246 - val_loss: 0.6703 - val_accuracy: 0.6145\n",
            "Epoch 52/100\n",
            "33/33 [==============================] - 0s 4ms/step - loss: 0.6579 - accuracy: 0.6246 - val_loss: 0.6702 - val_accuracy: 0.6145\n",
            "Epoch 53/100\n",
            "33/33 [==============================] - 0s 5ms/step - loss: 0.6578 - accuracy: 0.6246 - val_loss: 0.6702 - val_accuracy: 0.6145\n",
            "Epoch 54/100\n",
            "33/33 [==============================] - 0s 4ms/step - loss: 0.6577 - accuracy: 0.6246 - val_loss: 0.6701 - val_accuracy: 0.6145\n",
            "Epoch 55/100\n",
            "33/33 [==============================] - 0s 4ms/step - loss: 0.6576 - accuracy: 0.6246 - val_loss: 0.6700 - val_accuracy: 0.6145\n",
            "Epoch 56/100\n",
            "33/33 [==============================] - 0s 4ms/step - loss: 0.6575 - accuracy: 0.6246 - val_loss: 0.6699 - val_accuracy: 0.6145\n",
            "Epoch 57/100\n",
            "33/33 [==============================] - 0s 4ms/step - loss: 0.6574 - accuracy: 0.6246 - val_loss: 0.6698 - val_accuracy: 0.6145\n",
            "Epoch 58/100\n",
            "33/33 [==============================] - 0s 4ms/step - loss: 0.6574 - accuracy: 0.6246 - val_loss: 0.6697 - val_accuracy: 0.6145\n",
            "Epoch 59/100\n",
            "33/33 [==============================] - 0s 3ms/step - loss: 0.6573 - accuracy: 0.6246 - val_loss: 0.6696 - val_accuracy: 0.6145\n",
            "Epoch 60/100\n",
            "33/33 [==============================] - 0s 3ms/step - loss: 0.6572 - accuracy: 0.6246 - val_loss: 0.6696 - val_accuracy: 0.6145\n",
            "Epoch 61/100\n",
            "33/33 [==============================] - 0s 4ms/step - loss: 0.6571 - accuracy: 0.6246 - val_loss: 0.6696 - val_accuracy: 0.6145\n",
            "Epoch 62/100\n",
            "33/33 [==============================] - 0s 4ms/step - loss: 0.6570 - accuracy: 0.6246 - val_loss: 0.6695 - val_accuracy: 0.6145\n",
            "Epoch 63/100\n",
            "33/33 [==============================] - 0s 4ms/step - loss: 0.6570 - accuracy: 0.6246 - val_loss: 0.6695 - val_accuracy: 0.6145\n",
            "Epoch 64/100\n",
            "33/33 [==============================] - 0s 4ms/step - loss: 0.6569 - accuracy: 0.6246 - val_loss: 0.6694 - val_accuracy: 0.6145\n",
            "Epoch 65/100\n",
            "33/33 [==============================] - 0s 4ms/step - loss: 0.6568 - accuracy: 0.6246 - val_loss: 0.6693 - val_accuracy: 0.6145\n",
            "Epoch 66/100\n",
            "33/33 [==============================] - 0s 4ms/step - loss: 0.6567 - accuracy: 0.6246 - val_loss: 0.6693 - val_accuracy: 0.6145\n",
            "Epoch 67/100\n",
            "33/33 [==============================] - 0s 3ms/step - loss: 0.6566 - accuracy: 0.6246 - val_loss: 0.6694 - val_accuracy: 0.6145\n",
            "Epoch 68/100\n",
            "33/33 [==============================] - 0s 3ms/step - loss: 0.6566 - accuracy: 0.6246 - val_loss: 0.6693 - val_accuracy: 0.6145\n",
            "Epoch 69/100\n",
            "33/33 [==============================] - 0s 3ms/step - loss: 0.6565 - accuracy: 0.6246 - val_loss: 0.6694 - val_accuracy: 0.6145\n",
            "Epoch 70/100\n",
            "33/33 [==============================] - 0s 3ms/step - loss: 0.6564 - accuracy: 0.6246 - val_loss: 0.6695 - val_accuracy: 0.6145\n",
            "Epoch 71/100\n",
            "33/33 [==============================] - 0s 3ms/step - loss: 0.6563 - accuracy: 0.6246 - val_loss: 0.6693 - val_accuracy: 0.6145\n",
            "Epoch 72/100\n",
            "33/33 [==============================] - 0s 3ms/step - loss: 0.6563 - accuracy: 0.6246 - val_loss: 0.6692 - val_accuracy: 0.6145\n",
            "Epoch 73/100\n",
            "33/33 [==============================] - 0s 4ms/step - loss: 0.6562 - accuracy: 0.6246 - val_loss: 0.6693 - val_accuracy: 0.6145\n",
            "Epoch 74/100\n",
            "33/33 [==============================] - 0s 3ms/step - loss: 0.6562 - accuracy: 0.6246 - val_loss: 0.6692 - val_accuracy: 0.6145\n",
            "Epoch 75/100\n",
            "33/33 [==============================] - 0s 3ms/step - loss: 0.6561 - accuracy: 0.6246 - val_loss: 0.6694 - val_accuracy: 0.6145\n",
            "Epoch 76/100\n",
            "33/33 [==============================] - 0s 3ms/step - loss: 0.6560 - accuracy: 0.6246 - val_loss: 0.6692 - val_accuracy: 0.6145\n",
            "Epoch 77/100\n",
            "33/33 [==============================] - 0s 3ms/step - loss: 0.6560 - accuracy: 0.6246 - val_loss: 0.6690 - val_accuracy: 0.6145\n",
            "Epoch 78/100\n",
            "33/33 [==============================] - 0s 3ms/step - loss: 0.6559 - accuracy: 0.6246 - val_loss: 0.6691 - val_accuracy: 0.6145\n",
            "Epoch 79/100\n",
            "33/33 [==============================] - 0s 3ms/step - loss: 0.6558 - accuracy: 0.6246 - val_loss: 0.6692 - val_accuracy: 0.6145\n",
            "Epoch 80/100\n",
            "33/33 [==============================] - 0s 3ms/step - loss: 0.6558 - accuracy: 0.6246 - val_loss: 0.6692 - val_accuracy: 0.6145\n",
            "Epoch 81/100\n",
            "33/33 [==============================] - 0s 3ms/step - loss: 0.6557 - accuracy: 0.6246 - val_loss: 0.6692 - val_accuracy: 0.6145\n",
            "Epoch 82/100\n",
            "33/33 [==============================] - 0s 4ms/step - loss: 0.6557 - accuracy: 0.6246 - val_loss: 0.6692 - val_accuracy: 0.6145\n",
            "Epoch 83/100\n",
            "33/33 [==============================] - 0s 3ms/step - loss: 0.6556 - accuracy: 0.6246 - val_loss: 0.6692 - val_accuracy: 0.6145\n",
            "Epoch 84/100\n",
            "33/33 [==============================] - 0s 3ms/step - loss: 0.6556 - accuracy: 0.6246 - val_loss: 0.6692 - val_accuracy: 0.6145\n",
            "Epoch 85/100\n",
            "33/33 [==============================] - 0s 3ms/step - loss: 0.6556 - accuracy: 0.6246 - val_loss: 0.6691 - val_accuracy: 0.6145\n",
            "Epoch 86/100\n",
            "33/33 [==============================] - 0s 3ms/step - loss: 0.6555 - accuracy: 0.6246 - val_loss: 0.6690 - val_accuracy: 0.6145\n",
            "Epoch 87/100\n",
            "33/33 [==============================] - 0s 3ms/step - loss: 0.6555 - accuracy: 0.6246 - val_loss: 0.6689 - val_accuracy: 0.6145\n",
            "Epoch 88/100\n",
            "33/33 [==============================] - 0s 4ms/step - loss: 0.6555 - accuracy: 0.6246 - val_loss: 0.6689 - val_accuracy: 0.6145\n",
            "Epoch 89/100\n",
            "33/33 [==============================] - 0s 3ms/step - loss: 0.6555 - accuracy: 0.6246 - val_loss: 0.6689 - val_accuracy: 0.6145\n",
            "Epoch 90/100\n",
            "33/33 [==============================] - 0s 4ms/step - loss: 0.6554 - accuracy: 0.6246 - val_loss: 0.6689 - val_accuracy: 0.6145\n",
            "Epoch 91/100\n",
            "33/33 [==============================] - 0s 3ms/step - loss: 0.6554 - accuracy: 0.6246 - val_loss: 0.6688 - val_accuracy: 0.6145\n",
            "Epoch 92/100\n",
            "33/33 [==============================] - 0s 3ms/step - loss: 0.6553 - accuracy: 0.6246 - val_loss: 0.6687 - val_accuracy: 0.6145\n",
            "Epoch 93/100\n",
            "33/33 [==============================] - 0s 3ms/step - loss: 0.6553 - accuracy: 0.6246 - val_loss: 0.6688 - val_accuracy: 0.6145\n",
            "Epoch 94/100\n",
            "33/33 [==============================] - 0s 3ms/step - loss: 0.6553 - accuracy: 0.6246 - val_loss: 0.6687 - val_accuracy: 0.6145\n",
            "Epoch 95/100\n",
            "33/33 [==============================] - 0s 3ms/step - loss: 0.6553 - accuracy: 0.6246 - val_loss: 0.6686 - val_accuracy: 0.6145\n",
            "Epoch 96/100\n",
            "33/33 [==============================] - 0s 4ms/step - loss: 0.6552 - accuracy: 0.6246 - val_loss: 0.6686 - val_accuracy: 0.6145\n",
            "Epoch 97/100\n",
            "33/33 [==============================] - 0s 3ms/step - loss: 0.6552 - accuracy: 0.6246 - val_loss: 0.6685 - val_accuracy: 0.6145\n",
            "Epoch 98/100\n",
            "33/33 [==============================] - 0s 3ms/step - loss: 0.6552 - accuracy: 0.6246 - val_loss: 0.6685 - val_accuracy: 0.6145\n",
            "Epoch 99/100\n",
            "33/33 [==============================] - 0s 4ms/step - loss: 0.6552 - accuracy: 0.6246 - val_loss: 0.6684 - val_accuracy: 0.6145\n",
            "Epoch 100/100\n",
            "33/33 [==============================] - 0s 4ms/step - loss: 0.6552 - accuracy: 0.6246 - val_loss: 0.6684 - val_accuracy: 0.6145\n"
          ]
        }
      ]
    },
    {
      "cell_type": "code",
      "source": [
        "import matplotlib.pyplot as plt\n",
        "\n",
        "# Plot the training and validation loss and accuracy\n",
        "train_loss = history.history['loss']\n",
        "val_loss = history.history['val_loss']\n",
        "train_acc = history.history['accuracy']\n",
        "val_acc = history.history['val_accuracy']\n",
        "\n",
        "plt.figure(figsize=(8, 4))\n",
        "plt.subplot(1, 2, 1)\n",
        "plt.plot(train_loss, label='train')\n",
        "plt.plot(val_loss, label='val')\n",
        "plt.legend()\n",
        "plt.title('Loss')\n",
        "\n",
        "plt.subplot(1, 2, 2)\n",
        "plt.plot(train_acc, label='train')\n",
        "plt.plot(val_acc, label='val')\n",
        "plt.legend()\n",
        "plt.title('Accuracy')\n",
        "plt.show()\n"
      ],
      "metadata": {
        "colab": {
          "base_uri": "https://localhost:8080/",
          "height": 391
        },
        "id": "lkgf5iRGLnrg",
        "outputId": "ac2b1cde-9fa5-4092-f79d-8941ac57ecca"
      },
      "execution_count": null,
      "outputs": [
        {
          "output_type": "display_data",
          "data": {
            "text/plain": [
              "<Figure size 800x400 with 2 Axes>"
            ],
            "image/png": "[encoded data removed]"
          },
          "metadata": {}
        }
      ]
    },
    {
      "cell_type": "code",
      "source": [
        "# Evaluate the model on the test data\n",
        "loss, accuracy = model_7.evaluate(X_test, y_test, verbose=0)\n",
        "print('Model 7 Accuracy: %.2f' % (accuracy*100))"
      ],
      "metadata": {
        "colab": {
          "base_uri": "https://localhost:8080/"
        },
        "id": "H8EP7BMrLtcj",
        "outputId": "5858ee5f-93a9-4130-aba4-9406991a439f"
      },
      "execution_count": null,
      "outputs": [
        {
          "output_type": "stream",
          "name": "stdout",
          "text": [
            "Model 7 Accuracy: 61.45\n"
          ]
        }
      ]
    },
    {
      "cell_type": "markdown",
      "source": [
        "# Model 8: Logistic regression using SKLEARN"
      ],
      "metadata": {
        "id": "xHakBBQaNWLw"
      }
    },
    {
      "cell_type": "code",
      "source": [
        "from sklearn.linear_model import LogisticRegression\n",
        "from sklearn.model_selection import train_test_split\n",
        "from sklearn.metrics import accuracy_score, confusion_matrix\n",
        "import pandas as pd\n",
        "\n",
        "\n",
        "# Create a logistic regression model\n",
        "model_8 = LogisticRegression()\n",
        "\n",
        "# Fit the model to the training data\n",
        "model_8.fit(X_train, y_train)\n",
        "\n",
        "# Predict the target variable for the test data\n",
        "y_pred = model_8.predict(X_test)\n",
        "\n",
        "# Evaluate the accuracy of the model\n",
        "accuracy = accuracy_score(y_test, y_pred)\n",
        "print('Logistic Regression Accuracy:%.2f'% (accuracy*100))\n",
        "\n",
        "\n"
      ],
      "metadata": {
        "colab": {
          "base_uri": "https://localhost:8080/"
        },
        "id": "rUsbnDtnL4aW",
        "outputId": "e42280f4-b187-4b73-d895-239c4f5cb002"
      },
      "execution_count": null,
      "outputs": [
        {
          "output_type": "stream",
          "name": "stdout",
          "text": [
            "Logistic Regression Accuracy:85.11\n"
          ]
        }
      ]
    },
    {
      "cell_type": "markdown",
      "source": [
        "# Model 9: Random Forest"
      ],
      "metadata": {
        "id": "X7HPUARpSg8i"
      }
    },
    {
      "cell_type": "code",
      "source": [
        "from sklearn.ensemble import RandomForestClassifier\n",
        "# Create a random forest classifier\n",
        "model_9 = RandomForestClassifier(n_estimators=100, max_depth=5, random_state=42)\n",
        "# Fit the model to the training data\n",
        "model_9.fit(X_train, y_train)\n",
        "\n",
        "# Predict the target variable for the test data\n",
        "y_pred = model_9.predict(X_test)\n",
        "\n",
        "# Evaluate the accuracy of the model\n",
        "accuracy = accuracy_score(y_test, y_pred)\n",
        "print('Random forest Accuracy:%.2f'% (accuracy*100))\n"
      ],
      "metadata": {
        "colab": {
          "base_uri": "https://localhost:8080/"
        },
        "id": "nz5dAYrAPXzE",
        "outputId": "66fafa1b-269c-49dd-ef72-16dd22503334"
      },
      "execution_count": null,
      "outputs": [
        {
          "output_type": "stream",
          "name": "stdout",
          "text": [
            "Random forest Accuracy:85.50\n"
          ]
        }
      ]
    },
    {
      "cell_type": "code",
      "source": [],
      "metadata": {
        "id": "jcp3nAoGS6rZ"
      },
      "execution_count": null,
      "outputs": []
    }
  ]
}